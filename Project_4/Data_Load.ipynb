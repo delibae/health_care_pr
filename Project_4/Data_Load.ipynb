{
  "nbformat": 4,
  "nbformat_minor": 0,
  "metadata": {
    "colab": {
      "provenance": [],
      "mount_file_id": "1s9-N8f7hSamE1H4O4vZFTpaVKyimU6db",
      "authorship_tag": "ABX9TyNuBZ9EWidt46wPtUy18MDy",
      "include_colab_link": true
    },
    "kernelspec": {
      "name": "python3",
      "display_name": "Python 3"
    },
    "language_info": {
      "name": "python"
    }
  },
  "cells": [
    {
      "cell_type": "markdown",
      "metadata": {
        "id": "view-in-github",
        "colab_type": "text"
      },
      "source": [
        "<a href=\"https://colab.research.google.com/github/delibae/health_care_pr/blob/minsoo/Data_Load.ipynb\" target=\"_parent\"><img src=\"https://colab.research.google.com/assets/colab-badge.svg\" alt=\"Open In Colab\"/></a>"
      ]
    },
    {
      "cell_type": "code",
      "execution_count": 14,
      "metadata": {
        "id": "ZVoqZKqdTGkm"
      },
      "outputs": [],
      "source": [
        "import cv2\n",
        "import numpy as np\n",
        "import glob\n",
        "import pickle\n",
        "import json\n",
        "import os\n",
        "from matplotlib import pyplot as plt\n",
        "from tqdm import tqdm"
      ]
    },
    {
      "cell_type": "code",
      "source": [
        "input_path = '/content/drive/MyDrive/data/두피/Image_hairloss/*.jpg'\n",
        "file_list = [f for f in glob.glob(input_path)] "
      ],
      "metadata": {
        "id": "hANb5_5tzbB7"
      },
      "execution_count": 7,
      "outputs": []
    },
    {
      "cell_type": "code",
      "source": [
        "def make_path(path) :\n",
        "\n",
        "    result = []\n",
        "\n",
        "    for i in path :\n",
        "        \n",
        "        for j in glob.glob(i) :\n",
        "            result.append(j)\n",
        "\n",
        "    return result"
      ],
      "metadata": {
        "id": "cPuNFVTlQQ6G"
      },
      "execution_count": null,
      "outputs": []
    },
    {
      "cell_type": "code",
      "source": [
        "def handle_image(path) :\n",
        "\n",
        "    reshaped_image = []\n",
        "\n",
        "    for i in tqdm(path) :\n",
        "        \n",
        "        image_bgr = cv2.imread(i, cv2.IMREAD_COLOR)\n",
        "        image_rgb = cv2.cvtColor(image_bgr, cv2.COLOR_BGR2RGB)\n",
        "        image_50x50 = cv2.resize(image_rgb, (50, 50))\n",
        "\n",
        "        reshaped_image.append(image_50x50)\n",
        "\n",
        "    return reshaped_image\n",
        "\n",
        "image = handle_image(file_list)\n",
        "iamge = np.array(image)"
      ],
      "metadata": {
        "colab": {
          "base_uri": "https://localhost:8080/"
        },
        "id": "vA2iIDLN0M81",
        "outputId": "89a23329-fad4-47eb-8ab0-71d245a204f1"
      },
      "execution_count": 15,
      "outputs": [
        {
          "output_type": "stream",
          "name": "stderr",
          "text": [
            "100%|██████████| 3813/3813 [17:15<00:00,  3.68it/s]\n"
          ]
        }
      ]
    },
    {
      "cell_type": "code",
      "source": [
        "input_path = '/content/drive/MyDrive/data/두피/Label_hairloss/*.json'\n",
        "file_list1 = [f for f in glob.glob(input_path)]\n",
        "\n",
        "file_list1"
      ],
      "metadata": {
        "id": "--jkjuUp6L81"
      },
      "execution_count": null,
      "outputs": []
    },
    {
      "cell_type": "code",
      "source": [
        "def handle_json(path) :\n",
        "\n",
        "    result = []\n",
        "\n",
        "    for p in tqdm(path) :\n",
        "        with open(p, 'r',encoding=\"UTF-8\") as file:\n",
        "            data = json.load(file)\n",
        "            data_path = data['image_file_name']\n",
        "            value = []\n",
        "            for i in range(1, 7) :\n",
        "                k = f'value_{i}'\n",
        "                value.append(int(data[k]))\n",
        "          \n",
        "            result.append(value)\n",
        "\n",
        "    return result\n",
        "        \n",
        "label = handle_json(file_list1)\n",
        "label = result2 = np.array(label)"
      ],
      "metadata": {
        "colab": {
          "base_uri": "https://localhost:8080/"
        },
        "id": "IK7ZNpR73-bv",
        "outputId": "1f80ff02-97fb-4763-d528-979eb388a122"
      },
      "execution_count": 35,
      "outputs": [
        {
          "output_type": "stream",
          "name": "stderr",
          "text": [
            "100%|██████████| 3813/3813 [16:38<00:00,  3.82it/s]\n"
          ]
        }
      ]
    },
    {
      "cell_type": "code",
      "source": [
        "def softmax(data) :\n",
        "    exp_data = np.exp(data)\n",
        "\n",
        "    return exp_data / np.sum(exp_data, axis=1, keepdims=True)\n",
        "\n",
        "softmax_data = softmax(result2)\n",
        "\n",
        "assert np.isclose(np.sum(softmax_data, axis=1), np.ones(result2.shape[0])).all()\n",
        "\n",
        "result2 = softmax_data"
      ],
      "metadata": {
        "id": "VnClgDKqInnH"
      },
      "execution_count": 51,
      "outputs": []
    },
    {
      "cell_type": "code",
      "source": [
        "result2.shape"
      ],
      "metadata": {
        "colab": {
          "base_uri": "https://localhost:8080/"
        },
        "id": "_XJyvtW7JK9M",
        "outputId": "64dbed1a-100c-40c3-dabb-eb284dd1af4b"
      },
      "execution_count": 57,
      "outputs": [
        {
          "output_type": "execute_result",
          "data": {
            "text/plain": [
              "(3813, 6)"
            ]
          },
          "metadata": {},
          "execution_count": 57
        }
      ]
    },
    {
      "cell_type": "code",
      "source": [
        "import torch\n",
        "from torch.utils.data import TensorDataset, DataLoader\n",
        "\n",
        "image = torch.tensor(image)\n",
        "label = torch.tensor(label)"
      ],
      "metadata": {
        "id": "9Fh74LVTLAs0"
      },
      "execution_count": 61,
      "outputs": []
    },
    {
      "cell_type": "code",
      "source": [
        "dataset = TensorDataset(image, label)\n",
        "dataloader = DataLoader(dataset, batch_size=32, shuffle=True)"
      ],
      "metadata": {
        "id": "_t4UMDwwLG2M"
      },
      "execution_count": null,
      "outputs": []
    }
  ]
}
