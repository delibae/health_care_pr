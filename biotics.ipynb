{
  "nbformat": 4,
  "nbformat_minor": 0,
  "metadata": {
    "colab": {
      "provenance": [],
      "mount_file_id": "1JbeEgEmPIvDQewVoDJxUAm-WwXZYOo_i",
      "authorship_tag": "ABX9TyPv6RsCnc+PA9eMrlNLNeo/",
      "include_colab_link": true
    },
    "kernelspec": {
      "name": "python3",
      "display_name": "Python 3"
    },
    "language_info": {
      "name": "python"
    }
  },
  "cells": [
    {
      "cell_type": "markdown",
      "metadata": {
        "id": "view-in-github",
        "colab_type": "text"
      },
      "source": [
        "<a href=\"https://colab.research.google.com/github/delibae/health_care_pr/blob/lyy/biotics.ipynb\" target=\"_parent\"><img src=\"https://colab.research.google.com/assets/colab-badge.svg\" alt=\"Open In Colab\"/></a>"
      ]
    },
    {
      "cell_type": "code",
      "execution_count": null,
      "metadata": {
        "colab": {
          "base_uri": "https://localhost:8080/"
        },
        "id": "6Ca0YptQo9mA",
        "outputId": "92626d58-7153-495a-c90a-ff5f146674d8"
      },
      "outputs": [
        {
          "output_type": "stream",
          "name": "stdout",
          "text": [
            "Drive already mounted at /content/drive; to attempt to forcibly remount, call drive.mount(\"/content/drive\", force_remount=True).\n"
          ]
        }
      ],
      "source": [
        "from google.colab import drive\n",
        "drive.mount('/content/drive')"
      ]
    },
    {
      "cell_type": "code",
      "source": [
        "import json\n",
        "example_file = open('/content/drive/MyDrive/example/K-016235-027733-029667-031885_0_2_0_2_70_000_200.json')\n",
        "json_file = json.load(example_file)"
      ],
      "metadata": {
        "id": "QWAAz-8uqu0B"
      },
      "execution_count": null,
      "outputs": []
    },
    {
      "cell_type": "code",
      "source": [
        "json_file.get('images')"
      ],
      "metadata": {
        "id": "w2S6lblurUPY"
      },
      "execution_count": null,
      "outputs": []
    },
    {
      "cell_type": "code",
      "source": [
        "import os\n",
        "mother_path = '/content/drive/MyDrive/example'\n",
        "folder_list = os.listdir(mother_path)\n",
        "for folder in folder_list:\n",
        "  print(mother_path + folder)"
      ],
      "metadata": {
        "id": "sxhaCEnFrXEJ"
      },
      "execution_count": null,
      "outputs": []
    },
    {
      "cell_type": "markdown",
      "source": [
        "# 새 섹션"
      ],
      "metadata": {
        "id": "gfRKbtWZyRI_"
      }
    }
  ]
}