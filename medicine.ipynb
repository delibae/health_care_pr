{
  "cells": [
    {
      "cell_type": "markdown",
      "metadata": {
        "colab_type": "text",
        "id": "view-in-github"
      },
      "source": [
        "<a href=\"https://colab.research.google.com/github/delibae/health_care_pr/blob/pr2%2Fbhj/medicine.ipynb\" target=\"_parent\"><img src=\"https://colab.research.google.com/assets/colab-badge.svg\" alt=\"Open In Colab\"/></a>"
      ]
    },
    {
      "cell_type": "markdown",
      "metadata": {
        "id": "cAofyuZjka4R"
      },
      "source": [
        "# Data Proprecessing"
      ]
    },
    {
      "cell_type": "code",
      "execution_count": null,
      "metadata": {
        "id": "c3_LXu3Suf6l"
      },
      "outputs": [],
      "source": [
        "import pandas as pd"
      ]
    },
    {
      "cell_type": "markdown",
      "metadata": {
        "id": "oxkghkajlY7Q"
      },
      "source": [
        "## Create DataLoader"
      ]
    },
    {
      "cell_type": "markdown",
      "metadata": {
        "id": "VD3spDHAlrXb"
      },
      "source": [
        "## define get_img(cv2)"
      ]
    },
    {
      "cell_type": "code",
      "execution_count": null,
      "metadata": {
        "id": "WITlJzm8kQ-T"
      },
      "outputs": [],
      "source": [
        "import cv2\n",
        "\n",
        "def get_img_list(series) :\n",
        "\n",
        "    \n",
        "    reshaped_image_list = []\n",
        "\n",
        "    for file_name in series :\n",
        "        image_path = file_name\n",
        "        image = cv2.imread(image_path, cv2.IMREAD_COLOR)\n",
        "\n",
        "        image = cv2.resize(image, dsize=(100, 100), interpolation=cv2.INTER_AREA)\n",
        "\n",
        "        reshaped_image = image.reshape(3,100,100) #reshape\n",
        "        reshaped_image_list.append(reshaped_image)\n",
        "        \n",
        "    return reshaped_image_list"
      ]
    },
    {
      "cell_type": "markdown",
      "metadata": {
        "id": "W_XZOc2ylurC"
      },
      "source": [
        "# define get_transform(normalize)"
      ]
    },
    {
      "cell_type": "code",
      "execution_count": null,
      "metadata": {
        "id": "UCBOYaANlgRq"
      },
      "outputs": [],
      "source": [
        "def get_transform():\n",
        "\n",
        "    t = list()\n",
        "    t.append(transforms.ToTensor())\n",
        "\n",
        "    t.append(transforms.Normalize(mean=(.5),std=(.5)))\n",
        "    \n",
        "    return transforms.Compose(t)"
      ]
    },
    {
      "cell_type": "markdown",
      "metadata": {
        "id": "AN8rNJUIlxUK"
      },
      "source": [
        "## define dataset"
      ]
    },
    {
      "cell_type": "code",
      "execution_count": null,
      "metadata": {
        "id": "TCZgsxwMlioe"
      },
      "outputs": [],
      "source": [
        "class CustomDataset(Dataset):\n",
        "    def __init__(self, img_list, label=None):\n",
        "        self.transform = get_transform()\n",
        "        self.img_list = img_list\n",
        "        self.label = label\n",
        "        self.transformed_img_list = list(map(self.transform, self.img_list))\n",
        "\n",
        "    def __len__(self):\n",
        "        return len(self.img_list)\n",
        "    \n",
        "    def __getitem__(self, i):\n",
        "        \n",
        "        x_data = self.transformed_img_list[i]\n",
        "\n",
        "        return x_data, torch.tensor(self.label[i],dtype = torch.long)"
      ]
    },
    {
      "cell_type": "markdown",
      "metadata": {
        "id": "Ko7Ya1sdyDWG"
      },
      "source": [
        "## for local save image load"
      ]
    },
    {
      "cell_type": "code",
      "execution_count": null,
      "metadata": {
        "id": "s59YuKgAyF92"
      },
      "outputs": [],
      "source": [
        "import pickle\n",
        "import gzip\n",
        "\n",
        "# to define\n",
        "file_path_l = []\n",
        "\n",
        "data = get_img_list(file_path_l)\n",
        "\n",
        "with gzip.open('ImageFile.pickle', 'wb') as f:\n",
        "    pickle.dump(data, f)"
      ]
    },
    {
      "cell_type": "markdown",
      "metadata": {
        "id": "MhP77XfElzJt"
      },
      "source": [
        "## define dataloader"
      ]
    },
    {
      "cell_type": "code",
      "execution_count": null,
      "metadata": {
        "id": "u_KXOzR7ljxy"
      },
      "outputs": [],
      "source": [
        "import math\n",
        "\n",
        "def get_dataloader(x, y):\n",
        "    img_list = get_img_list(x)\n",
        "    dataset = CustomDataset(img_list=img_list, label=y)\n",
        "    dataloader = torch.utils.data.DataLoader(dataset=dataset, batch_size=batch_size)\n",
        "    total_batch = math.ceil(len(dataset)/batch_size)\n",
        "\n",
        "    return dataloader, total_batch"
      ]
    },
    {
      "cell_type": "markdown",
      "metadata": {
        "id": "wwQH7YfYtHSV"
      },
      "source": [
        "## create dataloader"
      ]
    },
    {
      "cell_type": "code",
      "execution_count": null,
      "metadata": {
        "id": "qQ5LRxqMtJKv"
      },
      "outputs": [],
      "source": [
        "batch_size = 64\n",
        "\n",
        "x_train = train['file_name']\n",
        "x_valid = valid['file_name']\n",
        "y_train = train['label']\n",
        "y_valid = valid['label']\n",
        "\n",
        "train_dataloader, train_total_batch = get_dataloader(x_train, y_train)\n",
        "valid_dataloader, valid_total_batch = get_dataloader(x_valid, y_valid)\n",
        "\n",
        "\n"
      ]
    },
    {
      "cell_type": "markdown",
      "metadata": {
        "id": "5-jVQONBkgIg"
      },
      "source": [
        "# Model"
      ]
    },
    {
      "cell_type": "code",
      "execution_count": null,
      "metadata": {
        "id": "M6k77r-NklYZ"
      },
      "outputs": [],
      "source": [
        "import torch\n",
        "import torchvision\n",
        "from torch.utils.data import Dataset\n",
        "import torchvision.transforms as transforms\n",
        "from sklearn.model_selection import StratifiedKFold\n",
        "import torch.nn as nn\n",
        "import torch.nn.functional as F\n",
        "import torch.optim as optim"
      ]
    },
    {
      "cell_type": "markdown",
      "metadata": {
        "id": "iefgA3olkvS9"
      },
      "source": [
        "## model structure"
      ]
    },
    {
      "cell_type": "code",
      "execution_count": null,
      "metadata": {
        "id": "DPxrXWpQki9e"
      },
      "outputs": [],
      "source": [
        "# class CNN(nn.Module):\n",
        "#     def __init__(self):\n",
        "#         super(CNN, self).__init__()\n",
        "#         self.conv1 = nn.Conv2d(in_channels=3, out_channels=20, kernel_size=5, stride=1)\n",
        "#         self.conv2 = nn.Conv2d(in_channels=20, out_channels=50, kernel_size=5, stride=1)\n",
        "#         self.fc1 = nn.Linear(22 * 22 * 50, 500)\n",
        "#         self.fc2 = nn.Linear(500, 6)\n",
        "\n",
        "#     def forward(self, x):\n",
        "#         x = F.relu(self.conv1(x))\n",
        "#         x = F.max_pool2d(x, kernel_size=2, stride=2)\n",
        "#         x = F.relu(self.conv2(x))\n",
        "#         x = F.max_pool2d(x, kernel_size=2, stride=2)\n",
        "#         x = x.view(-1, 50*22*22)\n",
        "#         x = F.relu(self.fc1(x))\n",
        "#         x = self.fc2(x)\n",
        "#         return x"
      ]
    },
    {
      "cell_type": "code",
      "execution_count": null,
      "metadata": {
        "id": "ZivOSIUVoEY2"
      },
      "outputs": [],
      "source": [
        "class VGG(nn.Module):\n",
        "    def __init__(self):\n",
        "        super(VGG, self).__init__()\n",
        "        self.conv = nn.Sequential(\n",
        "\n",
        "            nn.Conv2d(3, 64, 3, padding=1),nn.LeakyReLU(0.2),\n",
        "            nn.Conv2d(64, 64, 3, padding=1),nn.LeakyReLU(0.2),\n",
        "            nn.MaxPool2d(2, 2),\n",
        "\n",
        "            nn.Conv2d(64, 128, 3, padding=1),nn.LeakyReLU(0.2),\n",
        "            nn.Conv2d(128, 128, 3, padding=1),nn.LeakyReLU(0.2),\n",
        "            nn.MaxPool2d(2, 2),\n",
        "\n",
        "            nn.Conv2d(128, 256, 3, padding=1),nn.LeakyReLU(0.2),\n",
        "            nn.Conv2d(256, 256, 3, padding=1),nn.LeakyReLU(0.2),\n",
        "            nn.Conv2d(256, 256, 3, padding=1),nn.LeakyReLU(0.2),\n",
        "            nn.MaxPool2d(2, 2),\n",
        "\n",
        "            nn.Conv2d(256, 512, 3, padding=1),nn.LeakyReLU(0.2),\n",
        "            nn.Conv2d(512, 512, 3, padding=1),nn.LeakyReLU(0.2),\n",
        "            nn.Conv2d(512, 512, 3, padding=1),nn.LeakyReLU(0.2),\n",
        "            nn.MaxPool2d(2, 2),\n",
        "\n",
        "            nn.Conv2d(512, 512, 3, padding=1),nn.LeakyReLU(0.2),\n",
        "            nn.Conv2d(512, 512, 3, padding=1),nn.LeakyReLU(0.2),\n",
        "            nn.Conv2d(512, 512, 3, padding=1),nn.LeakyReLU(0.2),\n",
        "            nn.MaxPool2d(2, 2)\n",
        "        )\n",
        "        #512 4 4\n",
        "        self.avg_pool = nn.AvgPool2d(4)\n",
        "        #512 1 1\n",
        "        self.classifier = nn.Linear(512, 1000)\n",
        "        \"\"\"\n",
        "        self.fc1 = nn.Linear(512*2*2,4096)\n",
        "        self.fc2 = nn.Linear(4096,4096)\n",
        "        self.fc3 = nn.Linear(4096,10)\n",
        "        \"\"\"\n",
        "\n",
        "    def forward(self, x):\n",
        "        print(x.shape)\n",
        "        features = self.conv(x)\n",
        "        print(x.shape)\n",
        "        x = self.avg_pool(features)\n",
        "        print(x.shape)\n",
        "        #print(avg_pool.size())\n",
        "        x = x.view(features.size(0), -1)\n",
        "        print(x.shape)\n",
        "        #print(flatten.size())\n",
        "        x = self.classifier(x)\n",
        "        print(x.shape)\n",
        "        #x = self.softmax(x)\n",
        "        return x, features\n",
        "\n"
      ]
    },
    {
      "cell_type": "markdown",
      "metadata": {
        "id": "MOxLwbd4tmdt"
      },
      "source": [
        "## device"
      ]
    },
    {
      "cell_type": "code",
      "execution_count": null,
      "metadata": {
        "colab": {
          "base_uri": "https://localhost:8080/"
        },
        "id": "XglXFt1itnfO",
        "outputId": "e3152aaa-2b2e-42df-9ede-133b154dd14b"
      },
      "outputs": [
        {
          "name": "stdout",
          "output_type": "stream",
          "text": [
            "cpu\n"
          ]
        }
      ],
      "source": [
        "device = torch.device(\"cuda:0\" if torch.cuda.is_available() else \"cpu\")\n",
        "print(device)"
      ]
    },
    {
      "cell_type": "markdown",
      "metadata": {
        "id": "KGYcG5OVtdJF"
      },
      "source": [
        "## create model(loss function / optimizer)"
      ]
    },
    {
      "cell_type": "code",
      "execution_count": null,
      "metadata": {
        "id": "qZP1qdqSo5WR"
      },
      "outputs": [],
      "source": [
        "model = VGG().to(device)\n",
        "\n",
        "model.train()\n",
        "criterion = torch.nn.CrossEntropyLoss().to(device)\n",
        "optimizer = optim.SGD(model.parameters(), lr=0.001)"
      ]
    },
    {
      "cell_type": "markdown",
      "metadata": {
        "id": "6b9f0E9rt1D4"
      },
      "source": [
        "## test model"
      ]
    },
    {
      "cell_type": "code",
      "execution_count": null,
      "metadata": {
        "id": "Q1KERoX4o71Q"
      },
      "outputs": [],
      "source": [
        "inp = torch.randn(2,3,128,128)\n",
        "model(inp)"
      ]
    },
    {
      "cell_type": "markdown",
      "metadata": {
        "id": "JcyVGHAtkyN1"
      },
      "source": [
        "# Train"
      ]
    },
    {
      "cell_type": "markdown",
      "metadata": {
        "id": "l9r4m5UPlCkU"
      },
      "source": [
        "## start train"
      ]
    },
    {
      "cell_type": "code",
      "execution_count": null,
      "metadata": {
        "id": "9HJEnNImkxa7"
      },
      "outputs": [],
      "source": [
        "loss_l = []\n",
        "validloss_l = []\n",
        "epoch_num = 30\n",
        "\n",
        "for epoch in range(epoch_num):\n",
        "  for index, (data, target) in enumerate(train_dataloader):\n",
        "    data = data.to(device)\n",
        "    target = target.to(device)\n",
        "    optimizer.zero_grad()  # 기울기 초기화\n",
        "    output = model(data)\n",
        "    loss = criterion(output, target)\n",
        "    loss.backward()  # 역전파\n",
        "    optimizer.step()\n",
        "\n",
        "  for   index, (data, target) in enumerate(valid_dataloader):\n",
        "    data = data.to(device)\n",
        "    target = target.to(device)\n",
        "    output = model(data)\n",
        "    valid_loss = criterion(output,target)\n",
        "\n",
        "  print(f\"loss of {epoch} epoch, {loss.item():.3f} / valid loss: {valid_loss:.3f}\")\n",
        "  loss_l.append(loss.item())\n",
        "  validloss_l.append(valid_loss.item())\n"
      ]
    },
    {
      "cell_type": "markdown",
      "metadata": {
        "id": "R25u9FWXk_6P"
      },
      "source": [
        "## plot loss"
      ]
    },
    {
      "cell_type": "code",
      "execution_count": null,
      "metadata": {
        "id": "RB5VGIHQuVC9"
      },
      "outputs": [],
      "source": [
        "import matplotlib.pyplot as plt"
      ]
    },
    {
      "cell_type": "code",
      "execution_count": null,
      "metadata": {
        "id": "pUiT5sJJlBOa"
      },
      "outputs": [],
      "source": [
        "plt.plot(loss_l, label = \"train loss\")\n",
        "plt.plot(validloss_l, label = \"valid loss\")"
      ]
    },
    {
      "cell_type": "markdown",
      "metadata": {
        "id": "Rsg7RJXwlFIQ"
      },
      "source": [
        "# Model Analysis"
      ]
    },
    {
      "cell_type": "markdown",
      "metadata": {
        "id": "nhD4e_HvlISO"
      },
      "source": [
        "## Confusion Matrix"
      ]
    },
    {
      "cell_type": "code",
      "execution_count": null,
      "metadata": {
        "id": "cEhaYi5vlHzP"
      },
      "outputs": [],
      "source": [
        "model.eval()"
      ]
    },
    {
      "cell_type": "code",
      "execution_count": null,
      "metadata": {
        "id": "Ah5ePDBTlMlJ"
      },
      "outputs": [],
      "source": [
        "y_pred = []\n",
        "y_true = []\n",
        "\n",
        "# iterate over test data\n",
        "for index, (inputs, labels) in enumerate(valid_dataloader):\n",
        "        output = model(inputs) # Feed Network\n",
        "\n",
        "        output = (torch.max(torch.exp(output), 1)[1]).data.cpu().numpy()\n",
        "        y_pred.extend(output) # Save Prediction\n",
        "        \n",
        "        labels = labels.data.cpu().numpy()\n",
        "        y_true.extend(labels) # Save Truth"
      ]
    },
    {
      "cell_type": "code",
      "execution_count": null,
      "metadata": {
        "id": "vsx8RMmFys5j"
      },
      "outputs": [],
      "source": [
        "# to define\n",
        "label_list = []"
      ]
    },
    {
      "cell_type": "code",
      "execution_count": null,
      "metadata": {
        "id": "DAqlZXXHlUQ4"
      },
      "outputs": [],
      "source": [
        "classes = label_list"
      ]
    },
    {
      "cell_type": "code",
      "execution_count": null,
      "metadata": {
        "id": "TM3RQs2XlU01"
      },
      "outputs": [],
      "source": [
        "from sklearn.metrics import confusion_matrix\n",
        "import seaborn as sns"
      ]
    },
    {
      "cell_type": "code",
      "execution_count": null,
      "metadata": {
        "id": "_ihwPCtUlVkc"
      },
      "outputs": [],
      "source": [
        "cf_matrix = confusion_matrix(y_true, y_pred, normalize = 'pred')\n",
        "df_cm = pd.DataFrame(cf_matrix/np.sum(cf_matrix) *10, index = [i for i in classes],\n",
        "                     columns = [i for i in classes])\n",
        "plt.figure(figsize = (12,7))\n",
        "sns.heatmap(df_cm, annot=True)\n",
        "plt.show"
      ]
    }
  ],
  "metadata": {
    "colab": {
      "authorship_tag": "ABX9TyN5kKFe44WTW8iOC3lmm/IH",
      "include_colab_link": true,
      "provenance": [],
      "toc_visible": true
    },
    "kernelspec": {
      "display_name": "Python 3",
      "language": "python",
      "name": "python3"
    },
    "language_info": {
      "name": "python",
      "version": "3.11.0 (main, Oct 24 2022, 18:26:48) [MSC v.1933 64 bit (AMD64)]"
    },
    "vscode": {
      "interpreter": {
        "hash": "83592ede4c2a3a99475680f4f9eb17274df3497159939a725e46f7f2393ddd1a"
      }
    }
  },
  "nbformat": 4,
  "nbformat_minor": 0
}
