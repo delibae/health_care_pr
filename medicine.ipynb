{
  "cells": [
    {
      "cell_type": "markdown",
      "metadata": {
        "id": "view-in-github",
        "colab_type": "text"
      },
      "source": [
        "<a href=\"https://colab.research.google.com/github/delibae/health_care_pr/blob/pr2%2Fbhj/medicine.ipynb\" target=\"_parent\"><img src=\"https://colab.research.google.com/assets/colab-badge.svg\" alt=\"Open In Colab\"/></a>"
      ]
    },
    {
      "cell_type": "markdown",
      "metadata": {
        "id": "cAofyuZjka4R"
      },
      "source": [
        "# Data Proprecessing"
      ]
    },
    {
      "cell_type": "code",
      "execution_count": 1,
      "metadata": {
        "id": "c3_LXu3Suf6l",
        "colab": {
          "base_uri": "https://localhost:8080/"
        },
        "outputId": "a34523a1-be5a-46d8-9067-4e12ae33423b"
      },
      "outputs": [
        {
          "output_type": "execute_result",
          "data": {
            "text/plain": [
              "<torch._C.Generator at 0x7fee0050d1d0>"
            ]
          },
          "metadata": {},
          "execution_count": 1
        }
      ],
      "source": [
        "import pandas as pd\n",
        "import numpy as np\n",
        "\n",
        "# ML\n",
        "import torch\n",
        "import torchvision\n",
        "\n",
        "import torchvision.transforms as transforms\n",
        "from sklearn.model_selection import StratifiedKFold\n",
        "import torch.nn as nn\n",
        "import torch.nn.functional as F\n",
        "import torch.optim as optim\n",
        "from torch.utils.data import Dataset, DataLoader, random_split\n",
        "\n",
        "\n",
        "torch.manual_seed(123)"
      ]
    },
    {
      "cell_type": "markdown",
      "metadata": {
        "id": "oxkghkajlY7Q"
      },
      "source": [
        "# Create DataLoader"
      ]
    },
    {
      "cell_type": "markdown",
      "metadata": {
        "id": "bEH6uwx_Ymdx"
      },
      "source": [
        "## load npy"
      ]
    },
    {
      "cell_type": "code",
      "execution_count": 2,
      "metadata": {
        "id": "rYGO_MSkZym4"
      },
      "outputs": [],
      "source": [
        "root_path = '/content/drive/MyDrive/data/medicine/'\n",
        "\n",
        "image_data_n = np.load(root_path + 'ImageData.npy')\n",
        "dl_idx  = np.load(root_path + 'dl_idx.npy')\n",
        "dl_name = np.load(root_path + 'dl_name.npy')"
      ]
    },
    {
      "cell_type": "code",
      "execution_count": 3,
      "metadata": {
        "colab": {
          "base_uri": "https://localhost:8080/"
        },
        "id": "dxrB-EzxZ8MQ",
        "outputId": "8dfdd406-b413-4b14-fd60-1d7572dcd12d"
      },
      "outputs": [
        {
          "output_type": "stream",
          "name": "stdout",
          "text": [
            "(9612, 3, 128, 128)\n",
            "(9612,)\n",
            "(9612,)\n"
          ]
        }
      ],
      "source": [
        "print(image_data_n.shape)\n",
        "print(dl_idx.shape)\n",
        "print(dl_name.shape)"
      ]
    },
    {
      "cell_type": "markdown",
      "metadata": {
        "id": "VD3spDHAlrXb"
      },
      "source": [
        "## define get_img(cv2)"
      ]
    },
    {
      "cell_type": "code",
      "execution_count": 4,
      "metadata": {
        "id": "WITlJzm8kQ-T"
      },
      "outputs": [],
      "source": [
        "import cv2\n",
        "\n",
        "def get_img_list(series) :\n",
        "\n",
        "    \n",
        "    reshaped_image_list = []\n",
        "\n",
        "    for file_name in series :\n",
        "        image_path = file_name\n",
        "        image = cv2.imread(image_path, cv2.IMREAD_COLOR)\n",
        "\n",
        "        image = cv2.resize(image, dsize=(100, 100), interpolation=cv2.INTER_AREA)\n",
        "\n",
        "        reshaped_image = image.reshape(3,100,100) #reshape\n",
        "        reshaped_image_list.append(reshaped_image)\n",
        "        \n",
        "    return reshaped_image_list"
      ]
    },
    {
      "cell_type": "markdown",
      "metadata": {
        "id": "W_XZOc2ylurC"
      },
      "source": [
        "## define get_transform(normalize)"
      ]
    },
    {
      "cell_type": "code",
      "execution_count": 5,
      "metadata": {
        "id": "UCBOYaANlgRq"
      },
      "outputs": [],
      "source": [
        "def get_transform():\n",
        "\n",
        "    t = list()\n",
        "    t.append(transforms.ToTensor())\n",
        "\n",
        "    # t.append(transforms.Normalize((0.5, 0.5, 0.5), (0.5, 0.5, 0.5)))\n",
        "    \n",
        "    return transforms.Compose(t)"
      ]
    },
    {
      "cell_type": "code",
      "source": [
        "test_inp = np.random.rand(128,128,3)\n",
        "\n",
        "test_trans = get_transform()\n",
        "\n",
        "test_out = test_trans(test_inp)"
      ],
      "metadata": {
        "colab": {
          "base_uri": "https://localhost:8080/"
        },
        "id": "3JGqVVZ1n1W-",
        "outputId": "3eb09f17-827d-481f-e6ee-901aa4ccb9c0"
      },
      "execution_count": 42,
      "outputs": [
        {
          "output_type": "stream",
          "name": "stdout",
          "text": [
            "torch.Size([3, 128, 128])\n"
          ]
        }
      ]
    },
    {
      "cell_type": "markdown",
      "metadata": {
        "id": "AN8rNJUIlxUK"
      },
      "source": [
        "## define dataset"
      ]
    },
    {
      "cell_type": "markdown",
      "metadata": {
        "id": "4qnwcJxhaLe6"
      },
      "source": [
        "## define dataset 2 (local load version)"
      ]
    },
    {
      "cell_type": "code",
      "execution_count": 6,
      "metadata": {
        "id": "6pVncpOzaOv9"
      },
      "outputs": [],
      "source": [
        "class CustomDataset(Dataset):\n",
        "    def __init__(self, img_list, label=None):\n",
        "        self.transform = transforms.Compose([\n",
        "                      transforms.ToTensor(),\n",
        "    # -1 ~ 1 사이의 범위를 가지도록 정규화\n",
        "                      transforms.Normalize((0.5, 0.5, 0.5), (0.5, 0.5, 0.5))\n",
        "        ])\n",
        "        self.img_list = img_list\n",
        "        self.label = label\n",
        "        self.transformed_img_list = list(map(self.transform, self.img_list))\n",
        "        print(self.transformed_img_list)\n",
        "    def __len__(self):\n",
        "        return len(self.img_list)\n",
        "    \n",
        "    def __getitem__(self, i):\n",
        "        \n",
        "        x_data = self.transformed_img_list[i]\n",
        "\n",
        "        return x_data, torch.tensor(self.label[i],dtype = torch.long)"
      ]
    },
    {
      "cell_type": "markdown",
      "metadata": {
        "id": "iXLYQjteapI3"
      },
      "source": [
        "## one-hot encoding and make label list"
      ]
    },
    {
      "cell_type": "code",
      "execution_count": 50,
      "metadata": {
        "colab": {
          "base_uri": "https://localhost:8080/"
        },
        "id": "uIH7h--Oam0Y",
        "outputId": "887de899-95fd-4fb7-f627-97da2358675f"
      },
      "outputs": [
        {
          "output_type": "stream",
          "name": "stdout",
          "text": [
            "['38883', '38889', '38895', '38909', '38911', '38912', '38913', '38926', '38928', '38953', '38957', '38958', '38961', '38966', '38969', '39020', '39035', '39046', '39103', '39107', '39122', '39135', '39145', '39146']\n",
            "     dl_idx        dl_name  label\n",
            "0     38883          에피나레정      0\n",
            "1     38883          에피나레정      0\n",
            "2     38883          에피나레정      0\n",
            "3     38883          에피나레정      0\n",
            "4     38883          에피나레정      0\n",
            "...     ...            ...    ...\n",
            "9607  39146  듀카브정30/10밀리그램     23\n",
            "9608  39146  듀카브정30/10밀리그램     23\n",
            "9609  39146  듀카브정30/10밀리그램     23\n",
            "9610  39146  듀카브정30/10밀리그램     23\n",
            "9611  39146  듀카브정30/10밀리그램     23\n",
            "\n",
            "[9612 rows x 3 columns]\n",
            "9612\n"
          ]
        }
      ],
      "source": [
        "label_name = pd.DataFrame(dl_idx,columns = ['dl_idx'])\n",
        "label_name['dl_name'] = dl_name\n",
        "label_list = label_name['dl_idx'].unique().tolist()\n",
        "print(label_list)\n",
        "\n",
        "def add(valid):\n",
        "  index = label_list.index(valid)\n",
        "  return index\n",
        "\n",
        "label_name['label'] = label_name.apply(lambda row : add(row['dl_idx']), axis = 1)\n",
        "print(label_name)\n",
        "\n",
        "\n",
        "label = label_name['label'].tolist()\n",
        "print(len(label))"
      ]
    },
    {
      "cell_type": "code",
      "source": [
        "print(len(label_list))"
      ],
      "metadata": {
        "colab": {
          "base_uri": "https://localhost:8080/"
        },
        "id": "ljAbnhaxtRJg",
        "outputId": "47552c7a-6997-47be-efc2-bc78b38099bc"
      },
      "execution_count": 49,
      "outputs": [
        {
          "output_type": "stream",
          "name": "stdout",
          "text": [
            "24\n"
          ]
        }
      ]
    },
    {
      "cell_type": "code",
      "source": [
        "classes = laeble_list"
      ],
      "metadata": {
        "colab": {
          "base_uri": "https://localhost:8080/",
          "height": 176
        },
        "id": "ubVaDX3runcW",
        "outputId": "f4440fa8-a856-49af-ab53-f16c27b596da"
      },
      "execution_count": 51,
      "outputs": [
        {
          "output_type": "error",
          "ename": "NameError",
          "evalue": "ignored",
          "traceback": [
            "\u001b[0;31m---------------------------------------------------------------------------\u001b[0m",
            "\u001b[0;31mNameError\u001b[0m                                 Traceback (most recent call last)",
            "\u001b[0;32m<ipython-input-51-887096fb10d5>\u001b[0m in \u001b[0;36m<module>\u001b[0;34m\u001b[0m\n\u001b[0;32m----> 1\u001b[0;31m \u001b[0mclasses\u001b[0m \u001b[0;34m=\u001b[0m \u001b[0mlaeble_list\u001b[0m\u001b[0;34m\u001b[0m\u001b[0;34m\u001b[0m\u001b[0m\n\u001b[0m",
            "\u001b[0;31mNameError\u001b[0m: name 'laeble_list' is not defined"
          ]
        }
      ]
    },
    {
      "cell_type": "markdown",
      "source": [
        "## create dataset test"
      ],
      "metadata": {
        "id": "8o_VA5Hicq7v"
      }
    },
    {
      "cell_type": "code",
      "source": [
        "image_data_l = []\n",
        "\n",
        "for i in image_data_n:\n",
        "  image_data_l.append(i.reshape(128,128,3))"
      ],
      "metadata": {
        "id": "kJgGdtcnnEOT"
      },
      "execution_count": 8,
      "outputs": []
    },
    {
      "cell_type": "code",
      "source": [
        "print(image_data_l[0].shape)"
      ],
      "metadata": {
        "colab": {
          "base_uri": "https://localhost:8080/"
        },
        "id": "OTzNWkKboKoe",
        "outputId": "01ff1777-ae06-4c05-cf24-4aa9515c6782"
      },
      "execution_count": 33,
      "outputs": [
        {
          "output_type": "stream",
          "name": "stdout",
          "text": [
            "(128, 128, 3)\n"
          ]
        }
      ]
    },
    {
      "cell_type": "code",
      "source": [
        "test_dataset  = CustomDataset(img_list = image_data_l, label = label)"
      ],
      "metadata": {
        "colab": {
          "base_uri": "https://localhost:8080/"
        },
        "id": "Nw8vaaDhcsiv",
        "outputId": "0df66529-7720-4493-94e2-deedb0e9bb0e"
      },
      "execution_count": 56,
      "outputs": [
        {
          "output_type": "stream",
          "name": "stderr",
          "text": [
            "IOPub data rate exceeded.\n",
            "The notebook server will temporarily stop sending output\n",
            "to the client in order to avoid crashing it.\n",
            "To change this limit, set the config variable\n",
            "`--NotebookApp.iopub_data_rate_limit`.\n",
            "\n",
            "Current values:\n",
            "NotebookApp.iopub_data_rate_limit=1000000.0 (bytes/sec)\n",
            "NotebookApp.rate_limit_window=3.0 (secs)\n",
            "\n"
          ]
        }
      ]
    },
    {
      "cell_type": "code",
      "source": [
        "del test_dataset"
      ],
      "metadata": {
        "id": "cAoK1HXakhDx"
      },
      "execution_count": 35,
      "outputs": []
    },
    {
      "cell_type": "code",
      "source": [
        "test_dataset.transformed_img_list[0].shape"
      ],
      "metadata": {
        "colab": {
          "base_uri": "https://localhost:8080/"
        },
        "id": "0O_C6bK-igSP",
        "outputId": "3ea7599f-afcb-4f46-9208-f6d18e52b6c4"
      },
      "execution_count": 37,
      "outputs": [
        {
          "output_type": "execute_result",
          "data": {
            "text/plain": [
              "torch.Size([3, 128, 128])"
            ]
          },
          "metadata": {},
          "execution_count": 37
        }
      ]
    },
    {
      "cell_type": "markdown",
      "metadata": {
        "id": "Ko7Ya1sdyDWG"
      },
      "source": [
        "## for local save image load"
      ]
    },
    {
      "cell_type": "code",
      "execution_count": null,
      "metadata": {
        "id": "s59YuKgAyF92"
      },
      "outputs": [],
      "source": [
        "import pickle\n",
        "import gzip\n",
        "\n",
        "# to define\n",
        "file_path_l = []\n",
        "\n",
        "data = get_img_list(file_path_l)\n",
        "\n",
        "with gzip.open('ImageFile.pickle', 'wb') as f:\n",
        "    pickle.dump(data, f)"
      ]
    },
    {
      "cell_type": "markdown",
      "metadata": {
        "id": "MhP77XfElzJt"
      },
      "source": [
        "## define dataloader"
      ]
    },
    {
      "cell_type": "code",
      "execution_count": 9,
      "metadata": {
        "id": "u_KXOzR7ljxy"
      },
      "outputs": [],
      "source": [
        "import math\n",
        "\n",
        "def get_dataloader(x, y):\n",
        "    # img_list = get_img_list(x)\n",
        "    dataset = CustomDataset(img_list=x, label=y)\n",
        "\n",
        "\n",
        "    dataset_size = len(dataset)\n",
        "    train_size = int(dataset_size * 0.8)\n",
        "    validation_size = int(dataset_size * 0.1)\n",
        "    test_size = dataset_size - train_size - validation_size\n",
        "\n",
        "    train_dataset, validation_dataset, test_dataset = random_split(dataset, [train_size, validation_size, test_size])\n",
        "\n",
        "    train_dataloader = torch.utils.data.DataLoader(dataset=train_dataset, batch_size=batch_size)\n",
        "    validation_dataloader = torch.utils.data.DataLoader(dataset=validation_dataset, batch_size=batch_size)\n",
        "    test_dataloader = torch.utils.data.DataLoader(dataset=test_dataset, batch_size=batch_size)\n",
        "\n",
        "\n",
        "    return train_dataloader, validation_dataloader, test_dataloader"
      ]
    },
    {
      "cell_type": "markdown",
      "source": [
        "## create dataloader!"
      ],
      "metadata": {
        "id": "Uyu2vT_Ddk4c"
      }
    },
    {
      "cell_type": "code",
      "source": [
        "batch_size = 64\n",
        "\n",
        "train_dataloader, validation_dataloader, test_dataloader  = get_dataloader(image_data_l, label)"
      ],
      "metadata": {
        "id": "VZM39fr_daCt",
        "colab": {
          "base_uri": "https://localhost:8080/"
        },
        "outputId": "6d03fc5a-d4dc-4a12-f9f7-9c0c4d6b4bc5"
      },
      "execution_count": 10,
      "outputs": [
        {
          "output_type": "stream",
          "name": "stderr",
          "text": [
            "IOPub data rate exceeded.\n",
            "The notebook server will temporarily stop sending output\n",
            "to the client in order to avoid crashing it.\n",
            "To change this limit, set the config variable\n",
            "`--NotebookApp.iopub_data_rate_limit`.\n",
            "\n",
            "Current values:\n",
            "NotebookApp.iopub_data_rate_limit=1000000.0 (bytes/sec)\n",
            "NotebookApp.rate_limit_window=3.0 (secs)\n",
            "\n"
          ]
        }
      ]
    },
    {
      "cell_type": "code",
      "source": [
        "del train_dataloader, validation_dataloader, test_dataloader"
      ],
      "metadata": {
        "id": "5FkTv0fSqvCd"
      },
      "execution_count": 55,
      "outputs": []
    },
    {
      "cell_type": "markdown",
      "metadata": {
        "id": "5-jVQONBkgIg"
      },
      "source": [
        "# Model"
      ]
    },
    {
      "cell_type": "code",
      "execution_count": 11,
      "metadata": {
        "id": "M6k77r-NklYZ"
      },
      "outputs": [],
      "source": [
        "import torch\n",
        "import torchvision\n",
        "from torch.utils.data import Dataset\n",
        "import torchvision.transforms as transforms\n",
        "from sklearn.model_selection import StratifiedKFold\n",
        "import torch.nn as nn\n",
        "import torch.nn.functional as F\n",
        "import torch.optim as optim"
      ]
    },
    {
      "cell_type": "markdown",
      "metadata": {
        "id": "iefgA3olkvS9"
      },
      "source": [
        "## model structure"
      ]
    },
    {
      "cell_type": "code",
      "execution_count": 26,
      "metadata": {
        "id": "DPxrXWpQki9e"
      },
      "outputs": [],
      "source": [
        "class CNN(nn.Module):\n",
        "    def __init__(self):\n",
        "        super(CNN, self).__init__()\n",
        "        self.conv1 = nn.Conv2d(in_channels=3, out_channels=20, kernel_size=5, stride=1)\n",
        "        self.conv2 = nn.Conv2d(in_channels=20, out_channels=50, kernel_size=5, stride=1)\n",
        "        self.fc1 = nn.Linear(29 * 29 * 50, 500)\n",
        "        self.fc2 = nn.Linear(500, 24)\n",
        "\n",
        "    def forward(self, x):\n",
        "        # print(x.shape)\n",
        "        x = F.relu(self.conv1(x))\n",
        "        # print(x.shape)\n",
        "        x = F.max_pool2d(x, kernel_size=2, stride=2)\n",
        "        # print(x.shape)       \n",
        "        x = F.relu(self.conv2(x))\n",
        "        # print(x.shape)\n",
        "        x = F.max_pool2d(x, kernel_size=2, stride=2)\n",
        "        # print(x.shape)\n",
        "        x = x.view(-1, 50*29*29)\n",
        "        # print(x.shape)\n",
        "        x = F.relu(self.fc1(x))\n",
        "        # print(x.shape)\n",
        "        x = self.fc2(x)\n",
        "        # print(x.shape)\n",
        "        return x\n",
        "  \n",
        "# test_moel = CNN()\n",
        "# inp = torch.randn(2,3,128,128)\n",
        "# test_moel(inp)"
      ]
    },
    {
      "cell_type": "code",
      "source": [],
      "metadata": {
        "id": "cYETWpbes49u"
      },
      "execution_count": null,
      "outputs": []
    },
    {
      "cell_type": "code",
      "execution_count": 12,
      "metadata": {
        "id": "ZivOSIUVoEY2"
      },
      "outputs": [],
      "source": [
        "class VGG(nn.Module):\n",
        "    def __init__(self):\n",
        "        super(VGG, self).__init__()\n",
        "        self.conv = nn.Sequential(\n",
        "\n",
        "            nn.Conv2d(3,64,3, padding=1),nn.LeakyReLU(0.2),\n",
        "            nn.Conv2d(64, 64, 3, padding=1),nn.LeakyReLU(0.2),\n",
        "            nn.MaxPool2d(2, 2),\n",
        "\n",
        "            nn.Conv2d(64, 128, 3, padding=1),nn.LeakyReLU(0.2),\n",
        "            nn.Conv2d(128, 128, 3, padding=1),nn.LeakyReLU(0.2),\n",
        "            nn.MaxPool2d(2, 2),\n",
        "\n",
        "            nn.Conv2d(128, 256, 3, padding=1),nn.LeakyReLU(0.2),\n",
        "            nn.Conv2d(256, 256, 3, padding=1),nn.LeakyReLU(0.2),\n",
        "            nn.Conv2d(256, 256, 3, padding=1),nn.LeakyReLU(0.2),\n",
        "            nn.MaxPool2d(2, 2),\n",
        "\n",
        "            nn.Conv2d(256, 512, 3, padding=1),nn.LeakyReLU(0.2),\n",
        "            nn.Conv2d(512, 512, 3, padding=1),nn.LeakyReLU(0.2),\n",
        "            nn.Conv2d(512, 512, 3, padding=1),nn.LeakyReLU(0.2),\n",
        "            nn.MaxPool2d(2, 2),\n",
        "\n",
        "            nn.Conv2d(512, 512, 3, padding=1),nn.LeakyReLU(0.2),\n",
        "            nn.Conv2d(512, 512, 3, padding=1),nn.LeakyReLU(0.2),\n",
        "            nn.Conv2d(512, 512, 3, padding=1),nn.LeakyReLU(0.2),\n",
        "            nn.MaxPool2d(2, 2)\n",
        "        )\n",
        "        #512 4 4\n",
        "        self.avg_pool = nn.AvgPool2d(4)\n",
        "        #512 1 1\n",
        "        self.classifier = nn.Linear(512, 24)\n",
        "        \"\"\"\n",
        "        self.fc1 = nn.Linear(512*2*2,4096)\n",
        "        self.fc2 = nn.Linear(4096,4096)\n",
        "        self.fc3 = nn.Linear(4096,10)\n",
        "        \"\"\"\n",
        "\n",
        "    def forward(self, x):\n",
        "        # print(x.shape)\n",
        "        features = self.conv(x)\n",
        "        # print(x.shape)\n",
        "        x = self.avg_pool(features)\n",
        "        # print(x.shape)\n",
        "        #print(avg_pool.size())\n",
        "        x = x.view(features.size(0), -1)\n",
        "        # print(x.shape)\n",
        "        #print(flatten.size())\n",
        "        x = self.classifier(x)\n",
        "        # print(x.shape)\n",
        "        #x = self.softmax(x)\n",
        "        return x\n",
        "\n"
      ]
    },
    {
      "cell_type": "markdown",
      "metadata": {
        "id": "MOxLwbd4tmdt"
      },
      "source": [
        "## device"
      ]
    },
    {
      "cell_type": "code",
      "execution_count": 13,
      "metadata": {
        "colab": {
          "base_uri": "https://localhost:8080/"
        },
        "id": "XglXFt1itnfO",
        "outputId": "5f218138-90dd-454c-c878-dd233a26458f"
      },
      "outputs": [
        {
          "output_type": "stream",
          "name": "stdout",
          "text": [
            "cuda:0\n"
          ]
        }
      ],
      "source": [
        "device = torch.device(\"cuda:0\" if torch.cuda.is_available() else \"cpu\")\n",
        "print(device)"
      ]
    },
    {
      "cell_type": "markdown",
      "metadata": {
        "id": "KGYcG5OVtdJF"
      },
      "source": [
        "## create model(loss function / optimizer)"
      ]
    },
    {
      "cell_type": "code",
      "execution_count": 32,
      "metadata": {
        "id": "qZP1qdqSo5WR"
      },
      "outputs": [],
      "source": [
        "model = CNN().to(device)\n",
        "\n",
        "model.train()\n",
        "criterion = torch.nn.CrossEntropyLoss().to(device)\n",
        "optimizer = optim.SGD(model.parameters(), lr=0.001)"
      ]
    },
    {
      "cell_type": "markdown",
      "metadata": {
        "id": "6b9f0E9rt1D4"
      },
      "source": [
        "## test model"
      ]
    },
    {
      "cell_type": "markdown",
      "metadata": {
        "id": "JcyVGHAtkyN1"
      },
      "source": [
        "# Train"
      ]
    },
    {
      "cell_type": "markdown",
      "metadata": {
        "id": "l9r4m5UPlCkU"
      },
      "source": [
        "## start train"
      ]
    },
    {
      "cell_type": "code",
      "execution_count": 33,
      "metadata": {
        "id": "9HJEnNImkxa7",
        "colab": {
          "base_uri": "https://localhost:8080/"
        },
        "outputId": "be97f944-9aa8-4a2a-bd40-5e07526adc90"
      },
      "outputs": [
        {
          "output_type": "stream",
          "name": "stdout",
          "text": [
            "loss of 0 epoch, 2.722 / valid loss: 3.177\n",
            "loss of 1 epoch, 2.606 / valid loss: 3.106\n",
            "loss of 2 epoch, 2.539 / valid loss: 2.983\n",
            "loss of 3 epoch, 2.479 / valid loss: 2.763\n",
            "loss of 4 epoch, 2.415 / valid loss: 2.452\n",
            "loss of 5 epoch, 2.385 / valid loss: 2.119\n",
            "loss of 6 epoch, 2.375 / valid loss: 1.951\n",
            "loss of 7 epoch, 2.357 / valid loss: 1.894\n",
            "loss of 8 epoch, 2.329 / valid loss: 1.868\n",
            "loss of 9 epoch, 2.321 / valid loss: 1.858\n"
          ]
        }
      ],
      "source": [
        "loss_l = []\n",
        "validloss_l = []\n",
        "epoch_num = 10\n",
        "\n",
        "for epoch in range(epoch_num):\n",
        "  for index, (data, target) in enumerate(train_dataloader):\n",
        "    data = data.to(device)\n",
        "    target = target.to(device)\n",
        "    optimizer.zero_grad()  # 기울기 초기화\n",
        "    output = model(data)\n",
        "    loss = criterion(output, target)\n",
        "    loss.backward()  # 역전파\n",
        "    optimizer.step()\n",
        "\n",
        "  for   index, (data, target) in enumerate(validation_dataloader):\n",
        "    data = data.to(device)\n",
        "    target = target.to(device)\n",
        "    output = model(data)\n",
        "    valid_loss = criterion(output,target)\n",
        "\n",
        "  print(f\"loss of {epoch} epoch, {loss.item():.3f} / valid loss: {valid_loss:.3f}\")\n",
        "  loss_l.append(loss.item())\n",
        "  validloss_l.append(valid_loss.item())\n"
      ]
    },
    {
      "cell_type": "markdown",
      "metadata": {
        "id": "R25u9FWXk_6P"
      },
      "source": [
        "## plot loss"
      ]
    },
    {
      "cell_type": "code",
      "execution_count": 34,
      "metadata": {
        "id": "RB5VGIHQuVC9"
      },
      "outputs": [],
      "source": [
        "import matplotlib.pyplot as plt"
      ]
    },
    {
      "cell_type": "code",
      "execution_count": 35,
      "metadata": {
        "id": "pUiT5sJJlBOa",
        "colab": {
          "base_uri": "https://localhost:8080/",
          "height": 284
        },
        "outputId": "b8e08bb3-848b-4be0-fe2b-991e5b759aa0"
      },
      "outputs": [
        {
          "output_type": "execute_result",
          "data": {
            "text/plain": [
              "[<matplotlib.lines.Line2D at 0x7fedd8091c40>]"
            ]
          },
          "metadata": {},
          "execution_count": 35
        },
        {
          "output_type": "display_data",
          "data": {
            "text/plain": [
              "<Figure size 432x288 with 1 Axes>"
            ],
            "image/png": "[encoded data removed]"
          },
          "metadata": {
            "needs_background": "light"
          }
        }
      ],
      "source": [
        "plt.plot(loss_l, label = \"train loss\")\n",
        "plt.plot(validloss_l, label = \"valid loss\")"
      ]
    },
    {
      "cell_type": "markdown",
      "metadata": {
        "id": "Rsg7RJXwlFIQ"
      },
      "source": [
        "# Model Analysis"
      ]
    },
    {
      "cell_type": "markdown",
      "metadata": {
        "id": "nhD4e_HvlISO"
      },
      "source": [
        "## Confusion Matrix"
      ]
    },
    {
      "cell_type": "code",
      "execution_count": 39,
      "metadata": {
        "id": "cEhaYi5vlHzP",
        "colab": {
          "base_uri": "https://localhost:8080/"
        },
        "outputId": "80365cdf-c20a-490d-87d2-2e9064f39212"
      },
      "outputs": [
        {
          "output_type": "execute_result",
          "data": {
            "text/plain": [
              "CNN(\n",
              "  (conv1): Conv2d(3, 20, kernel_size=(5, 5), stride=(1, 1))\n",
              "  (conv2): Conv2d(20, 50, kernel_size=(5, 5), stride=(1, 1))\n",
              "  (fc1): Linear(in_features=42050, out_features=500, bias=True)\n",
              "  (fc2): Linear(in_features=500, out_features=24, bias=True)\n",
              ")"
            ]
          },
          "metadata": {},
          "execution_count": 39
        }
      ],
      "source": [
        "model.eval()\n",
        "model.cpu()"
      ]
    },
    {
      "cell_type": "code",
      "execution_count": 40,
      "metadata": {
        "id": "Ah5ePDBTlMlJ"
      },
      "outputs": [],
      "source": [
        "y_pred = []\n",
        "y_true = []\n",
        "\n",
        "# iterate over test data\n",
        "for index, (inputs, labels) in enumerate(test_dataloader):\n",
        "        output = model(inputs) # Feed Network\n",
        "\n",
        "        output = (torch.max(torch.exp(output), 1)[1]).data.cpu().numpy()\n",
        "        y_pred.extend(output) # Save Prediction\n",
        "        \n",
        "        labels = labels.data.cpu().numpy()\n",
        "        y_true.extend(labels) # Save Truth"
      ]
    },
    {
      "cell_type": "code",
      "source": [
        "print(label_list)"
      ],
      "metadata": {
        "colab": {
          "base_uri": "https://localhost:8080/"
        },
        "id": "_AEJ2dGCugQY",
        "outputId": "9e75d7dd-0f12-4657-c24d-caadd0c894c4"
      },
      "execution_count": 53,
      "outputs": [
        {
          "output_type": "stream",
          "name": "stdout",
          "text": [
            "['38883', '38889', '38895', '38909', '38911', '38912', '38913', '38926', '38928', '38953', '38957', '38958', '38961', '38966', '38969', '39020', '39035', '39046', '39103', '39107', '39122', '39135', '39145', '39146']\n"
          ]
        }
      ]
    },
    {
      "cell_type": "code",
      "source": [
        "classes = label_list"
      ],
      "metadata": {
        "id": "M29AYBnJuwRn"
      },
      "execution_count": 54,
      "outputs": []
    },
    {
      "cell_type": "code",
      "execution_count": 43,
      "metadata": {
        "id": "TM3RQs2XlU01"
      },
      "outputs": [],
      "source": [
        "from sklearn.metrics import confusion_matrix\n",
        "import seaborn as sns"
      ]
    },
    {
      "cell_type": "code",
      "execution_count": 56,
      "metadata": {
        "id": "_ihwPCtUlVkc",
        "colab": {
          "base_uri": "https://localhost:8080/",
          "height": 469
        },
        "outputId": "55227235-8c63-48f9-8dd6-f0b0c394a54b"
      },
      "outputs": [
        {
          "output_type": "execute_result",
          "data": {
            "text/plain": [
              "<function matplotlib.pyplot.show(*args, **kw)>"
            ]
          },
          "metadata": {},
          "execution_count": 56
        },
        {
          "output_type": "display_data",
          "data": {
            "text/plain": [
              "<Figure size 864x504 with 2 Axes>"
            ],
            "image/png": "[encoded data removed]"
          },
          "metadata": {
            "needs_background": "light"
          }
        }
      ],
      "source": [
        "cf_matrix = confusion_matrix(y_true, y_pred, normalize = 'pred')\n",
        "df_cm = pd.DataFrame(cf_matrix/np.sum(cf_matrix) *10,index = [i for i in classes],\n",
        "                     columns = [i for i in classes])\n",
        "plt.figure(figsize = (12,7))\n",
        "sns.heatmap(df_cm, annot=True)\n",
        "plt.show"
      ]
    }
  ],
  "metadata": {
    "colab": {
      "provenance": [],
      "toc_visible": true,
      "machine_shape": "hm",
      "mount_file_id": "1iHYt6uG6R_hcMUDsGk_TN3qKNS_vzEhH",
      "authorship_tag": "ABX9TyPvoZMiqFkSsuTkv4p1SAYN",
      "include_colab_link": true
    },
    "kernelspec": {
      "display_name": "Python 3",
      "name": "python3"
    },
    "language_info": {
      "name": "python"
    },
    "accelerator": "GPU",
    "gpuClass": "standard"
  },
  "nbformat": 4,
  "nbformat_minor": 0
}