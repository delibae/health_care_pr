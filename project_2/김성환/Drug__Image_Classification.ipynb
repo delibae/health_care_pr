{
  "nbformat": 4,
  "nbformat_minor": 0,
  "metadata": {
    "colab": {
      "private_outputs": true,
      "provenance": [],
      "mount_file_id": "1rQ2y7JSMp03AHiKnYodKSQw7hEgQc-cs",
      "authorship_tag": "ABX9TyNaIShsBjw1g98QCzG41BnV",
      "include_colab_link": true
    },
    "kernelspec": {
      "name": "python3",
      "display_name": "Python 3"
    },
    "language_info": {
      "name": "python"
    }
  },
  "cells": [
    {
      "cell_type": "markdown",
      "metadata": {
        "id": "view-in-github",
        "colab_type": "text"
      },
      "source": [
        "<a href=\"https://colab.research.google.com/github/delibae/health_care_pr/blob/sunghwan/project_2/%EA%B9%80%EC%84%B1%ED%99%98/Drug__Image_Classification.ipynb\" target=\"_parent\"><img src=\"https://colab.research.google.com/assets/colab-badge.svg\" alt=\"Open In Colab\"/></a>"
      ]
    },
    {
      "cell_type": "code",
      "source": [
        "!sudo apt-get install -y fonts-nanum"
      ],
      "metadata": {
        "id": "iKk-JPA2ep0y"
      },
      "execution_count": null,
      "outputs": []
    },
    {
      "cell_type": "code",
      "source": [
        "from google.colab import drive\n",
        "drive.mount('/content/drive')"
      ],
      "metadata": {
        "id": "dy6i9Epnf7BE"
      },
      "execution_count": null,
      "outputs": []
    },
    {
      "cell_type": "code",
      "source": [
        "!sudo fc-cache -fv\n",
        "!rm ~/.cache/matplotlib -rf"
      ],
      "metadata": {
        "id": "LGbrMuMVexeQ"
      },
      "execution_count": null,
      "outputs": []
    },
    {
      "cell_type": "code",
      "execution_count": null,
      "metadata": {
        "id": "K7goHVfd5A3b"
      },
      "outputs": [],
      "source": [
        "import pandas as pd\n",
        "import cv2\n",
        "import numpy as np\n",
        "import matplotlib.pyplot as plt\n",
        "import seaborn as sb\n",
        "import json\n",
        "import random\n",
        "from glob import glob\n",
        "from PIL import Image\n",
        "import os\n",
        "from sklearn.preprocessing import OneHotEncoder\n",
        "from sklearn.preprocessing import MinMaxScaler\n",
        "from keras.preprocessing.image import ImageDataGenerator\n",
        "plt.rc('font',family = 'NanumGothic')"
      ]
    },
    {
      "cell_type": "code",
      "source": [
        "file_path = \"/content/drive/MyDrive/BootCamp/ personal project_2/TrainingDataLabel\"\n",
        "\n",
        "folderlist = os.listdir(file_path)\n",
        "\n",
        "dict_list = []\n",
        "df = pd.DataFrame()\n",
        "for fname1 in folderlist:\n",
        "  current_folder = file_path+\"/\"+fname1\n",
        "  file_list = os.listdir(current_folder)\n",
        "  \n",
        "  for i in file_list:\n",
        "    open_file = current_folder+\"/\"+i\n",
        "    with open(open_file, \"r\") as json_file:\n",
        "      json_data = json.load(json_file)\n",
        "      df = df.append(pd.json_normalize(json_data['images']),ignore_index = True)"
      ],
      "metadata": {
        "id": "k3OmxBEC9K1G"
      },
      "execution_count": null,
      "outputs": []
    },
    {
      "cell_type": "code",
      "source": [
        "f, ax = plt.subplots(nrows = 1, ncols = 1, figsize=(12,8))\n",
        "df.dl_name.value_counts().plot(kind = 'bar')"
      ],
      "metadata": {
        "id": "SYrg055tW0KN"
      },
      "execution_count": null,
      "outputs": []
    },
    {
      "cell_type": "code",
      "source": [
        "data_dir = \"/content/drive/MyDrive/BootCamp/ personal project_2/TrainingData\"\n",
        "categories = [df['dl_name'].unique()]\n",
        "\n",
        "num_classes = len(categories)\n",
        "\n",
        "image_w = 128\n",
        "image_h = 128\n",
        "\n",
        "pixels = image_h * image_h * 3\n",
        "\n",
        "x = []\n",
        "y = []\n",
        "\n",
        "folderlist = os.listdir(data_dir)\n",
        "\n",
        "\n",
        "file_folder = [folder_name[0:8] for folder_name in df[\"file_name\"]]\n",
        "\n",
        "X_pics = []\n",
        "for idx,i in enumerate(df[\"file_name\"]) : \n",
        "  image_name = data_dir+\"/\"+file_folder[idx]+\"/\"+ i\n",
        "  X_pics.append(Image.open(image_name).convert(\"RGB\"))\n",
        "  print(X_pics[idx])\n"
      ],
      "metadata": {
        "id": "9MtcAHQuiQrD"
      },
      "execution_count": null,
      "outputs": []
    },
    {
      "cell_type": "code",
      "source": [
        "()"
      ],
      "metadata": {
        "id": "BIazkhn01FLw"
      },
      "execution_count": null,
      "outputs": []
    }
  ]
}