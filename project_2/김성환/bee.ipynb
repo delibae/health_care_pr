{
  "nbformat": 4,
  "nbformat_minor": 0,
  "metadata": {
    "colab": {
      "private_outputs": true,
      "provenance": [],
      "mount_file_id": "https://gist.github.com/dksj9921/1a45013b06fcd8058d598eb3c9fcd3b7#file-bee-ipynb",
      "authorship_tag": "ABX9TyNh5dDzyKmd1CYtN0dDliAs",
      "include_colab_link": true
    },
    "kernelspec": {
      "name": "python3",
      "display_name": "Python 3"
    },
    "language_info": {
      "name": "python"
    },
    "accelerator": "GPU",
    "gpuClass": "standard"
  },
  "cells": [
    {
      "cell_type": "markdown",
      "metadata": {
        "id": "view-in-github",
        "colab_type": "text"
      },
      "source": [
        "<a href=\"https://colab.research.google.com/github/delibae/health_care_pr/blob/sunghwan/project_2/%EA%B9%80%EC%84%B1%ED%99%98/bee.ipynb\" target=\"_parent\"><img src=\"https://colab.research.google.com/assets/colab-badge.svg\" alt=\"Open In Colab\"/></a>"
      ]
    },
    {
      "cell_type": "code",
      "execution_count": null,
      "metadata": {
        "id": "vc5l3GqRiOol"
      },
      "outputs": [],
      "source": [
        "import pandas as pd"
      ]
    },
    {
      "cell_type": "markdown",
      "source": [
        "pandas라는 데이터 분석 라이브러리를 pd라는 이름으로 import"
      ],
      "metadata": {
        "id": "OxZGqI4yebXP"
      }
    },
    {
      "cell_type": "code",
      "source": [
        "df = pd.read_csv('/content/drive/MyDrive/bee_data.csv')"
      ],
      "metadata": {
        "id": "wyk4Lj3Yenuf"
      },
      "execution_count": null,
      "outputs": []
    },
    {
      "cell_type": "markdown",
      "source": [
        "pandas의 read_csv를 이용하여 csv파일을 읽는다."
      ],
      "metadata": {
        "id": "x5Whb9uUe0LY"
      }
    },
    {
      "cell_type": "code",
      "source": [
        "import matplotlib.pyplot as plt"
      ],
      "metadata": {
        "id": "OFy-y7cKe-wf"
      },
      "execution_count": null,
      "outputs": []
    },
    {
      "cell_type": "markdown",
      "source": [
        "plt라는 이름으로 matplot라이브러리 import"
      ],
      "metadata": {
        "id": "1LbtZO3_fELA"
      }
    },
    {
      "cell_type": "code",
      "source": [
        "bees=pd.read_csv('/content/drive/MyDrive/bee_data.csv', \n",
        "                index_col=False,  \n",
        "                parse_dates={'datetime':[1,2]}, #1번칼럼과 2번 칼럼을 date형으로 지정하여 파싱한다.\n",
        "                dtype={'subspecies':'category', 'health':'category','caste':'category'}) #필요한 칼럼을 category 형으로 지정한다."
      ],
      "metadata": {
        "id": "KQDipOFrfI8_"
      },
      "execution_count": null,
      "outputs": []
    },
    {
      "cell_type": "code",
      "source": [
        "bees.dtypes"
      ],
      "metadata": {
        "id": "svfmidv-l_Xs"
      },
      "execution_count": null,
      "outputs": []
    },
    {
      "cell_type": "markdown",
      "source": [
        "bees의 데이터 타입 확인"
      ],
      "metadata": {
        "id": "3O2i_eWAmI9p"
      }
    },
    {
      "cell_type": "code",
      "source": [
        "f, ax = plt.subplots(nrows=2, ncols=2, figsize=(12,8))  #figersize 12,8의 그래프 fig 4개 생성\n",
        "bees.subspecies.value_counts().plot(kind='bar',ax=ax[0, 0]) #0,0의 그래프 fig에 아래 값 넣어주기\n",
        "ax[0,0].set_ylabel('Count') #y축을 \"count\" 라는 이름을 지정\n",
        "ax[0,0].set_title('Subspecies') # 그래프의 이름 설정\n",
        "\n",
        "bees.location.value_counts().plot(kind='bar', ax=ax[0, 1])\n",
        "ax[0,1].set_title('Location')\n",
        "ax[0,1].set_ylabel('Count')\n",
        "\n",
        "bees.caste.value_counts().plot(kind='bar', ax=ax[1, 0])\n",
        "ax[1,0].set_title('Caste')\n",
        "ax[1,0].set_ylabel('Count')\n",
        "\n",
        "bees.health.value_counts().plot(kind='bar', ax=ax[1,1])\n",
        "ax[1,1].set_title('Health')\n",
        "ax[1,1].set_ylabel('Count')\n",
        "\n",
        "f.subplots_adjust(hspace=0.7) #subplot간의 간격\n",
        "f.tight_layout() #fig의 모서리와 subplot간의 여백을 설정\n",
        "plt.show() #그래프 출력"
      ],
      "metadata": {
        "id": "rIZEai7vnWMt"
      },
      "execution_count": null,
      "outputs": []
    },
    {
      "cell_type": "markdown",
      "source": [
        "데이터 시각화 완료"
      ],
      "metadata": {
        "id": "kCKmkGpCo_0P"
      }
    },
    {
      "cell_type": "code",
      "source": [
        "import pandas as pd\n",
        "import numpy as np\n",
        "import sys\n",
        "import os\n",
        "import random\n",
        "from pathlib import Path\n",
        "\n",
        "# Image processing\n",
        "import imageio\n",
        "import skimage\n",
        "import skimage.io\n",
        "import skimage.transform\n",
        "#from skimage.transform import rescale, resize, downscale_local_mean\n",
        "#이미지 처리에 필요한 skimage import\n",
        "\n",
        "# Charts\n",
        "import matplotlib.pyplot as plt\n",
        "import seaborn as sns\n",
        "#차트 처리에 필요한 툴 import\n",
        "\n",
        "# ML\n",
        "import scipy\n",
        "from sklearn.model_selection import train_test_split\n",
        "from sklearn import metrics\n",
        "#이건 뭔지 모르겠습니다,\n",
        "\n",
        "#from sklearn.preprocessing import OneHotEncoder\n",
        "from keras import optimizers\n",
        "from keras.models import Sequential\n",
        "from keras.layers import Dense, Conv2D, Flatten, MaxPool2D, Dropout, BatchNormalization,LeakyReLU\n",
        "from keras.preprocessing.image import ImageDataGenerator\n",
        "from keras.callbacks import ModelCheckpoint, Callback, EarlyStopping, ReduceLROnPlateau\n",
        "from keras.utils import to_categorical\n",
        "import tensorflow\n",
        "#Machin learning위한 keras import\n",
        "\n",
        "# Set random seed to make results reproducable\n",
        "np.random.seed(42)\n",
        "tensorflow.random.set_seed(42)\n",
        "\n",
        "# Global variables\n",
        "#전역변수 설정\n",
        "img_folder='/content/drive/MyDrive/bee_imgs'\n",
        "img_width=100\n",
        "img_height=100\n",
        "img_channels=3"
      ],
      "metadata": {
        "id": "qjnn2Ey8KSu3"
      },
      "execution_count": null,
      "outputs": []
    },
    {
      "cell_type": "markdown",
      "source": [
        "Machin Learning, 차트 생성 등을 위한 다양한 툴 import\n",
        "\n"
      ],
      "metadata": {
        "id": "YFMwAALtKr7e"
      }
    },
    {
      "cell_type": "code",
      "source": [
        "def read_img(file):\n",
        "    \"\"\"\n",
        "    Read and resize img, adjust channels. \n",
        "    Caution: This function is not independent, it uses global vars: img_folder, img_channels\n",
        "    @param file: file name without full path\n",
        "    \"\"\"\n",
        "    img = skimage.io.imread(img_folder + file)\n",
        "    img = skimage.transform.resize(img, (img_width, img_height), mode='reflect')#불러온 이미지를 전역변수에서 설정한 값으로 크기를 맞춰줘서 정규화\n",
        "    return img[:,:,:img_channels]\n",
        "\n",
        "bees.dropna(inplace=True)\n",
        "#값이 없는 row 삭제\n",
        "\n",
        "# 라벨링 데이터엔 있지만 데이터데 없는경우 삭제\n",
        "img_exists = bees['file'].apply(lambda f: os.path.exists(img_folder + f))\n",
        "bees = bees[img_exists]\n",
        "\n",
        "bees.head() #헤드만 출력"
      ],
      "metadata": {
        "id": "Yi-l7CLERqCl"
      },
      "execution_count": null,
      "outputs": []
    },
    {
      "cell_type": "code",
      "source": [
        "# Select first X subspecies titles \n",
        "subspecies = bees['subspecies'].cat.categories\n",
        "f, ax = plt.subplots(nrows=1,ncols=subspecies.size, figsize=(12,3))\n",
        "i=0\n",
        "# Draw the first found bee of given subpecies\n",
        "for s in subspecies:\n",
        "    if s == 'healthy': continue\n",
        "    file=img_folder + bees[bees['subspecies']==s].iloc[0]['file'] #여기서 계속 오류가 나는데 파이썬 지식 부족으로 어떻게 해야 오류가 안날지 모르겠습니다 ㅠ\n",
        "    im=imageio.imread(file)\n",
        "    ax[i].imshow(im, resample=True)\n",
        "    ax[i].set_title(s, fontsize=8)\n",
        "    i+=1\n",
        "    \n",
        "plt.suptitle(\"Subspecies of Bee\")\n",
        "plt.tight_layout()\n",
        "plt.show() #사진 출력"
      ],
      "metadata": {
        "id": "J0zfRijcUFTU"
      },
      "execution_count": null,
      "outputs": []
    }
  ]
}