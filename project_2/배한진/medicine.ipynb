{
  "cells": [
    {
      "cell_type": "markdown",
      "metadata": {
        "id": "view-in-github",
        "colab_type": "text"
      },
      "source": [
        "<a href=\"https://colab.research.google.com/github/delibae/health_care_pr/blob/pr2%2Fbhj/project_2/%EB%B0%B0%ED%95%9C%EC%A7%84/medicine.ipynb\" target=\"_parent\"><img src=\"https://colab.research.google.com/assets/colab-badge.svg\" alt=\"Open In Colab\"/></a>"
      ]
    },
    {
      "cell_type": "markdown",
      "metadata": {
        "id": "cAofyuZjka4R"
      },
      "source": [
        "# Import"
      ]
    },
    {
      "cell_type": "code",
      "execution_count": 1,
      "metadata": {
        "id": "c3_LXu3Suf6l",
        "colab": {
          "base_uri": "https://localhost:8080/"
        },
        "outputId": "56afc42b-f706-4a63-a048-a896d439ec28"
      },
      "outputs": [
        {
          "output_type": "execute_result",
          "data": {
            "text/plain": [
              "<torch._C.Generator at 0x7f68e1a8cf10>"
            ]
          },
          "metadata": {},
          "execution_count": 1
        }
      ],
      "source": [
        "import pandas as pd\n",
        "import numpy as np\n",
        "\n",
        "# ML\n",
        "import torch\n",
        "import torchvision\n",
        "\n",
        "import torchvision.transforms as transforms\n",
        "from sklearn.model_selection import StratifiedKFold\n",
        "import torch.nn as nn\n",
        "import torch.nn.functional as F\n",
        "import torch.optim as optim\n",
        "from torch.utils.data import Dataset, DataLoader, random_split\n",
        "\n",
        "\n",
        "torch.manual_seed(123)"
      ]
    },
    {
      "cell_type": "markdown",
      "metadata": {
        "id": "oxkghkajlY7Q"
      },
      "source": [
        "# Create DataLoader"
      ]
    },
    {
      "cell_type": "markdown",
      "metadata": {
        "id": "bEH6uwx_Ymdx"
      },
      "source": [
        "## load npy"
      ]
    },
    {
      "cell_type": "code",
      "execution_count": 2,
      "metadata": {
        "id": "rYGO_MSkZym4"
      },
      "outputs": [],
      "source": [
        "root_path = '/content/drive/MyDrive/data/medicine/'\n",
        "\n",
        "image_data_n = np.load(root_path + 'ImageData.npy')\n",
        "dl_idx  = np.load(root_path + 'dl_idx.npy')\n",
        "dl_name = np.load(root_path + 'dl_name.npy')"
      ]
    },
    {
      "cell_type": "code",
      "execution_count": 3,
      "metadata": {
        "colab": {
          "base_uri": "https://localhost:8080/"
        },
        "id": "dxrB-EzxZ8MQ",
        "outputId": "45af74a1-a8eb-4f24-afd6-3dca67a9cc8b"
      },
      "outputs": [
        {
          "output_type": "stream",
          "name": "stdout",
          "text": [
            "(9612, 128, 128, 3)\n",
            "(9612,)\n",
            "(9612,)\n"
          ]
        }
      ],
      "source": [
        "print(image_data_n.shape)\n",
        "print(dl_idx.shape)\n",
        "print(dl_name.shape)"
      ]
    },
    {
      "cell_type": "markdown",
      "metadata": {
        "id": "VD3spDHAlrXb"
      },
      "source": [
        "## define get_img(cv2)"
      ]
    },
    {
      "cell_type": "code",
      "execution_count": 4,
      "metadata": {
        "id": "WITlJzm8kQ-T"
      },
      "outputs": [],
      "source": [
        "import cv2\n",
        "\n",
        "def get_img_list(series) :\n",
        "\n",
        "    \n",
        "    reshaped_image_list = []\n",
        "\n",
        "    for file_name in series :\n",
        "        image_path = file_name\n",
        "        image = cv2.imread(image_path, cv2.IMREAD_COLOR)\n",
        "\n",
        "        image = cv2.resize(image, dsize=(100, 100), interpolation=cv2.INTER_AREA)\n",
        "\n",
        "        reshaped_image = image.reshape(3,100,100) #reshape\n",
        "        reshaped_image_list.append(reshaped_image)\n",
        "        \n",
        "    return reshaped_image_list"
      ]
    },
    {
      "cell_type": "markdown",
      "metadata": {
        "id": "W_XZOc2ylurC"
      },
      "source": [
        "## define get_transform(normalize)"
      ]
    },
    {
      "cell_type": "code",
      "execution_count": 5,
      "metadata": {
        "id": "UCBOYaANlgRq"
      },
      "outputs": [],
      "source": [
        "def get_transform():\n",
        "\n",
        "    t = list()\n",
        "    t.append(transforms.ToTensor())\n",
        "\n",
        "    # t.append(transforms.Normalize((0.5, 0.5, 0.5), (0.5, 0.5, 0.5)))\n",
        "    \n",
        "    return transforms.Compose(t)"
      ]
    },
    {
      "cell_type": "code",
      "source": [
        "test_inp = np.random.rand(128,128,3)\n",
        "\n",
        "test_trans = get_transform()\n",
        "\n",
        "test_out = test_trans(test_inp)"
      ],
      "metadata": {
        "id": "3JGqVVZ1n1W-"
      },
      "execution_count": 6,
      "outputs": []
    },
    {
      "cell_type": "markdown",
      "metadata": {
        "id": "AN8rNJUIlxUK"
      },
      "source": [
        "## define dataset"
      ]
    },
    {
      "cell_type": "markdown",
      "metadata": {
        "id": "4qnwcJxhaLe6"
      },
      "source": [
        "## define dataset 2 (local load version)"
      ]
    },
    {
      "cell_type": "code",
      "execution_count": 7,
      "metadata": {
        "id": "6pVncpOzaOv9"
      },
      "outputs": [],
      "source": [
        "class CustomDataset(Dataset):\n",
        "    def __init__(self, img_list, label=None):\n",
        "        self.transform = transforms.Compose([\n",
        "                      transforms.ToTensor(),\n",
        "    # -1 ~ 1 사이의 범위를 가지도록 정규화\n",
        "                      transforms.Normalize((0.5, 0.5, 0.5), (0.5, 0.5, 0.5))\n",
        "        ])\n",
        "        self.img_list = img_list\n",
        "        self.label = label\n",
        "        self.transformed_img_list = list(map(self.transform, self.img_list))\n",
        "        print(self.transformed_img_list)\n",
        "    def __len__(self):\n",
        "        return len(self.img_list)\n",
        "    \n",
        "    def __getitem__(self, i):\n",
        "        \n",
        "        x_data = self.transformed_img_list[i]\n",
        "\n",
        "        return x_data, torch.tensor(self.label[i],dtype = torch.long)"
      ]
    },
    {
      "cell_type": "markdown",
      "metadata": {
        "id": "iXLYQjteapI3"
      },
      "source": [
        "## one-hot encoding and make label list"
      ]
    },
    {
      "cell_type": "code",
      "execution_count": 8,
      "metadata": {
        "colab": {
          "base_uri": "https://localhost:8080/"
        },
        "id": "uIH7h--Oam0Y",
        "outputId": "57021193-aa29-4ef7-d18c-5c1cce39b5ad"
      },
      "outputs": [
        {
          "output_type": "stream",
          "name": "stdout",
          "text": [
            "['38883', '38889', '38895', '38909', '38911', '38912', '38913', '38926', '38928', '38953', '38957', '38958', '38961', '38966', '38969', '39020', '39035', '39046', '39103', '39107', '39122', '39135', '39145', '39146']\n",
            "     dl_idx        dl_name  label\n",
            "0     38883          에피나레정      0\n",
            "1     38883          에피나레정      0\n",
            "2     38883          에피나레정      0\n",
            "3     38883          에피나레정      0\n",
            "4     38883          에피나레정      0\n",
            "...     ...            ...    ...\n",
            "9607  39146  듀카브정30/10밀리그램     23\n",
            "9608  39146  듀카브정30/10밀리그램     23\n",
            "9609  39146  듀카브정30/10밀리그램     23\n",
            "9610  39146  듀카브정30/10밀리그램     23\n",
            "9611  39146  듀카브정30/10밀리그램     23\n",
            "\n",
            "[9612 rows x 3 columns]\n",
            "9612\n"
          ]
        }
      ],
      "source": [
        "label_name = pd.DataFrame(dl_idx,columns = ['dl_idx'])\n",
        "label_name['dl_name'] = dl_name\n",
        "label_list = label_name['dl_idx'].unique().tolist()\n",
        "print(label_list)\n",
        "\n",
        "def add(valid):\n",
        "  index = label_list.index(valid)\n",
        "  return index\n",
        "\n",
        "label_name['label'] = label_name.apply(lambda row : add(row['dl_idx']), axis = 1)\n",
        "print(label_name)\n",
        "\n",
        "\n",
        "label = label_name['label'].tolist()\n",
        "print(len(label))"
      ]
    },
    {
      "cell_type": "code",
      "source": [
        "print(len(label_list))"
      ],
      "metadata": {
        "colab": {
          "base_uri": "https://localhost:8080/"
        },
        "id": "ljAbnhaxtRJg",
        "outputId": "a70bfad6-a664-422e-db80-5113ba2c8cf5"
      },
      "execution_count": 9,
      "outputs": [
        {
          "output_type": "stream",
          "name": "stdout",
          "text": [
            "24\n"
          ]
        }
      ]
    },
    {
      "cell_type": "code",
      "source": [
        "classes = label_list"
      ],
      "metadata": {
        "id": "ubVaDX3runcW"
      },
      "execution_count": 9,
      "outputs": []
    },
    {
      "cell_type": "markdown",
      "source": [
        "## create dataset test"
      ],
      "metadata": {
        "id": "8o_VA5Hicq7v"
      }
    },
    {
      "cell_type": "code",
      "source": [
        "image_data_l = []\n",
        "\n",
        "for i in image_data_n:\n",
        "  image_data_l.append(i)"
      ],
      "metadata": {
        "id": "kJgGdtcnnEOT"
      },
      "execution_count": 13,
      "outputs": []
    },
    {
      "cell_type": "code",
      "source": [
        "print(image_data_l[0].shape)"
      ],
      "metadata": {
        "colab": {
          "base_uri": "https://localhost:8080/"
        },
        "id": "OTzNWkKboKoe",
        "outputId": "b323aee1-05df-4947-c916-58894e738c34"
      },
      "execution_count": 14,
      "outputs": [
        {
          "output_type": "stream",
          "name": "stdout",
          "text": [
            "(128, 128, 3)\n"
          ]
        }
      ]
    },
    {
      "cell_type": "code",
      "source": [
        "test_dataset  = CustomDataset(img_list = image_data_l, label = label)"
      ],
      "metadata": {
        "colab": {
          "base_uri": "https://localhost:8080/"
        },
        "id": "Nw8vaaDhcsiv",
        "outputId": "cc187da5-1ee6-4615-f680-1970e453fb15"
      },
      "execution_count": 15,
      "outputs": [
        {
          "output_type": "stream",
          "name": "stderr",
          "text": [
            "IOPub data rate exceeded.\n",
            "The notebook server will temporarily stop sending output\n",
            "to the client in order to avoid crashing it.\n",
            "To change this limit, set the config variable\n",
            "`--NotebookApp.iopub_data_rate_limit`.\n",
            "\n",
            "Current values:\n",
            "NotebookApp.iopub_data_rate_limit=1000000.0 (bytes/sec)\n",
            "NotebookApp.rate_limit_window=3.0 (secs)\n",
            "\n"
          ]
        }
      ]
    },
    {
      "cell_type": "code",
      "source": [
        "del test_dataset"
      ],
      "metadata": {
        "id": "cAoK1HXakhDx"
      },
      "execution_count": 16,
      "outputs": []
    },
    {
      "cell_type": "markdown",
      "metadata": {
        "id": "Ko7Ya1sdyDWG"
      },
      "source": [
        "## for local save image load"
      ]
    },
    {
      "cell_type": "code",
      "execution_count": 15,
      "metadata": {
        "id": "s59YuKgAyF92"
      },
      "outputs": [],
      "source": [
        "import pickle\n",
        "import gzip\n",
        "\n",
        "# to define\n",
        "file_path_l = []\n",
        "\n",
        "data = get_img_list(file_path_l)\n",
        "\n",
        "with gzip.open('ImageFile.pickle', 'wb') as f:\n",
        "    pickle.dump(data, f)"
      ]
    },
    {
      "cell_type": "markdown",
      "metadata": {
        "id": "MhP77XfElzJt"
      },
      "source": [
        "## define dataloader"
      ]
    },
    {
      "cell_type": "code",
      "execution_count": 17,
      "metadata": {
        "id": "u_KXOzR7ljxy"
      },
      "outputs": [],
      "source": [
        "import math\n",
        "\n",
        "def get_dataloader(x, y):\n",
        "    # img_list = get_img_list(x)\n",
        "    dataset = CustomDataset(img_list=x, label=y)\n",
        "\n",
        "\n",
        "    dataset_size = len(dataset)\n",
        "    train_size = int(dataset_size * 0.8)\n",
        "    validation_size = int(dataset_size * 0.1)\n",
        "    test_size = dataset_size - train_size - validation_size\n",
        "\n",
        "    train_dataset, validation_dataset, test_dataset = random_split(dataset, [train_size, validation_size, test_size])\n",
        "\n",
        "    train_dataloader = torch.utils.data.DataLoader(dataset=train_dataset, batch_size=batch_size)\n",
        "    validation_dataloader = torch.utils.data.DataLoader(dataset=validation_dataset, batch_size=batch_size)\n",
        "    test_dataloader = torch.utils.data.DataLoader(dataset=test_dataset, batch_size=batch_size)\n",
        "\n",
        "\n",
        "    return train_dataloader, validation_dataloader, test_dataloader"
      ]
    },
    {
      "cell_type": "markdown",
      "source": [
        "## create dataloader!"
      ],
      "metadata": {
        "id": "Uyu2vT_Ddk4c"
      }
    },
    {
      "cell_type": "code",
      "source": [
        "batch_size = 64\n",
        "\n",
        "train_dataloader, validation_dataloader, test_dataloader  = get_dataloader(image_data_l, label)"
      ],
      "metadata": {
        "id": "VZM39fr_daCt",
        "colab": {
          "base_uri": "https://localhost:8080/"
        },
        "outputId": "771d66a4-6305-48ed-9b50-4ac37a137bc0"
      },
      "execution_count": 18,
      "outputs": [
        {
          "output_type": "stream",
          "name": "stderr",
          "text": [
            "IOPub data rate exceeded.\n",
            "The notebook server will temporarily stop sending output\n",
            "to the client in order to avoid crashing it.\n",
            "To change this limit, set the config variable\n",
            "`--NotebookApp.iopub_data_rate_limit`.\n",
            "\n",
            "Current values:\n",
            "NotebookApp.iopub_data_rate_limit=1000000.0 (bytes/sec)\n",
            "NotebookApp.rate_limit_window=3.0 (secs)\n",
            "\n"
          ]
        }
      ]
    },
    {
      "cell_type": "markdown",
      "metadata": {
        "id": "5-jVQONBkgIg"
      },
      "source": [
        "# Simple CNN Model"
      ]
    },
    {
      "cell_type": "code",
      "execution_count": 19,
      "metadata": {
        "id": "M6k77r-NklYZ"
      },
      "outputs": [],
      "source": [
        "import torch\n",
        "import torchvision\n",
        "from torch.utils.data import Dataset\n",
        "import torchvision.transforms as transforms\n",
        "from sklearn.model_selection import StratifiedKFold\n",
        "import torch.nn as nn\n",
        "import torch.nn.functional as F\n",
        "import torch.optim as optim"
      ]
    },
    {
      "cell_type": "markdown",
      "metadata": {
        "id": "iefgA3olkvS9"
      },
      "source": [
        "## model structure"
      ]
    },
    {
      "cell_type": "code",
      "execution_count": 20,
      "metadata": {
        "id": "DPxrXWpQki9e"
      },
      "outputs": [],
      "source": [
        "class CNN(nn.Module):\n",
        "    def __init__(self):\n",
        "        super(CNN, self).__init__()\n",
        "        self.conv1 = nn.Conv2d(in_channels=3, out_channels=20, kernel_size=5, stride=1)\n",
        "        self.conv2 = nn.Conv2d(in_channels=20, out_channels=50, kernel_size=5, stride=1)\n",
        "        self.fc1 = nn.Linear(29 * 29 * 50, 500)\n",
        "        self.fc2 = nn.Linear(500, 24)\n",
        "\n",
        "    def forward(self, x):\n",
        "        # print(x.shape)\n",
        "        x = F.relu(self.conv1(x))\n",
        "        # print(x.shape)\n",
        "        x = F.max_pool2d(x, kernel_size=2, stride=2)\n",
        "        # print(x.shape)       \n",
        "        x = F.relu(self.conv2(x))\n",
        "        # print(x.shape)\n",
        "        x = F.max_pool2d(x, kernel_size=2, stride=2)\n",
        "        # print(x.shape)\n",
        "        x = x.view(-1, 50*29*29)\n",
        "        # print(x.shape)\n",
        "        x = F.relu(self.fc1(x))\n",
        "        # print(x.shape)\n",
        "        x = self.fc2(x)\n",
        "        # print(x.shape)\n",
        "        return x\n",
        "  \n",
        "# test_moel = CNN()\n",
        "# inp = torch.randn(2,3,128,128)\n",
        "# test_moel(inp)"
      ]
    },
    {
      "cell_type": "code",
      "execution_count": 20,
      "metadata": {
        "id": "ZivOSIUVoEY2"
      },
      "outputs": [],
      "source": []
    },
    {
      "cell_type": "markdown",
      "metadata": {
        "id": "MOxLwbd4tmdt"
      },
      "source": [
        "## device"
      ]
    },
    {
      "cell_type": "code",
      "execution_count": 21,
      "metadata": {
        "colab": {
          "base_uri": "https://localhost:8080/"
        },
        "id": "XglXFt1itnfO",
        "outputId": "1af70cb2-5701-4470-cae4-615e582a248f"
      },
      "outputs": [
        {
          "output_type": "stream",
          "name": "stdout",
          "text": [
            "cuda:0\n"
          ]
        }
      ],
      "source": [
        "device = torch.device(\"cuda:0\" if torch.cuda.is_available() else \"cpu\")\n",
        "print(device)"
      ]
    },
    {
      "cell_type": "markdown",
      "metadata": {
        "id": "KGYcG5OVtdJF"
      },
      "source": [
        "## create model(loss function / optimizer)"
      ]
    },
    {
      "cell_type": "code",
      "execution_count": 50,
      "metadata": {
        "id": "qZP1qdqSo5WR"
      },
      "outputs": [],
      "source": [
        "model = CNN().to(device)\n",
        "\n",
        "model.train()\n",
        "criterion = torch.nn.CrossEntropyLoss().to(device)\n",
        "optimizer = optim.SGD(model.parameters(), lr=0.001)"
      ]
    },
    {
      "cell_type": "markdown",
      "metadata": {
        "id": "6b9f0E9rt1D4"
      },
      "source": [
        "## Early Stopping"
      ]
    },
    {
      "cell_type": "code",
      "source": [
        "class EarlyStopping:\n",
        "    \"\"\"주어진 patience 이후로 validation loss가 개선되지 않으면 학습을 조기 중지\"\"\"\n",
        "    def __init__(self, patience=7, verbose=False, delta=0, path='checkpoint.pt'):\n",
        "        \"\"\"\n",
        "        Args:\n",
        "            patience (int): validation loss가 개선된 후 기다리는 기간\n",
        "                            Default: 7\n",
        "            verbose (bool): True일 경우 각 validation loss의 개선 사항 메세지 출력\n",
        "                            Default: False\n",
        "            delta (float): 개선되었다고 인정되는 monitered quantity의 최소 변화\n",
        "                            Default: 0\n",
        "            path (str): checkpoint저장 경로\n",
        "                            Default: 'checkpoint.pt'\n",
        "        \"\"\"\n",
        "        self.patience = patience\n",
        "        self.verbose = verbose\n",
        "        self.counter = 0\n",
        "        self.best_score = None\n",
        "        self.early_stop = False\n",
        "        self.val_loss_min = np.Inf\n",
        "        self.delta = delta\n",
        "        self.path = path\n",
        "\n",
        "    def __call__(self, val_loss, model):\n",
        "\n",
        "        score = -val_loss\n",
        "\n",
        "        if self.best_score is None:\n",
        "            self.best_score = score\n",
        "            self.save_checkpoint(val_loss, model)\n",
        "        elif score < self.best_score + self.delta:\n",
        "            self.counter += 1\n",
        "            print(f'EarlyStopping counter: {self.counter} out of {self.patience}')\n",
        "            if self.counter >= self.patience:\n",
        "                self.early_stop = True\n",
        "        else:\n",
        "            self.best_score = score\n",
        "            self.save_checkpoint(val_loss, model)\n",
        "            self.counter = 0\n",
        "\n",
        "    def save_checkpoint(self, val_loss, model):\n",
        "        '''validation loss가 감소하면 모델을 저장한다.'''\n",
        "        if self.verbose:\n",
        "            print(f'Validation loss decreased ({self.val_loss_min:.6f} --> {val_loss:.6f}).  Saving model ...')\n",
        "        torch.save(model.state_dict(), self.path)\n",
        "        self.val_loss_min = val_loss"
      ],
      "metadata": {
        "id": "Tb9PVPlJWkc1"
      },
      "execution_count": 24,
      "outputs": []
    },
    {
      "cell_type": "code",
      "source": [
        "early_stopping = EarlyStopping()"
      ],
      "metadata": {
        "id": "4jr6MG6eWyfC"
      },
      "execution_count": 49,
      "outputs": []
    },
    {
      "cell_type": "markdown",
      "metadata": {
        "id": "JcyVGHAtkyN1"
      },
      "source": [
        "## Train"
      ]
    },
    {
      "cell_type": "markdown",
      "metadata": {
        "id": "l9r4m5UPlCkU"
      },
      "source": [
        "### start train"
      ]
    },
    {
      "cell_type": "code",
      "execution_count": 51,
      "metadata": {
        "id": "9HJEnNImkxa7",
        "colab": {
          "base_uri": "https://localhost:8080/"
        },
        "outputId": "6963b8fa-228a-488d-af46-6325ef309fce"
      },
      "outputs": [
        {
          "output_type": "stream",
          "name": "stdout",
          "text": [
            "loss of 0 epoch, 3.109 / valid loss: 3.200\n",
            "EarlyStopping counter: 1 out of 7\n",
            "loss of 1 epoch, 3.095 / valid loss: 3.318\n",
            "EarlyStopping counter: 2 out of 7\n",
            "loss of 2 epoch, 3.021 / valid loss: 3.225\n",
            "loss of 3 epoch, 2.962 / valid loss: 3.156\n",
            "loss of 4 epoch, 2.898 / valid loss: 3.096\n",
            "loss of 5 epoch, 2.808 / valid loss: 3.028\n",
            "loss of 6 epoch, 2.701 / valid loss: 2.933\n",
            "loss of 7 epoch, 2.570 / valid loss: 2.799\n",
            "loss of 8 epoch, 2.396 / valid loss: 2.624\n",
            "loss of 9 epoch, 2.170 / valid loss: 2.413\n",
            "loss of 10 epoch, 1.915 / valid loss: 2.178\n",
            "loss of 11 epoch, 1.665 / valid loss: 1.921\n",
            "loss of 12 epoch, 1.446 / valid loss: 1.672\n",
            "loss of 13 epoch, 1.271 / valid loss: 1.432\n",
            "loss of 14 epoch, 1.128 / valid loss: 1.199\n",
            "loss of 15 epoch, 1.005 / valid loss: 0.999\n",
            "loss of 16 epoch, 0.909 / valid loss: 0.855\n",
            "loss of 17 epoch, 0.830 / valid loss: 0.718\n",
            "loss of 18 epoch, 0.768 / valid loss: 0.616\n",
            "loss of 19 epoch, 0.716 / valid loss: 0.521\n",
            "loss of 20 epoch, 0.675 / valid loss: 0.451\n",
            "loss of 21 epoch, 0.639 / valid loss: 0.399\n",
            "loss of 22 epoch, 0.605 / valid loss: 0.352\n",
            "loss of 23 epoch, 0.577 / valid loss: 0.318\n",
            "loss of 24 epoch, 0.552 / valid loss: 0.296\n",
            "loss of 25 epoch, 0.524 / valid loss: 0.267\n",
            "loss of 26 epoch, 0.500 / valid loss: 0.248\n",
            "loss of 27 epoch, 0.476 / valid loss: 0.228\n",
            "loss of 28 epoch, 0.450 / valid loss: 0.215\n",
            "loss of 29 epoch, 0.429 / valid loss: 0.200\n",
            "loss of 30 epoch, 0.404 / valid loss: 0.183\n",
            "loss of 31 epoch, 0.386 / valid loss: 0.169\n",
            "loss of 32 epoch, 0.367 / valid loss: 0.161\n",
            "loss of 33 epoch, 0.351 / valid loss: 0.147\n",
            "loss of 34 epoch, 0.335 / valid loss: 0.137\n",
            "loss of 35 epoch, 0.318 / valid loss: 0.129\n",
            "loss of 36 epoch, 0.307 / valid loss: 0.122\n",
            "loss of 37 epoch, 0.297 / valid loss: 0.117\n",
            "loss of 38 epoch, 0.283 / valid loss: 0.110\n",
            "loss of 39 epoch, 0.271 / valid loss: 0.104\n",
            "loss of 40 epoch, 0.263 / valid loss: 0.096\n",
            "loss of 41 epoch, 0.255 / valid loss: 0.093\n",
            "loss of 42 epoch, 0.247 / valid loss: 0.090\n",
            "loss of 43 epoch, 0.238 / valid loss: 0.085\n",
            "loss of 44 epoch, 0.232 / valid loss: 0.080\n",
            "loss of 45 epoch, 0.226 / valid loss: 0.075\n",
            "loss of 46 epoch, 0.221 / valid loss: 0.071\n",
            "loss of 47 epoch, 0.216 / valid loss: 0.069\n",
            "loss of 48 epoch, 0.213 / valid loss: 0.065\n",
            "loss of 49 epoch, 0.208 / valid loss: 0.059\n",
            "loss of 50 epoch, 0.205 / valid loss: 0.057\n",
            "loss of 51 epoch, 0.201 / valid loss: 0.054\n",
            "loss of 52 epoch, 0.197 / valid loss: 0.051\n",
            "EarlyStopping counter: 1 out of 7\n",
            "loss of 53 epoch, 0.195 / valid loss: 0.051\n",
            "loss of 54 epoch, 0.193 / valid loss: 0.046\n",
            "loss of 55 epoch, 0.189 / valid loss: 0.045\n",
            "loss of 56 epoch, 0.191 / valid loss: 0.042\n",
            "loss of 57 epoch, 0.191 / valid loss: 0.039\n",
            "loss of 58 epoch, 0.187 / valid loss: 0.037\n",
            "loss of 59 epoch, 0.188 / valid loss: 0.035\n",
            "loss of 60 epoch, 0.185 / valid loss: 0.033\n",
            "loss of 61 epoch, 0.183 / valid loss: 0.032\n",
            "loss of 62 epoch, 0.182 / valid loss: 0.030\n",
            "EarlyStopping counter: 1 out of 7\n",
            "loss of 63 epoch, 0.181 / valid loss: 0.030\n",
            "loss of 64 epoch, 0.179 / valid loss: 0.028\n",
            "EarlyStopping counter: 1 out of 7\n",
            "loss of 65 epoch, 0.181 / valid loss: 0.028\n",
            "loss of 66 epoch, 0.177 / valid loss: 0.026\n",
            "loss of 67 epoch, 0.175 / valid loss: 0.023\n",
            "EarlyStopping counter: 1 out of 7\n",
            "loss of 68 epoch, 0.176 / valid loss: 0.024\n",
            "loss of 69 epoch, 0.172 / valid loss: 0.021\n",
            "loss of 70 epoch, 0.170 / valid loss: 0.021\n",
            "loss of 71 epoch, 0.169 / valid loss: 0.019\n",
            "loss of 72 epoch, 0.167 / valid loss: 0.018\n",
            "loss of 73 epoch, 0.166 / valid loss: 0.018\n",
            "loss of 74 epoch, 0.164 / valid loss: 0.017\n",
            "loss of 75 epoch, 0.161 / valid loss: 0.016\n",
            "loss of 76 epoch, 0.162 / valid loss: 0.015\n",
            "loss of 77 epoch, 0.158 / valid loss: 0.014\n",
            "loss of 78 epoch, 0.159 / valid loss: 0.014\n",
            "loss of 79 epoch, 0.155 / valid loss: 0.013\n",
            "loss of 80 epoch, 0.153 / valid loss: 0.012\n",
            "loss of 81 epoch, 0.154 / valid loss: 0.012\n",
            "loss of 82 epoch, 0.152 / valid loss: 0.011\n",
            "loss of 83 epoch, 0.151 / valid loss: 0.011\n",
            "loss of 84 epoch, 0.150 / valid loss: 0.011\n",
            "loss of 85 epoch, 0.149 / valid loss: 0.010\n",
            "loss of 86 epoch, 0.146 / valid loss: 0.010\n",
            "loss of 87 epoch, 0.149 / valid loss: 0.009\n",
            "loss of 88 epoch, 0.148 / valid loss: 0.009\n",
            "loss of 89 epoch, 0.146 / valid loss: 0.008\n",
            "loss of 90 epoch, 0.145 / valid loss: 0.008\n",
            "EarlyStopping counter: 1 out of 7\n",
            "loss of 91 epoch, 0.146 / valid loss: 0.008\n",
            "loss of 92 epoch, 0.142 / valid loss: 0.007\n",
            "loss of 93 epoch, 0.139 / valid loss: 0.007\n",
            "EarlyStopping counter: 1 out of 7\n",
            "loss of 94 epoch, 0.138 / valid loss: 0.007\n",
            "loss of 95 epoch, 0.142 / valid loss: 0.007\n",
            "EarlyStopping counter: 1 out of 7\n",
            "loss of 96 epoch, 0.137 / valid loss: 0.007\n",
            "loss of 97 epoch, 0.135 / valid loss: 0.006\n",
            "EarlyStopping counter: 1 out of 7\n",
            "loss of 98 epoch, 0.136 / valid loss: 0.006\n",
            "loss of 99 epoch, 0.134 / valid loss: 0.006\n"
          ]
        }
      ],
      "source": [
        "loss_l = []\n",
        "validloss_l = []\n",
        "epoch_num = 100\n",
        "\n",
        "for epoch in range(epoch_num):\n",
        "  for index, (data, target) in enumerate(train_dataloader):\n",
        "    data = data.to(device)\n",
        "    target = target.to(device)\n",
        "    optimizer.zero_grad()  # 기울기 초기화\n",
        "    output = model(data)\n",
        "    loss = criterion(output, target)\n",
        "    loss.backward()  # 역전파\n",
        "    optimizer.step()\n",
        "\n",
        "  for   index, (data, target) in enumerate(validation_dataloader):\n",
        "    data = data.to(device)\n",
        "    target = target.to(device)\n",
        "    output = model(data)\n",
        "    valid_loss = criterion(output,target)\n",
        "\n",
        "  early_stopping(valid_loss, model)\n",
        "  if early_stopping.early_stop:\n",
        "    print(\"Early stopping\")\n",
        "    break\n",
        "  print(f\"loss of {epoch} epoch, {loss.item():.3f} / valid loss: {valid_loss:.3f}\")\n",
        "  loss_l.append(loss.item())\n",
        "  validloss_l.append(valid_loss.item())\n"
      ]
    },
    {
      "cell_type": "markdown",
      "metadata": {
        "id": "R25u9FWXk_6P"
      },
      "source": [
        "### plot loss"
      ]
    },
    {
      "cell_type": "code",
      "execution_count": null,
      "metadata": {
        "id": "RB5VGIHQuVC9"
      },
      "outputs": [],
      "source": []
    },
    {
      "cell_type": "code",
      "execution_count": 52,
      "metadata": {
        "id": "pUiT5sJJlBOa",
        "colab": {
          "base_uri": "https://localhost:8080/",
          "height": 284
        },
        "outputId": "4d57dd4f-b480-4215-a139-ce3a4757a0cb"
      },
      "outputs": [
        {
          "output_type": "execute_result",
          "data": {
            "text/plain": [
              "[<matplotlib.lines.Line2D at 0x7f7a9f45d580>]"
            ]
          },
          "metadata": {},
          "execution_count": 52
        },
        {
          "output_type": "display_data",
          "data": {
            "text/plain": [
              "<Figure size 432x288 with 1 Axes>"
            ],
            "image/png": "[encoded data removed]"
          },
          "metadata": {
            "needs_background": "light"
          }
        }
      ],
      "source": [
        "import matplotlib.pyplot as plt\n",
        "\n",
        "plt.plot(loss_l, label = \"train loss\")\n",
        "plt.plot(validloss_l, label = \"valid loss\")"
      ]
    },
    {
      "cell_type": "markdown",
      "metadata": {
        "id": "Rsg7RJXwlFIQ"
      },
      "source": [
        "## Model Analysis"
      ]
    },
    {
      "cell_type": "markdown",
      "metadata": {
        "id": "nhD4e_HvlISO"
      },
      "source": [
        "### Confusion Matrix"
      ]
    },
    {
      "cell_type": "code",
      "execution_count": null,
      "metadata": {
        "id": "cEhaYi5vlHzP"
      },
      "outputs": [],
      "source": [
        "model.eval()\n",
        "model.cpu()"
      ]
    },
    {
      "cell_type": "code",
      "execution_count": 54,
      "metadata": {
        "id": "Ah5ePDBTlMlJ"
      },
      "outputs": [],
      "source": [
        "y_pred = []\n",
        "y_true = []\n",
        "\n",
        "# iterate over test data\n",
        "for index, (inputs, labels) in enumerate(test_dataloader):\n",
        "        output = model(inputs) # Feed Network\n",
        "\n",
        "        output = (torch.max(torch.exp(output), 1)[1]).data.cpu().numpy()\n",
        "        y_pred.extend(output) # Save Prediction\n",
        "        \n",
        "        labels = labels.data.cpu().numpy()\n",
        "        y_true.extend(labels) # Save Truth"
      ]
    },
    {
      "cell_type": "code",
      "source": [
        "print(label_list)"
      ],
      "metadata": {
        "colab": {
          "base_uri": "https://localhost:8080/"
        },
        "id": "_AEJ2dGCugQY",
        "outputId": "6a678149-c1ea-445f-f068-745ec95668f0"
      },
      "execution_count": 44,
      "outputs": [
        {
          "output_type": "stream",
          "name": "stdout",
          "text": [
            "['38883', '38889', '38895', '38909', '38911', '38912', '38913', '38926', '38928', '38953', '38957', '38958', '38961', '38966', '38969', '39020', '39035', '39046', '39103', '39107', '39122', '39135', '39145', '39146']\n"
          ]
        }
      ]
    },
    {
      "cell_type": "code",
      "source": [
        "classes = label_list"
      ],
      "metadata": {
        "id": "M29AYBnJuwRn"
      },
      "execution_count": 55,
      "outputs": []
    },
    {
      "cell_type": "code",
      "execution_count": 56,
      "metadata": {
        "id": "TM3RQs2XlU01"
      },
      "outputs": [],
      "source": [
        "from sklearn.metrics import confusion_matrix\n",
        "import seaborn as sns"
      ]
    },
    {
      "cell_type": "code",
      "execution_count": 57,
      "metadata": {
        "id": "_ihwPCtUlVkc",
        "colab": {
          "base_uri": "https://localhost:8080/",
          "height": 451
        },
        "outputId": "f1275a27-d8a8-43ac-fdc1-de02d288d519"
      },
      "outputs": [
        {
          "output_type": "execute_result",
          "data": {
            "text/plain": [
              "<function matplotlib.pyplot.show(*args, **kw)>"
            ]
          },
          "metadata": {},
          "execution_count": 57
        },
        {
          "output_type": "display_data",
          "data": {
            "text/plain": [
              "<Figure size 864x504 with 2 Axes>"
            ],
            "image/png": "[encoded data removed]"
          },
          "metadata": {
            "needs_background": "light"
          }
        }
      ],
      "source": [
        "cf_matrix = confusion_matrix(y_true, y_pred, normalize = 'pred')\n",
        "df_cm = pd.DataFrame(cf_matrix/np.sum(cf_matrix) *10,index = [i for i in classes],\n",
        "                     columns = [i for i in classes])\n",
        "plt.figure(figsize = (12,7))\n",
        "sns.heatmap(df_cm, annot=True)\n",
        "plt.show"
      ]
    },
    {
      "cell_type": "markdown",
      "source": [
        "# VGG Model(fine tuning pretrained model on torchhub)"
      ],
      "metadata": {
        "id": "osUvjfLJL5ho"
      }
    },
    {
      "cell_type": "markdown",
      "source": [
        "## device"
      ],
      "metadata": {
        "id": "-jNxj43NMFVw"
      }
    },
    {
      "cell_type": "code",
      "source": [
        "device = torch.device(\"cuda:0\" if torch.cuda.is_available() else \"cpu\")\n",
        "print(device)"
      ],
      "metadata": {
        "id": "s-tnf_Vc1Fxm"
      },
      "execution_count": null,
      "outputs": []
    },
    {
      "cell_type": "markdown",
      "source": [
        "## create model / loss function / optimizer"
      ],
      "metadata": {
        "id": "zoVgslRyMIRb"
      }
    },
    {
      "cell_type": "code",
      "source": [
        "model = torch.hub.load('pytorch/vision:v0.10.0', 'vgg11', pretrained=True)\n",
        "model.to(device)"
      ],
      "metadata": {
        "colab": {
          "base_uri": "https://localhost:8080/",
          "height": 835,
          "referenced_widgets": [
            "6795b51cb49343eebe949e0ccbfd7537",
            "b1e95ec8cd66407b9d4c6aa8a56b48d2",
            "b9a5d0cb8cc44fe3998b89af69196a78",
            "5498acde2ee747ec96bdb975a8881b2d",
            "15f24d7f59434368b742395ededc8a92",
            "22190f193a3c4496b26b39bc2e4669f1",
            "8cc49b29538c4adb9ada66f24b4ec365",
            "608fae4b3f1940758a46c86e03715b96",
            "db4ec43060a54eed839fc88e5908fd38",
            "c3559f925e2e4be89dd240184d03f3c0",
            "33468f9a33d94f6581d5fdd8e0efca60"
          ]
        },
        "id": "LOBBZbATfXWP",
        "outputId": "7dbc1bd3-bc06-4299-8a2d-99bd37c8668c"
      },
      "execution_count": 20,
      "outputs": [
        {
          "output_type": "stream",
          "name": "stderr",
          "text": [
            "Downloading: \"https://github.com/pytorch/vision/zipball/v0.10.0\" to /root/.cache/torch/hub/v0.10.0.zip\n",
            "/usr/local/lib/python3.8/dist-packages/torchvision/models/_utils.py:208: UserWarning: The parameter 'pretrained' is deprecated since 0.13 and may be removed in the future, please use 'weights' instead.\n",
            "  warnings.warn(\n",
            "/usr/local/lib/python3.8/dist-packages/torchvision/models/_utils.py:223: UserWarning: Arguments other than a weight enum or `None` for 'weights' are deprecated since 0.13 and may be removed in the future. The current behavior is equivalent to passing `weights=VGG11_Weights.IMAGENET1K_V1`. You can also use `weights=VGG11_Weights.DEFAULT` to get the most up-to-date weights.\n",
            "  warnings.warn(msg)\n",
            "Downloading: \"https://download.pytorch.org/models/vgg11-8a719046.pth\" to /root/.cache/torch/hub/checkpoints/vgg11-8a719046.pth\n"
          ]
        },
        {
          "output_type": "display_data",
          "data": {
            "text/plain": [
              "  0%|          | 0.00/507M [00:00<?, ?B/s]"
            ],
            "application/vnd.jupyter.widget-view+json": {
              "version_major": 2,
              "version_minor": 0,
              "model_id": "6795b51cb49343eebe949e0ccbfd7537"
            }
          },
          "metadata": {}
        },
        {
          "output_type": "execute_result",
          "data": {
            "text/plain": [
              "VGG(\n",
              "  (features): Sequential(\n",
              "    (0): Conv2d(3, 64, kernel_size=(3, 3), stride=(1, 1), padding=(1, 1))\n",
              "    (1): ReLU(inplace=True)\n",
              "    (2): MaxPool2d(kernel_size=2, stride=2, padding=0, dilation=1, ceil_mode=False)\n",
              "    (3): Conv2d(64, 128, kernel_size=(3, 3), stride=(1, 1), padding=(1, 1))\n",
              "    (4): ReLU(inplace=True)\n",
              "    (5): MaxPool2d(kernel_size=2, stride=2, padding=0, dilation=1, ceil_mode=False)\n",
              "    (6): Conv2d(128, 256, kernel_size=(3, 3), stride=(1, 1), padding=(1, 1))\n",
              "    (7): ReLU(inplace=True)\n",
              "    (8): Conv2d(256, 256, kernel_size=(3, 3), stride=(1, 1), padding=(1, 1))\n",
              "    (9): ReLU(inplace=True)\n",
              "    (10): MaxPool2d(kernel_size=2, stride=2, padding=0, dilation=1, ceil_mode=False)\n",
              "    (11): Conv2d(256, 512, kernel_size=(3, 3), stride=(1, 1), padding=(1, 1))\n",
              "    (12): ReLU(inplace=True)\n",
              "    (13): Conv2d(512, 512, kernel_size=(3, 3), stride=(1, 1), padding=(1, 1))\n",
              "    (14): ReLU(inplace=True)\n",
              "    (15): MaxPool2d(kernel_size=2, stride=2, padding=0, dilation=1, ceil_mode=False)\n",
              "    (16): Conv2d(512, 512, kernel_size=(3, 3), stride=(1, 1), padding=(1, 1))\n",
              "    (17): ReLU(inplace=True)\n",
              "    (18): Conv2d(512, 512, kernel_size=(3, 3), stride=(1, 1), padding=(1, 1))\n",
              "    (19): ReLU(inplace=True)\n",
              "    (20): MaxPool2d(kernel_size=2, stride=2, padding=0, dilation=1, ceil_mode=False)\n",
              "  )\n",
              "  (avgpool): AdaptiveAvgPool2d(output_size=(7, 7))\n",
              "  (classifier): Sequential(\n",
              "    (0): Linear(in_features=25088, out_features=4096, bias=True)\n",
              "    (1): ReLU(inplace=True)\n",
              "    (2): Dropout(p=0.5, inplace=False)\n",
              "    (3): Linear(in_features=4096, out_features=4096, bias=True)\n",
              "    (4): ReLU(inplace=True)\n",
              "    (5): Dropout(p=0.5, inplace=False)\n",
              "    (6): Linear(in_features=4096, out_features=1000, bias=True)\n",
              "  )\n",
              ")"
            ]
          },
          "metadata": {},
          "execution_count": 20
        }
      ]
    },
    {
      "cell_type": "code",
      "source": [
        "print(model)"
      ],
      "metadata": {
        "colab": {
          "base_uri": "https://localhost:8080/"
        },
        "id": "dXllOx_zfdQL",
        "outputId": "5c511f2d-ca4a-4924-fb1a-ce2506d4c5fd"
      },
      "execution_count": 21,
      "outputs": [
        {
          "output_type": "stream",
          "name": "stdout",
          "text": [
            "VGG(\n",
            "  (features): Sequential(\n",
            "    (0): Conv2d(3, 64, kernel_size=(3, 3), stride=(1, 1), padding=(1, 1))\n",
            "    (1): ReLU(inplace=True)\n",
            "    (2): MaxPool2d(kernel_size=2, stride=2, padding=0, dilation=1, ceil_mode=False)\n",
            "    (3): Conv2d(64, 128, kernel_size=(3, 3), stride=(1, 1), padding=(1, 1))\n",
            "    (4): ReLU(inplace=True)\n",
            "    (5): MaxPool2d(kernel_size=2, stride=2, padding=0, dilation=1, ceil_mode=False)\n",
            "    (6): Conv2d(128, 256, kernel_size=(3, 3), stride=(1, 1), padding=(1, 1))\n",
            "    (7): ReLU(inplace=True)\n",
            "    (8): Conv2d(256, 256, kernel_size=(3, 3), stride=(1, 1), padding=(1, 1))\n",
            "    (9): ReLU(inplace=True)\n",
            "    (10): MaxPool2d(kernel_size=2, stride=2, padding=0, dilation=1, ceil_mode=False)\n",
            "    (11): Conv2d(256, 512, kernel_size=(3, 3), stride=(1, 1), padding=(1, 1))\n",
            "    (12): ReLU(inplace=True)\n",
            "    (13): Conv2d(512, 512, kernel_size=(3, 3), stride=(1, 1), padding=(1, 1))\n",
            "    (14): ReLU(inplace=True)\n",
            "    (15): MaxPool2d(kernel_size=2, stride=2, padding=0, dilation=1, ceil_mode=False)\n",
            "    (16): Conv2d(512, 512, kernel_size=(3, 3), stride=(1, 1), padding=(1, 1))\n",
            "    (17): ReLU(inplace=True)\n",
            "    (18): Conv2d(512, 512, kernel_size=(3, 3), stride=(1, 1), padding=(1, 1))\n",
            "    (19): ReLU(inplace=True)\n",
            "    (20): MaxPool2d(kernel_size=2, stride=2, padding=0, dilation=1, ceil_mode=False)\n",
            "  )\n",
            "  (avgpool): AdaptiveAvgPool2d(output_size=(7, 7))\n",
            "  (classifier): Sequential(\n",
            "    (0): Linear(in_features=25088, out_features=4096, bias=True)\n",
            "    (1): ReLU(inplace=True)\n",
            "    (2): Dropout(p=0.5, inplace=False)\n",
            "    (3): Linear(in_features=4096, out_features=4096, bias=True)\n",
            "    (4): ReLU(inplace=True)\n",
            "    (5): Dropout(p=0.5, inplace=False)\n",
            "    (6): Linear(in_features=4096, out_features=1000, bias=True)\n",
            "  )\n",
            ")\n"
          ]
        }
      ]
    },
    {
      "cell_type": "markdown",
      "source": [
        "## freeze output layer"
      ],
      "metadata": {
        "id": "0-NgEyfUuEms"
      }
    },
    {
      "cell_type": "markdown",
      "source": [
        "overfitting 을 방지하기 위함"
      ],
      "metadata": {
        "id": "32lCpTi0vt0J"
      }
    },
    {
      "cell_type": "code",
      "source": [
        "model._modules['classifier'].requires_grad = False"
      ],
      "metadata": {
        "id": "nJUHcA58orbg"
      },
      "execution_count": 22,
      "outputs": []
    },
    {
      "cell_type": "code",
      "source": [
        "model.train()\n",
        "criterion = torch.nn.CrossEntropyLoss().to(device)\n",
        "optimizer = optim.SGD(model.parameters(), lr=0.001)"
      ],
      "metadata": {
        "id": "l3ftecLBfZUF"
      },
      "execution_count": 23,
      "outputs": []
    },
    {
      "cell_type": "markdown",
      "source": [
        "## Early Stopping"
      ],
      "metadata": {
        "id": "g-3z8Hhjd9UE"
      }
    },
    {
      "cell_type": "code",
      "source": [
        "early_stopping_2 = EarlyStopping()"
      ],
      "metadata": {
        "id": "qdbvWzCeeBAJ"
      },
      "execution_count": 25,
      "outputs": []
    },
    {
      "cell_type": "markdown",
      "source": [
        "## Train"
      ],
      "metadata": {
        "id": "_sglELiKMN24"
      }
    },
    {
      "cell_type": "markdown",
      "source": [
        "### start train"
      ],
      "metadata": {
        "id": "kE515Hy5MXgt"
      }
    },
    {
      "cell_type": "code",
      "source": [
        "loss_l = []\n",
        "validloss_l = []\n",
        "epoch_num = 100\n",
        "\n",
        "for epoch in range(epoch_num):\n",
        "  for index, (data, target) in enumerate(train_dataloader):\n",
        "    data = data.to(device)\n",
        "    target = target.to(device)\n",
        "    optimizer.zero_grad()  # 기울기 초기화\n",
        "    output = model(data)\n",
        "    loss = criterion(output, target)\n",
        "    loss.backward()  # 역전파\n",
        "    optimizer.step()\n",
        "\n",
        "  for   index, (data, target) in enumerate(validation_dataloader):\n",
        "    data = data.to(device)\n",
        "    target = target.to(device)\n",
        "    output = model(data)\n",
        "    valid_loss = criterion(output,target)\n",
        "  early_stopping_2(valid_loss, model)\n",
        "  if early_stopping_2.early_stop:\n",
        "    print(\"Early stopping\")\n",
        "    break\n",
        "  print(f\"loss of {epoch} epoch, {loss.item():.3f} / valid loss: {valid_loss:.3f}\")\n",
        "  loss_l.append(loss.item())\n",
        "  validloss_l.append(valid_loss.item())\n"
      ],
      "metadata": {
        "id": "1twc1IiZMNfR"
      },
      "execution_count": null,
      "outputs": []
    },
    {
      "cell_type": "markdown",
      "source": [
        "### plot loss"
      ],
      "metadata": {
        "id": "t0eO7ZVSMdDe"
      }
    },
    {
      "cell_type": "code",
      "source": [
        "import matplotlib.pyplot as plt\n",
        "\n",
        "plt.plot(loss_l, label = \"train loss\")\n",
        "plt.plot(validloss_l, label = \"valid loss\")"
      ],
      "metadata": {
        "colab": {
          "base_uri": "https://localhost:8080/",
          "height": 284
        },
        "id": "Cn3MgwZvMWiC",
        "outputId": "0a29cb2f-3a7d-4c5c-beac-77323424c0b4"
      },
      "execution_count": 27,
      "outputs": [
        {
          "output_type": "execute_result",
          "data": {
            "text/plain": [
              "[<matplotlib.lines.Line2D at 0x7f68c0307700>]"
            ]
          },
          "metadata": {},
          "execution_count": 27
        },
        {
          "output_type": "display_data",
          "data": {
            "text/plain": [
              "<Figure size 432x288 with 1 Axes>"
            ],
            "image/png": "[encoded data removed]"
          },
          "metadata": {
            "needs_background": "light"
          }
        }
      ]
    },
    {
      "cell_type": "markdown",
      "source": [
        "## Moel Analysis"
      ],
      "metadata": {
        "id": "F209iG-yMe5x"
      }
    },
    {
      "cell_type": "markdown",
      "source": [
        "### Confusion Matrix"
      ],
      "metadata": {
        "id": "QmKMT75HMi-L"
      }
    },
    {
      "cell_type": "code",
      "source": [
        "model.eval()\n",
        "model.cpu()\n",
        "\n",
        "y_pred = []\n",
        "y_true = []\n",
        "\n",
        "# iterate over test data\n",
        "for index, (inputs, labels) in enumerate(test_dataloader):\n",
        "        output = model(inputs) # Feed Network\n",
        "\n",
        "        output = (torch.max(torch.exp(output), 1)[1]).data.cpu().numpy()\n",
        "        y_pred.extend(output) # Save Prediction\n",
        "        \n",
        "        labels = labels.data.cpu().numpy()\n",
        "        y_true.extend(labels) # Save Truth\n",
        "\n",
        "\n",
        "classes = label_list\n",
        "\n",
        "\n",
        "from sklearn.metrics import confusion_matrix\n",
        "import seaborn as sns\n",
        "\n",
        "cf_matrix = confusion_matrix(y_true, y_pred, normalize = 'pred')\n",
        "df_cm_2 = pd.DataFrame(cf_matrix/np.sum(cf_matrix) *10,index = [i for i in classes],\n",
        "                     columns = [i for i in classes])\n",
        "plt.figure(figsize = (12,7))\n",
        "sns.heatmap(df_cm_2, annot=True)\n",
        "plt.show"
      ],
      "metadata": {
        "colab": {
          "base_uri": "https://localhost:8080/",
          "height": 451
        },
        "id": "WpRPb0jRMePV",
        "outputId": "ff71d980-4fe4-4359-bd7a-769514a947ad"
      },
      "execution_count": 28,
      "outputs": [
        {
          "output_type": "execute_result",
          "data": {
            "text/plain": [
              "<function matplotlib.pyplot.show(*args, **kw)>"
            ]
          },
          "metadata": {},
          "execution_count": 28
        },
        {
          "output_type": "display_data",
          "data": {
            "text/plain": [
              "<Figure size 864x504 with 2 Axes>"
            ],
            "image/png": "[encoded data removed]"
          },
          "metadata": {
            "needs_background": "light"
          }
        }
      ]
    }
  ],
  "metadata": {
    "colab": {
      "provenance": [],
      "toc_visible": true,
      "mount_file_id": "1iHYt6uG6R_hcMUDsGk_TN3qKNS_vzEhH",
      "authorship_tag": "ABX9TyNY0Y6QV88xFGAWXn8CoNOr",
      "include_colab_link": true
    },
    "kernelspec": {
      "display_name": "Python 3",
      "name": "python3"
    },
    "language_info": {
      "name": "python"
    },
    "gpuClass": "standard",
    "accelerator": "GPU",
    "widgets": {
      "application/vnd.jupyter.widget-state+json": {
        "6795b51cb49343eebe949e0ccbfd7537": {
          "model_module": "@jupyter-widgets/controls",
          "model_name": "HBoxModel",
          "model_module_version": "1.5.0",
          "state": {
            "_dom_classes": [],
            "_model_module": "@jupyter-widgets/controls",
            "_model_module_version": "1.5.0",
            "_model_name": "HBoxModel",
            "_view_count": null,
            "_view_module": "@jupyter-widgets/controls",
            "_view_module_version": "1.5.0",
            "_view_name": "HBoxView",
            "box_style": "",
            "children": [
              "IPY_MODEL_b1e95ec8cd66407b9d4c6aa8a56b48d2",
              "IPY_MODEL_b9a5d0cb8cc44fe3998b89af69196a78",
              "IPY_MODEL_5498acde2ee747ec96bdb975a8881b2d"
            ],
            "layout": "IPY_MODEL_15f24d7f59434368b742395ededc8a92"
          }
        },
        "b1e95ec8cd66407b9d4c6aa8a56b48d2": {
          "model_module": "@jupyter-widgets/controls",
          "model_name": "HTMLModel",
          "model_module_version": "1.5.0",
          "state": {
            "_dom_classes": [],
            "_model_module": "@jupyter-widgets/controls",
            "_model_module_version": "1.5.0",
            "_model_name": "HTMLModel",
            "_view_count": null,
            "_view_module": "@jupyter-widgets/controls",
            "_view_module_version": "1.5.0",
            "_view_name": "HTMLView",
            "description": "",
            "description_tooltip": null,
            "layout": "IPY_MODEL_22190f193a3c4496b26b39bc2e4669f1",
            "placeholder": "​",
            "style": "IPY_MODEL_8cc49b29538c4adb9ada66f24b4ec365",
            "value": "100%"
          }
        },
        "b9a5d0cb8cc44fe3998b89af69196a78": {
          "model_module": "@jupyter-widgets/controls",
          "model_name": "FloatProgressModel",
          "model_module_version": "1.5.0",
          "state": {
            "_dom_classes": [],
            "_model_module": "@jupyter-widgets/controls",
            "_model_module_version": "1.5.0",
            "_model_name": "FloatProgressModel",
            "_view_count": null,
            "_view_module": "@jupyter-widgets/controls",
            "_view_module_version": "1.5.0",
            "_view_name": "ProgressView",
            "bar_style": "success",
            "description": "",
            "description_tooltip": null,
            "layout": "IPY_MODEL_608fae4b3f1940758a46c86e03715b96",
            "max": 531460341,
            "min": 0,
            "orientation": "horizontal",
            "style": "IPY_MODEL_db4ec43060a54eed839fc88e5908fd38",
            "value": 531460341
          }
        },
        "5498acde2ee747ec96bdb975a8881b2d": {
          "model_module": "@jupyter-widgets/controls",
          "model_name": "HTMLModel",
          "model_module_version": "1.5.0",
          "state": {
            "_dom_classes": [],
            "_model_module": "@jupyter-widgets/controls",
            "_model_module_version": "1.5.0",
            "_model_name": "HTMLModel",
            "_view_count": null,
            "_view_module": "@jupyter-widgets/controls",
            "_view_module_version": "1.5.0",
            "_view_name": "HTMLView",
            "description": "",
            "description_tooltip": null,
            "layout": "IPY_MODEL_c3559f925e2e4be89dd240184d03f3c0",
            "placeholder": "​",
            "style": "IPY_MODEL_33468f9a33d94f6581d5fdd8e0efca60",
            "value": " 507M/507M [00:04&lt;00:00, 148MB/s]"
          }
        },
        "15f24d7f59434368b742395ededc8a92": {
          "model_module": "@jupyter-widgets/base",
          "model_name": "LayoutModel",
          "model_module_version": "1.2.0",
          "state": {
            "_model_module": "@jupyter-widgets/base",
            "_model_module_version": "1.2.0",
            "_model_name": "LayoutModel",
            "_view_count": null,
            "_view_module": "@jupyter-widgets/base",
            "_view_module_version": "1.2.0",
            "_view_name": "LayoutView",
            "align_content": null,
            "align_items": null,
            "align_self": null,
            "border": null,
            "bottom": null,
            "display": null,
            "flex": null,
            "flex_flow": null,
            "grid_area": null,
            "grid_auto_columns": null,
            "grid_auto_flow": null,
            "grid_auto_rows": null,
            "grid_column": null,
            "grid_gap": null,
            "grid_row": null,
            "grid_template_areas": null,
            "grid_template_columns": null,
            "grid_template_rows": null,
            "height": null,
            "justify_content": null,
            "justify_items": null,
            "left": null,
            "margin": null,
            "max_height": null,
            "max_width": null,
            "min_height": null,
            "min_width": null,
            "object_fit": null,
            "object_position": null,
            "order": null,
            "overflow": null,
            "overflow_x": null,
            "overflow_y": null,
            "padding": null,
            "right": null,
            "top": null,
            "visibility": null,
            "width": null
          }
        },
        "22190f193a3c4496b26b39bc2e4669f1": {
          "model_module": "@jupyter-widgets/base",
          "model_name": "LayoutModel",
          "model_module_version": "1.2.0",
          "state": {
            "_model_module": "@jupyter-widgets/base",
            "_model_module_version": "1.2.0",
            "_model_name": "LayoutModel",
            "_view_count": null,
            "_view_module": "@jupyter-widgets/base",
            "_view_module_version": "1.2.0",
            "_view_name": "LayoutView",
            "align_content": null,
            "align_items": null,
            "align_self": null,
            "border": null,
            "bottom": null,
            "display": null,
            "flex": null,
            "flex_flow": null,
            "grid_area": null,
            "grid_auto_columns": null,
            "grid_auto_flow": null,
            "grid_auto_rows": null,
            "grid_column": null,
            "grid_gap": null,
            "grid_row": null,
            "grid_template_areas": null,
            "grid_template_columns": null,
            "grid_template_rows": null,
            "height": null,
            "justify_content": null,
            "justify_items": null,
            "left": null,
            "margin": null,
            "max_height": null,
            "max_width": null,
            "min_height": null,
            "min_width": null,
            "object_fit": null,
            "object_position": null,
            "order": null,
            "overflow": null,
            "overflow_x": null,
            "overflow_y": null,
            "padding": null,
            "right": null,
            "top": null,
            "visibility": null,
            "width": null
          }
        },
        "8cc49b29538c4adb9ada66f24b4ec365": {
          "model_module": "@jupyter-widgets/controls",
          "model_name": "DescriptionStyleModel",
          "model_module_version": "1.5.0",
          "state": {
            "_model_module": "@jupyter-widgets/controls",
            "_model_module_version": "1.5.0",
            "_model_name": "DescriptionStyleModel",
            "_view_count": null,
            "_view_module": "@jupyter-widgets/base",
            "_view_module_version": "1.2.0",
            "_view_name": "StyleView",
            "description_width": ""
          }
        },
        "608fae4b3f1940758a46c86e03715b96": {
          "model_module": "@jupyter-widgets/base",
          "model_name": "LayoutModel",
          "model_module_version": "1.2.0",
          "state": {
            "_model_module": "@jupyter-widgets/base",
            "_model_module_version": "1.2.0",
            "_model_name": "LayoutModel",
            "_view_count": null,
            "_view_module": "@jupyter-widgets/base",
            "_view_module_version": "1.2.0",
            "_view_name": "LayoutView",
            "align_content": null,
            "align_items": null,
            "align_self": null,
            "border": null,
            "bottom": null,
            "display": null,
            "flex": null,
            "flex_flow": null,
            "grid_area": null,
            "grid_auto_columns": null,
            "grid_auto_flow": null,
            "grid_auto_rows": null,
            "grid_column": null,
            "grid_gap": null,
            "grid_row": null,
            "grid_template_areas": null,
            "grid_template_columns": null,
            "grid_template_rows": null,
            "height": null,
            "justify_content": null,
            "justify_items": null,
            "left": null,
            "margin": null,
            "max_height": null,
            "max_width": null,
            "min_height": null,
            "min_width": null,
            "object_fit": null,
            "object_position": null,
            "order": null,
            "overflow": null,
            "overflow_x": null,
            "overflow_y": null,
            "padding": null,
            "right": null,
            "top": null,
            "visibility": null,
            "width": null
          }
        },
        "db4ec43060a54eed839fc88e5908fd38": {
          "model_module": "@jupyter-widgets/controls",
          "model_name": "ProgressStyleModel",
          "model_module_version": "1.5.0",
          "state": {
            "_model_module": "@jupyter-widgets/controls",
            "_model_module_version": "1.5.0",
            "_model_name": "ProgressStyleModel",
            "_view_count": null,
            "_view_module": "@jupyter-widgets/base",
            "_view_module_version": "1.2.0",
            "_view_name": "StyleView",
            "bar_color": null,
            "description_width": ""
          }
        },
        "c3559f925e2e4be89dd240184d03f3c0": {
          "model_module": "@jupyter-widgets/base",
          "model_name": "LayoutModel",
          "model_module_version": "1.2.0",
          "state": {
            "_model_module": "@jupyter-widgets/base",
            "_model_module_version": "1.2.0",
            "_model_name": "LayoutModel",
            "_view_count": null,
            "_view_module": "@jupyter-widgets/base",
            "_view_module_version": "1.2.0",
            "_view_name": "LayoutView",
            "align_content": null,
            "align_items": null,
            "align_self": null,
            "border": null,
            "bottom": null,
            "display": null,
            "flex": null,
            "flex_flow": null,
            "grid_area": null,
            "grid_auto_columns": null,
            "grid_auto_flow": null,
            "grid_auto_rows": null,
            "grid_column": null,
            "grid_gap": null,
            "grid_row": null,
            "grid_template_areas": null,
            "grid_template_columns": null,
            "grid_template_rows": null,
            "height": null,
            "justify_content": null,
            "justify_items": null,
            "left": null,
            "margin": null,
            "max_height": null,
            "max_width": null,
            "min_height": null,
            "min_width": null,
            "object_fit": null,
            "object_position": null,
            "order": null,
            "overflow": null,
            "overflow_x": null,
            "overflow_y": null,
            "padding": null,
            "right": null,
            "top": null,
            "visibility": null,
            "width": null
          }
        },
        "33468f9a33d94f6581d5fdd8e0efca60": {
          "model_module": "@jupyter-widgets/controls",
          "model_name": "DescriptionStyleModel",
          "model_module_version": "1.5.0",
          "state": {
            "_model_module": "@jupyter-widgets/controls",
            "_model_module_version": "1.5.0",
            "_model_name": "DescriptionStyleModel",
            "_view_count": null,
            "_view_module": "@jupyter-widgets/base",
            "_view_module_version": "1.2.0",
            "_view_name": "StyleView",
            "description_width": ""
          }
        }
      }
    }
  },
  "nbformat": 4,
  "nbformat_minor": 0
}