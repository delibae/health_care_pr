{
  "cells": [
    {
      "cell_type": "markdown",
      "metadata": {
        "id": "view-in-github",
        "colab_type": "text"
      },
      "source": [
        "<a href=\"https://colab.research.google.com/github/delibae/health_care_pr/blob/sungjun/project_2/%EC%95%88%EC%84%B1%EC%A4%80/Pill.ipynb\" target=\"_parent\"><img src=\"https://colab.research.google.com/assets/colab-badge.svg\" alt=\"Open In Colab\"/></a>"
      ]
    },
    {
      "cell_type": "code",
      "execution_count": 2,
      "metadata": {
        "id": "DrSqIxkRL8xB"
      },
      "outputs": [],
      "source": [
        "import json\n",
        "import csv\n",
        "import os\n",
        "import pandas as pd\n",
        "import cv2\n",
        "import numpy as np\n",
        "from sklearn.model_selection import train_test_split\n",
        "from PIL import Image\n",
        "from keras.layers.convolutional import Conv2D\n",
        "from keras.layers.convolutional import MaxPooling2D\n",
        "from keras.layers import Flatten\n",
        "from tensorflow.python.keras.models import Sequential\n",
        "from tensorflow.keras.layers import Dense\n",
        "from sklearn.preprocessing import OneHotEncoder\n",
        "import matplotlib.pyplot as plt\n",
        "import tensorflow as tf"
      ]
    },
    {
      "cell_type": "code",
      "execution_count": null,
      "metadata": {
        "colab": {
          "base_uri": "https://localhost:8080/"
        },
        "id": "u1YA1KVGY1BN",
        "outputId": "eb755588-8bca-46fc-a337-12b959e26dbe"
      },
      "outputs": [
        {
          "name": "stdout",
          "output_type": "stream",
          "text": [
            "K-038912_json\n",
            "K-038954_json\n",
            "K-038927_json\n",
            "K-038884_json\n",
            "K-038914_json\n",
            "K-038910_json\n",
            "K-038890_json\n",
            "K-038913_json\n",
            "K-038929_json\n",
            "K-038896_json\n"
          ]
        }
      ],
      "source": [
        "input_folder_path = \"/content/drive/MyDrive/data/TL_81\"\n",
        "output_file_path = \"/content/drive/MyDrive/data/data.csv\"\n",
        "img_dir =r'/content/drive/MyDrive/data/TS_81'\n",
        "\n",
        "folder_list = os.listdir(input_folder_path)\n",
        "\n",
        "file_list = []\n",
        "df_list = []\n",
        "\n",
        "for folder in folder_list:\n",
        "  input_folder_file = input_folder_path+\"/\"+folder\n",
        "  file_list = os.listdir(input_folder_file)\n",
        "  print(folder)\n",
        "  for file_name in file_list:\n",
        "    with open(input_folder_file+\"/\"+file_name, 'r') as file:\n",
        "      data = json.load(file)\n",
        "      df_list.append((data[\"images\"]))\n"
      ]
    },
    {
      "cell_type": "code",
      "execution_count": null,
      "metadata": {
        "id": "hcw57hepMELh"
      },
      "outputs": [],
      "source": [
        "csv_list = ['file_name', 'dl_name']\n",
        "\n",
        "with open(output_file_path, \"w\", encoding=\"UTF-8\",newline='') as output_file:\n",
        "  csvwriter = csv.writer(output_file)\n",
        "  csvwriter.writerow(csv_list)\n",
        "  for dataList in df_list:\n",
        "    data_list = [dataList[0].get('file_name'),dataList[0].get('dl_name')]\n",
        "    csvwriter.writerow(data_list)\n"
      ]
    },
    {
      "cell_type": "code",
      "execution_count": null,
      "metadata": {
        "id": "r0cgGdLKWHdK"
      },
      "outputs": [],
      "source": [
        "df = pd.read_csv(output_file_path)\n",
        "\n",
        "X = []\n",
        "Y = []\n",
        "\n",
        "for imgPath, imgName in zip(df.get('file_name'), df.get('dl_name')):\n",
        "  img = cv2.imread(img_dir+\"/\"+imgPath[:8]+\"/\"+imgPath)\n",
        "  img = cv2.resize(img, (224, 224))\n",
        "  img = tf.image.convert_image_dtype(img,tf.float32)\n",
        "  X.append(img)\n",
        "  Y.append(imgName)\n",
        "\n",
        "X = np.array(X)\n",
        "Y = np.array(Y)\n"
      ]
    },
    {
      "cell_type": "code",
      "execution_count": null,
      "metadata": {
        "colab": {
          "base_uri": "https://localhost:8080/"
        },
        "id": "FNNrHkrDe2x1",
        "outputId": "b42445c3-2bfb-48ca-b1b7-cdb044569007"
      },
      "outputs": [
        {
          "name": "stderr",
          "output_type": "stream",
          "text": [
            "/usr/local/lib/python3.8/dist-packages/numpy/lib/npyio.py:528: VisibleDeprecationWarning: Creating an ndarray from ragged nested sequences (which is a list-or-tuple of lists-or-tuples-or ndarrays with different lengths or shapes) is deprecated. If you meant to do this, you must specify 'dtype=object' when creating the ndarray.\n",
            "  arr = np.asanyarray(arr)\n"
          ]
        }
      ],
      "source": [
        "encoder = OneHotEncoder()\n",
        "Y=Y.reshape(-1,1)\n",
        "encoder.fit(Y)\n",
        "label = encoder.transform(Y).toarray()\n",
        "\n",
        "label\n",
        "\n",
        "X_train, X_test, Y_train, Y_test = train_test_split(X, label, test_size=0.2,random_state=1)\n",
        "\n",
        "xy = (X_train, X_test, Y_train, Y_test,)\n",
        "\n",
        "np.save(\"/content/drive/MyDrive/data/img_data.npy\", xy)"
      ]
    },
    {
      "cell_type": "code",
      "execution_count": 3,
      "metadata": {
        "colab": {
          "base_uri": "https://localhost:8080/"
        },
        "id": "Sjb5RwiSB6mZ",
        "outputId": "3c3425a7-a3cb-42f4-deb2-c532cff32aab"
      },
      "outputs": [
        {
          "output_type": "stream",
          "name": "stdout",
          "text": [
            "Epoch 1/30\n",
            "54/54 [==============================] - 43s 487ms/step - loss: 5.7236 - accuracy: 0.1128 - val_loss: 0.3252 - val_accuracy: 0.1019\n",
            "Epoch 2/30\n",
            "54/54 [==============================] - 25s 457ms/step - loss: 0.3283 - accuracy: 0.1186 - val_loss: 0.3277 - val_accuracy: 0.1065\n",
            "Epoch 3/30\n",
            "54/54 [==============================] - 25s 464ms/step - loss: 0.3251 - accuracy: 0.1296 - val_loss: 0.3288 - val_accuracy: 0.1019\n",
            "Epoch 4/30\n",
            "54/54 [==============================] - 25s 465ms/step - loss: 0.3254 - accuracy: 0.1128 - val_loss: 0.3266 - val_accuracy: 0.1019\n",
            "Epoch 5/30\n",
            "54/54 [==============================] - 25s 462ms/step - loss: 0.3246 - accuracy: 0.1111 - val_loss: 0.3255 - val_accuracy: 0.1019\n",
            "Epoch 6/30\n",
            "54/54 [==============================] - 25s 464ms/step - loss: 0.3248 - accuracy: 0.1204 - val_loss: 0.3308 - val_accuracy: 0.1181\n",
            "Epoch 7/30\n",
            "54/54 [==============================] - 25s 463ms/step - loss: 0.3235 - accuracy: 0.1204 - val_loss: 0.3159 - val_accuracy: 0.1181\n",
            "Epoch 8/30\n",
            "54/54 [==============================] - 25s 463ms/step - loss: 0.3211 - accuracy: 0.1354 - val_loss: 0.2735 - val_accuracy: 0.2130\n",
            "Epoch 9/30\n",
            "54/54 [==============================] - 25s 462ms/step - loss: 0.2410 - accuracy: 0.2911 - val_loss: 0.2033 - val_accuracy: 0.3819\n",
            "Epoch 10/30\n",
            "54/54 [==============================] - 25s 463ms/step - loss: 0.1704 - accuracy: 0.5278 - val_loss: 0.1363 - val_accuracy: 0.6227\n",
            "Epoch 11/30\n",
            "54/54 [==============================] - 25s 464ms/step - loss: 0.1143 - accuracy: 0.6979 - val_loss: 0.0814 - val_accuracy: 0.7731\n",
            "Epoch 12/30\n",
            "54/54 [==============================] - 25s 462ms/step - loss: 0.1076 - accuracy: 0.7425 - val_loss: 0.0505 - val_accuracy: 0.8681\n",
            "Epoch 13/30\n",
            "54/54 [==============================] - 25s 463ms/step - loss: 0.1588 - accuracy: 0.6493 - val_loss: 0.1079 - val_accuracy: 0.6944\n",
            "Epoch 14/30\n",
            "54/54 [==============================] - 25s 463ms/step - loss: 0.1230 - accuracy: 0.6892 - val_loss: 0.0806 - val_accuracy: 0.7639\n",
            "Epoch 15/30\n",
            "54/54 [==============================] - 25s 463ms/step - loss: 0.0937 - accuracy: 0.7425 - val_loss: 0.0713 - val_accuracy: 0.7778\n",
            "Epoch 16/30\n",
            "54/54 [==============================] - 25s 462ms/step - loss: 0.0789 - accuracy: 0.7697 - val_loss: 0.0844 - val_accuracy: 0.7292\n",
            "Epoch 17/30\n",
            "54/54 [==============================] - 25s 462ms/step - loss: 0.0616 - accuracy: 0.8142 - val_loss: 0.0498 - val_accuracy: 0.8426\n",
            "Epoch 18/30\n",
            "54/54 [==============================] - 25s 462ms/step - loss: 0.0404 - accuracy: 0.8698 - val_loss: 0.0316 - val_accuracy: 0.8889\n",
            "Epoch 19/30\n",
            "54/54 [==============================] - 25s 461ms/step - loss: 0.0349 - accuracy: 0.8843 - val_loss: 0.0313 - val_accuracy: 0.8889\n",
            "Epoch 20/30\n",
            "54/54 [==============================] - 25s 461ms/step - loss: 0.0776 - accuracy: 0.8096 - val_loss: 0.0545 - val_accuracy: 0.8866\n",
            "Epoch 21/30\n",
            "54/54 [==============================] - 25s 460ms/step - loss: 0.0479 - accuracy: 0.8681 - val_loss: 0.0351 - val_accuracy: 0.8981\n",
            "Epoch 22/30\n",
            "54/54 [==============================] - 25s 460ms/step - loss: 0.0437 - accuracy: 0.8646 - val_loss: 0.0406 - val_accuracy: 0.8704\n",
            "Epoch 23/30\n",
            "54/54 [==============================] - 25s 460ms/step - loss: 0.0574 - accuracy: 0.8449 - val_loss: 0.0346 - val_accuracy: 0.8889\n",
            "Epoch 24/30\n",
            "54/54 [==============================] - 25s 462ms/step - loss: 0.0352 - accuracy: 0.8767 - val_loss: 0.0313 - val_accuracy: 0.8981\n",
            "Epoch 25/30\n",
            "54/54 [==============================] - 25s 461ms/step - loss: 0.0338 - accuracy: 0.8906 - val_loss: 0.0300 - val_accuracy: 0.8981\n",
            "Epoch 26/30\n",
            "54/54 [==============================] - 25s 461ms/step - loss: 0.0334 - accuracy: 0.8866 - val_loss: 0.0297 - val_accuracy: 0.8912\n",
            "Epoch 27/30\n",
            "54/54 [==============================] - 25s 460ms/step - loss: 0.0333 - accuracy: 0.8854 - val_loss: 0.0298 - val_accuracy: 0.9028\n",
            "Epoch 28/30\n",
            "54/54 [==============================] - 25s 462ms/step - loss: 0.0349 - accuracy: 0.8860 - val_loss: 0.0506 - val_accuracy: 0.8519\n",
            "Epoch 29/30\n",
            "54/54 [==============================] - 25s 461ms/step - loss: 0.0397 - accuracy: 0.8808 - val_loss: 0.0427 - val_accuracy: 0.8796\n",
            "Epoch 30/30\n",
            "54/54 [==============================] - 25s 461ms/step - loss: 0.0390 - accuracy: 0.8814 - val_loss: 0.1207 - val_accuracy: 0.7639\n"
          ]
        }
      ],
      "source": [
        "X_train, X_test, Y_train, Y_test = np.load(\"/content/drive/MyDrive/data/img_data.npy\", allow_pickle=True)\n",
        "X_train, X_val, Y_train, Y_val = train_test_split(X_train, Y_train, test_size=0.2, random_state=1)\n",
        "\n",
        "model = Sequential()\n",
        "model.add(Conv2D(input_shape=(224,224,3),filters=64,kernel_size=(3,3),padding=\"same\", activation=\"relu\"))\n",
        "model.add(Conv2D(filters=64,kernel_size=(3,3),padding=\"same\", activation=\"relu\"))\n",
        "model.add(MaxPooling2D(pool_size=(2,2),strides=(2,2)))\n",
        "model.add(Conv2D(filters=128, kernel_size=(3,3), padding=\"same\", activation=\"relu\"))\n",
        "model.add(Conv2D(filters=128, kernel_size=(3,3), padding=\"same\", activation=\"relu\"))\n",
        "model.add(MaxPooling2D(pool_size=(2,2),strides=(2,2)))\n",
        "model.add(Conv2D(filters=256, kernel_size=(3,3), padding=\"same\", activation=\"relu\"))\n",
        "model.add(Conv2D(filters=256, kernel_size=(3,3), padding=\"same\", activation=\"relu\"))\n",
        "model.add(Conv2D(filters=256, kernel_size=(3,3), padding=\"same\", activation=\"relu\"))\n",
        "model.add(MaxPooling2D(pool_size=(2,2),strides=(2,2)))\n",
        "model.add(Conv2D(filters=512, kernel_size=(3,3), padding=\"same\", activation=\"relu\"))\n",
        "model.add(Conv2D(filters=512, kernel_size=(3,3), padding=\"same\", activation=\"relu\"))\n",
        "model.add(Conv2D(filters=512, kernel_size=(3,3), padding=\"same\", activation=\"relu\"))\n",
        "model.add(MaxPooling2D(pool_size=(2,2),strides=(2,2)))\n",
        "model.add(Conv2D(filters=512, kernel_size=(3,3), padding=\"same\", activation=\"relu\"))\n",
        "model.add(Conv2D(filters=512, kernel_size=(3,3), padding=\"same\", activation=\"relu\"))\n",
        "model.add(Conv2D(filters=512, kernel_size=(3,3), padding=\"same\", activation=\"relu\"))\n",
        "model.add(MaxPooling2D(pool_size=(2,2),strides=(2,2)))\n",
        "model.add(Flatten())\n",
        "model.add(Dense(units=4096,activation=\"relu\"))\n",
        "model.add(Dense(units=4096,activation=\"relu\"))\n",
        "model.add(Dense(units=10, activation=\"softmax\"))\n",
        "\n",
        "model.compile(loss='binary_crossentropy',optimizer='Adam',metrics=['accuracy'])\n",
        "history1 = model.fit(X_train, Y_train, epochs=30, validation_data=(X_val,Y_val))\n"
      ]
    },
    {
      "cell_type": "code",
      "execution_count": 4,
      "metadata": {
        "colab": {
          "base_uri": "https://localhost:8080/",
          "height": 301
        },
        "id": "PYzeF2RsCf-G",
        "outputId": "cdc83995-d728-4168-d106-5e299719caa6"
      },
      "outputs": [
        {
          "output_type": "stream",
          "name": "stdout",
          "text": [
            "17/17 [==============================] - 5s 294ms/step - loss: 0.1226 - accuracy: 0.7296\n"
          ]
        },
        {
          "output_type": "display_data",
          "data": {
            "text/plain": [
              "<Figure size 432x288 with 1 Axes>"
            ],
            "image/png": "[encoded data removed]"
          },
          "metadata": {
            "needs_background": "light"
          }
        }
      ],
      "source": [
        "locc,acc = model.evaluate(X_test, Y_test)\n",
        "\n",
        "plt.plot(history1.history['loss'], label='loss')\n",
        "plt.plot(history1.history['accuracy'], label='accuracy')\n",
        "plt.plot(history1.history['val_loss'], label='val_loss')\n",
        "plt.plot(history1.history['val_accuracy'], label='val_accuracy')\n",
        "\n",
        "plt.xlabel('epoch')\n",
        "plt.legend()\n",
        "plt.show()"
      ]
    }
  ],
  "metadata": {
    "accelerator": "GPU",
    "colab": {
      "provenance": [],
      "mount_file_id": "1qO_KDNHqt4jJebDyanQqerwdfYbfPVzX",
      "authorship_tag": "ABX9TyOHv3nWia/eE2eDQVnrP2Og",
      "include_colab_link": true
    },
    "gpuClass": "standard",
    "kernelspec": {
      "display_name": "Python 3",
      "name": "python3"
    },
    "language_info": {
      "name": "python"
    }
  },
  "nbformat": 4,
  "nbformat_minor": 0
}