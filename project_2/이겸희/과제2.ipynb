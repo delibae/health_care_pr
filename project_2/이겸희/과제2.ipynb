{
 "cells": [
  {
   "cell_type": "code",
   "execution_count": 2,
   "id": "00c1f52c",
   "metadata": {},
   "outputs": [
    {
     "data": {
      "text/html": [
       "        <script type=\"text/javascript\">\n",
       "        window.PlotlyConfig = {MathJaxConfig: 'local'};\n",
       "        if (window.MathJax && window.MathJax.Hub && window.MathJax.Hub.Config) {window.MathJax.Hub.Config({SVG: {font: \"STIX-Web\"}});}\n",
       "        if (typeof require !== 'undefined') {\n",
       "        require.undef(\"plotly\");\n",
       "        requirejs.config({\n",
       "            paths: {\n",
       "                'plotly': ['https://cdn.plot.ly/plotly-2.12.1.min']\n",
       "            }\n",
       "        });\n",
       "        require(['plotly'], function(Plotly) {\n",
       "            window._Plotly = Plotly;\n",
       "        });\n",
       "        }\n",
       "        </script>\n",
       "        "
      ]
     },
     "metadata": {},
     "output_type": "display_data"
    },
    {
     "name": "stdout",
     "output_type": "stream",
     "text": [
      "NumPy Version :1.21.5\n",
      "TensorFlow Version :2.9.1\n",
      "Matplotlib Version :3.5.3\n"
     ]
    }
   ],
   "source": [
    "import pandas as pd\n",
    "import numpy as np\n",
    "import sys\n",
    "import os\n",
    "from matplotlib import colors\n",
    "import random\n",
    "from pathlib import Path\n",
    "import imageio\n",
    "import skimage\n",
    "import skimage.io\n",
    "import skimage.transform\n",
    "import matplotlib.pyplot as plt\n",
    "import seaborn as sns\n",
    "import plotly.graph_objs as go\n",
    "import plotly.figure_factory as ff\n",
    "from plotly import tools\n",
    "from plotly.offline import download_plotlyjs, init_notebook_mode, plot, iplot\n",
    "init_notebook_mode(connected=True)\n",
    "import scipy\n",
    "from keras.models import load_model\n",
    "import tensorflow as tf\n",
    "from sklearn.model_selection import train_test_split\n",
    "from sklearn import metrics\n",
    "from tensorflow.keras import optimizers\n",
    "from tensorflow.keras.layers import Dense, Conv2D, Flatten, MaxPool2D, Dropout, BatchNormalization,LeakyReLU\n",
    "from tensorflow.keras.preprocessing.image import ImageDataGenerator\n",
    "from tensorflow.keras.callbacks import ModelCheckpoint, Callback, EarlyStopping, ReduceLROnPlateau, LearningRateScheduler\n",
    "from tensorflow.keras.utils import to_categorical\n",
    "import cv2\n",
    "\n",
    "\n",
    "print(\"NumPy Version :{}\".format(np.__version__))\n",
    "print(\"TensorFlow Version :{}\".format(tf.__version__))\n",
    "print(\"Matplotlib Version :{}\".format(plt.matplotlib.__version__))"
   ]
  },
  {
   "cell_type": "code",
   "execution_count": 3,
   "id": "17ef1757",
   "metadata": {},
   "outputs": [],
   "source": [
    "IMAGE_PATH = '../input/bee_imgs/bee_imgs/'\n",
    "IMAGE_WIDTH = 64\n",
    "IMAGE_HEIGHT = 64\n",
    "IMAGE_CHANNELS = 3\n",
    "IMG_SIZE = 64\n",
    "RANDOM_STATE = 2018\n",
    "TEST_SIZE = 0.2\n",
    "VAL_SIZE = 0.2\n",
    "MAX_POOL_DIM = 2\n",
    "KERNEL_SIZE = 3\n",
    "PATIENCE = 5\n",
    "VERBOSE = 1"
   ]
  },
  {
   "cell_type": "code",
   "execution_count": 4,
   "id": "89e05592",
   "metadata": {},
   "outputs": [
    {
     "data": {
      "text/plain": [
       "Text(0.3, 0.3, '한글')"
      ]
     },
     "execution_count": 4,
     "metadata": {},
     "output_type": "execute_result"
    },
    {
     "data": {
      "image/png": "[encoded data removed]",
      "text/plain": [
       "<Figure size 640x480 with 1 Axes>"
      ]
     },
     "metadata": {},
     "output_type": "display_data"
    }
   ],
   "source": [
    "plt.rc(\"font\", family='Malgun Gothic')\n",
    "plt.rc('axes', unicode_minus = False)\n",
    "plt.text(0.3, 0.3, '한글', size=100)"
   ]
  },
  {
   "cell_type": "code",
   "execution_count": null,
   "id": "74c16ccd",
   "metadata": {},
   "outputs": [],
   "source": [
    "import warnings\n",
    "warnings.filterwarnings('ignore')\n",
    "warnings.filterwarnings('ignore', 'This pattern has match groups')\n",
    "warnings.filterwarnings('ignore', 'The iterable function was deprecated in Matplotlib')"
   ]
  },
  {
   "cell_type": "code",
   "execution_count": 59,
   "id": "b3a8c261",
   "metadata": {},
   "outputs": [
    {
     "data": {
      "text/plain": [
       "['TL_81_단일', 'TS_81_단일']"
      ]
     },
     "execution_count": 59,
     "metadata": {},
     "output_type": "execute_result"
    }
   ],
   "source": [
    "cls = os.listdir(\"../medicine\")\n",
    "cls"
   ]
  },
  {
   "cell_type": "code",
   "execution_count": 60,
   "id": "77ba5d2b",
   "metadata": {},
   "outputs": [],
   "source": [
    "TL_81 = cls[0]\n",
    "TS_81 = cls[1]"
   ]
  },
  {
   "cell_type": "code",
   "execution_count": 61,
   "id": "97f924b2",
   "metadata": {},
   "outputs": [
    {
     "name": "stdout",
     "output_type": "stream",
     "text": [
      "['K-038884_json', 'K-038890_json', 'K-038896_json', 'K-038910_json', 'K-038912_json', 'K-038913_json', 'K-038914_json', 'K-038927_json', 'K-038929_json', 'K-038954_json', 'K-038958_json', 'K-038959_json', 'K-038962_json', 'K-038967_json', 'K-038970_json', 'K-039021_json', 'K-039036_json', 'K-039047_json', 'K-039104_json', 'K-039108_json', 'K-039123_json', 'K-039136_json', 'K-039146_json', 'K-039147_json']\n"
     ]
    }
   ],
   "source": [
    "cls2 = os.listdir(\"../medicine\" +'/' + TL_81)\n",
    "cls3 = os.listdir(\"../medicine\" +'/' + TS_81)\n",
    "print(cls2)"
   ]
  },
  {
   "cell_type": "code",
   "execution_count": 68,
   "id": "dc2b5a0e",
   "metadata": {},
   "outputs": [],
   "source": [
    "ts_list = []\n",
    "tl_list = []\n",
    "\n",
    "for file in cls2:\n",
    "        tl_list.append(os.listdir(\"../medicine/TL_81_단일\" +'/' + file))\n",
    "for file in cls3:\n",
    "        ts_list.append(os.listdir(\"../medicine/TS_81_단일\" +'/' + file))\n",
    "ts_list = np.concatenate(ts_list).tolist()\n",
    "tl_list = np.concatenate(tl_list).tolist()"
   ]
  },
  {
   "cell_type": "code",
   "execution_count": 70,
   "id": "9c1de6d7",
   "metadata": {},
   "outputs": [
    {
     "data": {
      "text/html": [
       "<div>\n",
       "<style scoped>\n",
       "    .dataframe tbody tr th:only-of-type {\n",
       "        vertical-align: middle;\n",
       "    }\n",
       "\n",
       "    .dataframe tbody tr th {\n",
       "        vertical-align: top;\n",
       "    }\n",
       "\n",
       "    .dataframe thead th {\n",
       "        text-align: right;\n",
       "    }\n",
       "</style>\n",
       "<table border=\"1\" class=\"dataframe\">\n",
       "  <thead>\n",
       "    <tr style=\"text-align: right;\">\n",
       "      <th></th>\n",
       "      <th>PNG</th>\n",
       "      <th>JSON</th>\n",
       "    </tr>\n",
       "  </thead>\n",
       "  <tbody>\n",
       "    <tr>\n",
       "      <th>0</th>\n",
       "      <td>K-038884_0_0_0_0_75_000_200.png</td>\n",
       "      <td>K-038884_0_0_0_0_75_000_200.json</td>\n",
       "    </tr>\n",
       "    <tr>\n",
       "      <th>1</th>\n",
       "      <td>K-038884_0_0_0_0_75_020_200.png</td>\n",
       "      <td>K-038884_0_0_0_0_75_020_200.json</td>\n",
       "    </tr>\n",
       "    <tr>\n",
       "      <th>2</th>\n",
       "      <td>K-038884_0_0_0_0_75_040_200.png</td>\n",
       "      <td>K-038884_0_0_0_0_75_040_200.json</td>\n",
       "    </tr>\n",
       "    <tr>\n",
       "      <th>3</th>\n",
       "      <td>K-038884_0_0_0_0_75_060_200.png</td>\n",
       "      <td>K-038884_0_0_0_0_75_060_200.json</td>\n",
       "    </tr>\n",
       "    <tr>\n",
       "      <th>4</th>\n",
       "      <td>K-038884_0_0_0_0_75_080_200.png</td>\n",
       "      <td>K-038884_0_0_0_0_75_080_200.json</td>\n",
       "    </tr>\n",
       "    <tr>\n",
       "      <th>...</th>\n",
       "      <td>...</td>\n",
       "      <td>...</td>\n",
       "    </tr>\n",
       "    <tr>\n",
       "      <th>9607</th>\n",
       "      <td>K-039147_0_2_1_2_90_260_200.png</td>\n",
       "      <td>K-039147_0_2_1_2_90_260_200.json</td>\n",
       "    </tr>\n",
       "    <tr>\n",
       "      <th>9608</th>\n",
       "      <td>K-039147_0_2_1_2_90_280_200.png</td>\n",
       "      <td>K-039147_0_2_1_2_90_280_200.json</td>\n",
       "    </tr>\n",
       "    <tr>\n",
       "      <th>9609</th>\n",
       "      <td>K-039147_0_2_1_2_90_300_200.png</td>\n",
       "      <td>K-039147_0_2_1_2_90_300_200.json</td>\n",
       "    </tr>\n",
       "    <tr>\n",
       "      <th>9610</th>\n",
       "      <td>K-039147_0_2_1_2_90_320_200.png</td>\n",
       "      <td>K-039147_0_2_1_2_90_320_200.json</td>\n",
       "    </tr>\n",
       "    <tr>\n",
       "      <th>9611</th>\n",
       "      <td>K-039147_0_2_1_2_90_340_200.png</td>\n",
       "      <td>K-039147_0_2_1_2_90_340_200.json</td>\n",
       "    </tr>\n",
       "  </tbody>\n",
       "</table>\n",
       "<p>9612 rows × 2 columns</p>\n",
       "</div>"
      ],
      "text/plain": [
       "                                  PNG                              JSON\n",
       "0     K-038884_0_0_0_0_75_000_200.png  K-038884_0_0_0_0_75_000_200.json\n",
       "1     K-038884_0_0_0_0_75_020_200.png  K-038884_0_0_0_0_75_020_200.json\n",
       "2     K-038884_0_0_0_0_75_040_200.png  K-038884_0_0_0_0_75_040_200.json\n",
       "3     K-038884_0_0_0_0_75_060_200.png  K-038884_0_0_0_0_75_060_200.json\n",
       "4     K-038884_0_0_0_0_75_080_200.png  K-038884_0_0_0_0_75_080_200.json\n",
       "...                               ...                               ...\n",
       "9607  K-039147_0_2_1_2_90_260_200.png  K-039147_0_2_1_2_90_260_200.json\n",
       "9608  K-039147_0_2_1_2_90_280_200.png  K-039147_0_2_1_2_90_280_200.json\n",
       "9609  K-039147_0_2_1_2_90_300_200.png  K-039147_0_2_1_2_90_300_200.json\n",
       "9610  K-039147_0_2_1_2_90_320_200.png  K-039147_0_2_1_2_90_320_200.json\n",
       "9611  K-039147_0_2_1_2_90_340_200.png  K-039147_0_2_1_2_90_340_200.json\n",
       "\n",
       "[9612 rows x 2 columns]"
      ]
     },
     "execution_count": 70,
     "metadata": {},
     "output_type": "execute_result"
    }
   ],
   "source": [
    "df = pd.DataFrame({\n",
    "    'PNG' : ts_list,\n",
    "    'JSON' : tl_list\n",
    "})\n",
    "df"
   ]
  },
  {
   "cell_type": "code",
   "execution_count": 71,
   "id": "c1a5917b",
   "metadata": {},
   "outputs": [],
   "source": [
    "import json\n",
    "import os\n",
    "from tqdm import tqdm"
   ]
  },
  {
   "cell_type": "code",
   "execution_count": 86,
   "id": "ffdf1dd8",
   "metadata": {},
   "outputs": [
    {
     "data": {
      "text/plain": [
       "{'images': [{'file_name': 'K-038884_0_0_0_0_75_000_200.png',\n",
       "   'width': 976,\n",
       "   'height': 1280,\n",
       "   'imgfile': 'K-038884_0_0_0_0_75_000_200.png',\n",
       "   'drug_N': 'K-038884',\n",
       "   'drug_S': '정상알약',\n",
       "   'back_color': '검은색 배경',\n",
       "   'drug_dir': '앞면',\n",
       "   'light_color': '전구색',\n",
       "   'camera_la': 75,\n",
       "   'camera_lo': 0,\n",
       "   'size': 200,\n",
       "   'item_seq': '201602513',\n",
       "   'leng_long': '6.2',\n",
       "   'leng_short': '6.2',\n",
       "   'thick': '3.05',\n",
       "   'id': 1,\n",
       "   'dl_idx': '38883',\n",
       "   'dl_mapping_code': 'K-038884',\n",
       "   'dl_name': '에피나레정',\n",
       "   'dl_name_en': 'Epinare Tab.',\n",
       "   'img_key': 'http://connectdi.com/design/img/drug/1NOwp2F69E9.jpg',\n",
       "   'dl_material': '에피나스틴염산염',\n",
       "   'dl_material_en': 'Epinastine Hydrochloride',\n",
       "   'dl_custom_shape': '정제, 저작정',\n",
       "   'dl_company': '제이더블유신약(주)',\n",
       "   'dl_company_en': 'Jw Shinyak',\n",
       "   'di_company_mf': '삼천당제약(주)',\n",
       "   'di_company_mf_en': 'Scd Pharm',\n",
       "   'di_item_permit_date': '20160504',\n",
       "   'di_class_no': '[01490]기타의 알레르기용약',\n",
       "   'di_etc_otc_code': '전문의약품',\n",
       "   'di_edi_code': '644102890',\n",
       "   'chart': '흰색 또는 미황색의 원형필름코팅정제',\n",
       "   'drug_shape': '원형',\n",
       "   'print_front': 'E',\n",
       "   'print_back': '10',\n",
       "   'color_class1': '하양',\n",
       "   'color_class2': '',\n",
       "   'line_front': '',\n",
       "   'line_back': '',\n",
       "   'img_regist_ts': '20160829',\n",
       "   'form_code_name': '필름코팅정',\n",
       "   'mark_code_front_anal': '',\n",
       "   'mark_code_back_anal': '',\n",
       "   'mark_code_front_img': '',\n",
       "   'mark_code_back_img': '',\n",
       "   'mark_code_front': '',\n",
       "   'mark_code_back': '',\n",
       "   'change_date': '20200921'}],\n",
       " 'type': 'instances',\n",
       " 'annotations': [{'area': 24024,\n",
       "   'iscrowd': 0,\n",
       "   'bbox': [420, 565, 154, 156],\n",
       "   'category_id': 1,\n",
       "   'ignore': 0,\n",
       "   'segmentation': [],\n",
       "   'id': 1,\n",
       "   'image_id': 1}],\n",
       " 'categories': [{'supercategory': 'pill', 'id': 1, 'name': 'Drug'}]}"
      ]
     },
     "execution_count": 86,
     "metadata": {},
     "output_type": "execute_result"
    }
   ],
   "source": [
    "with open(\"../medicine/TL_81_단일/K-038884_json/K-038884_0_0_0_0_75_000_200.json\", \"r\", encoding=\"utf8\") as f:\n",
    "    contents = f.read()\n",
    "    json_data = json.loads(contents)\n",
    "json_data"
   ]
  },
  {
   "cell_type": "code",
   "execution_count": 66,
   "id": "81750ce9",
   "metadata": {},
   "outputs": [],
   "source": [
    "path = \"../medicine/TL_81_단일/\""
   ]
  },
  {
   "cell_type": "code",
   "execution_count": 88,
   "id": "37142754",
   "metadata": {},
   "outputs": [],
   "source": [
    "dl_name = []\n",
    "PNG_name = []\n",
    "for file in cls2:\n",
    "    file_list = []\n",
    "    file_list.append(os.listdir(\"../medicine/TL_81_단일\" +'/' + file))\n",
    "    file_list = np.concatenate(file_list).tolist()\n",
    "    for j_file in file_list:\n",
    "        with open(path + file + '/' + j_file, \"r\", encoding=\"utf8\") as f:\n",
    "            contents = f.read()\n",
    "            json_data = json.loads(contents)\n",
    "            dl_name.append(json_data['images'][0]['dl_name'])\n",
    "            PNG_name.append(json_data['images'][0]['imgfile'])"
   ]
  },
  {
   "cell_type": "code",
   "execution_count": 90,
   "id": "43cd5a6a",
   "metadata": {},
   "outputs": [
    {
     "data": {
      "text/html": [
       "<div>\n",
       "<style scoped>\n",
       "    .dataframe tbody tr th:only-of-type {\n",
       "        vertical-align: middle;\n",
       "    }\n",
       "\n",
       "    .dataframe tbody tr th {\n",
       "        vertical-align: top;\n",
       "    }\n",
       "\n",
       "    .dataframe thead th {\n",
       "        text-align: right;\n",
       "    }\n",
       "</style>\n",
       "<table border=\"1\" class=\"dataframe\">\n",
       "  <thead>\n",
       "    <tr style=\"text-align: right;\">\n",
       "      <th></th>\n",
       "      <th>PNG</th>\n",
       "      <th>Medicine_Name</th>\n",
       "    </tr>\n",
       "  </thead>\n",
       "  <tbody>\n",
       "    <tr>\n",
       "      <th>0</th>\n",
       "      <td>K-038884_0_0_0_0_75_000_200.png</td>\n",
       "      <td>에피나레정</td>\n",
       "    </tr>\n",
       "    <tr>\n",
       "      <th>1</th>\n",
       "      <td>K-038884_0_0_0_0_75_020_200.png</td>\n",
       "      <td>에피나레정</td>\n",
       "    </tr>\n",
       "    <tr>\n",
       "      <th>2</th>\n",
       "      <td>K-038884_0_0_0_0_75_040_200.png</td>\n",
       "      <td>에피나레정</td>\n",
       "    </tr>\n",
       "    <tr>\n",
       "      <th>3</th>\n",
       "      <td>K-038884_0_0_0_0_75_060_200.png</td>\n",
       "      <td>에피나레정</td>\n",
       "    </tr>\n",
       "    <tr>\n",
       "      <th>4</th>\n",
       "      <td>K-038884_0_0_0_0_75_080_200.png</td>\n",
       "      <td>에피나레정</td>\n",
       "    </tr>\n",
       "    <tr>\n",
       "      <th>...</th>\n",
       "      <td>...</td>\n",
       "      <td>...</td>\n",
       "    </tr>\n",
       "    <tr>\n",
       "      <th>9607</th>\n",
       "      <td>K-039147_0_2_1_2_90_260_200.png</td>\n",
       "      <td>듀카브정30/10밀리그램</td>\n",
       "    </tr>\n",
       "    <tr>\n",
       "      <th>9608</th>\n",
       "      <td>K-039147_0_2_1_2_90_280_200.png</td>\n",
       "      <td>듀카브정30/10밀리그램</td>\n",
       "    </tr>\n",
       "    <tr>\n",
       "      <th>9609</th>\n",
       "      <td>K-039147_0_2_1_2_90_300_200.png</td>\n",
       "      <td>듀카브정30/10밀리그램</td>\n",
       "    </tr>\n",
       "    <tr>\n",
       "      <th>9610</th>\n",
       "      <td>K-039147_0_2_1_2_90_320_200.png</td>\n",
       "      <td>듀카브정30/10밀리그램</td>\n",
       "    </tr>\n",
       "    <tr>\n",
       "      <th>9611</th>\n",
       "      <td>K-039147_0_2_1_2_90_340_200.png</td>\n",
       "      <td>듀카브정30/10밀리그램</td>\n",
       "    </tr>\n",
       "  </tbody>\n",
       "</table>\n",
       "<p>9612 rows × 2 columns</p>\n",
       "</div>"
      ],
      "text/plain": [
       "                                  PNG  Medicine_Name\n",
       "0     K-038884_0_0_0_0_75_000_200.png          에피나레정\n",
       "1     K-038884_0_0_0_0_75_020_200.png          에피나레정\n",
       "2     K-038884_0_0_0_0_75_040_200.png          에피나레정\n",
       "3     K-038884_0_0_0_0_75_060_200.png          에피나레정\n",
       "4     K-038884_0_0_0_0_75_080_200.png          에피나레정\n",
       "...                               ...            ...\n",
       "9607  K-039147_0_2_1_2_90_260_200.png  듀카브정30/10밀리그램\n",
       "9608  K-039147_0_2_1_2_90_280_200.png  듀카브정30/10밀리그램\n",
       "9609  K-039147_0_2_1_2_90_300_200.png  듀카브정30/10밀리그램\n",
       "9610  K-039147_0_2_1_2_90_320_200.png  듀카브정30/10밀리그램\n",
       "9611  K-039147_0_2_1_2_90_340_200.png  듀카브정30/10밀리그램\n",
       "\n",
       "[9612 rows x 2 columns]"
      ]
     },
     "execution_count": 90,
     "metadata": {},
     "output_type": "execute_result"
    }
   ],
   "source": [
    "df2 = pd.DataFrame({\n",
    "    'PNG' : PNG_name,\n",
    "    'Medicine_Name' : dl_name\n",
    "})\n",
    "df2"
   ]
  },
  {
   "cell_type": "code",
   "execution_count": null,
   "id": "52623709",
   "metadata": {},
   "outputs": [],
   "source": []
  },
  {
   "cell_type": "code",
   "execution_count": null,
   "id": "05a495b5",
   "metadata": {},
   "outputs": [],
   "source": []
  }
 ],
 "metadata": {
  "kernelspec": {
   "display_name": "Python 3 (ipykernel)",
   "language": "python",
   "name": "python3"
  },
  "language_info": {
   "codemirror_mode": {
    "name": "ipython",
    "version": 3
   },
   "file_extension": ".py",
   "mimetype": "text/x-python",
   "name": "python",
   "nbconvert_exporter": "python",
   "pygments_lexer": "ipython3",
   "version": "3.9.15"
  }
 },
 "nbformat": 4,
 "nbformat_minor": 5
}
