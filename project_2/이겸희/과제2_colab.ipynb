{
  "cells": [
    {
      "cell_type": "markdown",
      "metadata": {
        "id": "view-in-github",
        "colab_type": "text"
      },
      "source": [
        "<a href=\"https://colab.research.google.com/github/delibae/health_care_pr/blob/main/project_2/%EC%9D%B4%EA%B2%B8%ED%9D%AC/%EA%B3%BC%EC%A0%9C2_colab.ipynb\" target=\"_parent\"><img src=\"https://colab.research.google.com/assets/colab-badge.svg\" alt=\"Open In Colab\"/></a>"
      ]
    },
    {
      "cell_type": "markdown",
      "id": "b8ec1afb",
      "metadata": {
        "id": "b8ec1afb"
      },
      "source": [
        "# <header1>과제2</header1>"
      ]
    },
    {
      "cell_type": "markdown",
      "id": "0f98dd0e",
      "metadata": {
        "id": "0f98dd0e"
      },
      "source": [
        "### 이겸희_성균관대 "
      ]
    },
    {
      "cell_type": "markdown",
      "id": "b7914f9e",
      "metadata": {
        "id": "b7914f9e"
      },
      "source": [
        "### 학습 준비단계"
      ]
    },
    {
      "cell_type": "code",
      "source": [
        "from google.colab import drive"
      ],
      "metadata": {
        "id": "E_1DyVovZXGk"
      },
      "id": "E_1DyVovZXGk",
      "execution_count": 2,
      "outputs": []
    },
    {
      "cell_type": "code",
      "source": [
        "drive.mount('/content/drive')\n",
        "print('g-drive mounted.')"
      ],
      "metadata": {
        "colab": {
          "base_uri": "https://localhost:8080/"
        },
        "id": "jkdJ0lnVZZPT",
        "outputId": "ac43c74f-e6cf-490b-daf4-b67cab1c7347"
      },
      "id": "jkdJ0lnVZZPT",
      "execution_count": 3,
      "outputs": [
        {
          "output_type": "stream",
          "name": "stdout",
          "text": [
            "Mounted at /content/drive\n",
            "g-drive mounted.\n"
          ]
        }
      ]
    },
    {
      "cell_type": "code",
      "source": [
        "!unzip -q -o /content/drive/MyDrive/TL_81_단일.zip"
      ],
      "metadata": {
        "id": "yGU0gJrrlMEE"
      },
      "id": "yGU0gJrrlMEE",
      "execution_count": null,
      "outputs": []
    },
    {
      "cell_type": "code",
      "source": [
        "!unzip -q -o /content/drive/MyDrive/TS_81_단일.zip"
      ],
      "metadata": {
        "id": "kcFYHuwjZf5q"
      },
      "id": "kcFYHuwjZf5q",
      "execution_count": 12,
      "outputs": []
    },
    {
      "cell_type": "code",
      "execution_count": 65,
      "id": "00c1f52c",
      "metadata": {
        "colab": {
          "base_uri": "https://localhost:8080/",
          "height": 72
        },
        "id": "00c1f52c",
        "outputId": "35697b54-aa70-44ec-c7d8-199a1739d007"
      },
      "outputs": [
        {
          "output_type": "display_data",
          "data": {
            "text/html": [
              "        <script type=\"text/javascript\">\n",
              "        window.PlotlyConfig = {MathJaxConfig: 'local'};\n",
              "        if (window.MathJax) {MathJax.Hub.Config({SVG: {font: \"STIX-Web\"}});}\n",
              "        if (typeof require !== 'undefined') {\n",
              "        require.undef(\"plotly\");\n",
              "        requirejs.config({\n",
              "            paths: {\n",
              "                'plotly': ['https://cdn.plot.ly/plotly-2.8.3.min']\n",
              "            }\n",
              "        });\n",
              "        require(['plotly'], function(Plotly) {\n",
              "            window._Plotly = Plotly;\n",
              "        });\n",
              "        }\n",
              "        </script>\n",
              "        "
            ]
          },
          "metadata": {}
        },
        {
          "output_type": "stream",
          "name": "stdout",
          "text": [
            "NumPy Version :1.21.6\n",
            "TensorFlow Version :2.9.2\n",
            "Matplotlib Version :3.2.2\n"
          ]
        }
      ],
      "source": [
        "import pandas as pd\n",
        "import numpy as np\n",
        "import sys\n",
        "import os\n",
        "from matplotlib import colors\n",
        "import random\n",
        "from pathlib import Path\n",
        "import imageio\n",
        "import skimage\n",
        "import skimage.io\n",
        "import skimage.transform\n",
        "import matplotlib.pyplot as plt\n",
        "import seaborn as sns\n",
        "import plotly.graph_objs as go\n",
        "import plotly.figure_factory as ff\n",
        "from plotly import tools\n",
        "from plotly.offline import download_plotlyjs, init_notebook_mode, plot, iplot\n",
        "init_notebook_mode(connected=True)\n",
        "import scipy\n",
        "from keras.models import load_model\n",
        "import tensorflow as tf\n",
        "from sklearn.model_selection import train_test_split\n",
        "from sklearn import metrics\n",
        "from keras import optimizers\n",
        "from keras.layers import Dense, Conv2D, Flatten, MaxPool2D, Dropout, BatchNormalization,LeakyReLU\n",
        "from keras.preprocessing.image import ImageDataGenerator\n",
        "from keras.callbacks import ModelCheckpoint, Callback, EarlyStopping, ReduceLROnPlateau, LearningRateScheduler\n",
        "from keras.utils import to_categorical\n",
        "import cv2\n",
        "\n",
        "\n",
        "print(\"NumPy Version :{}\".format(np.__version__))\n",
        "print(\"TensorFlow Version :{}\".format(tf.__version__))\n",
        "print(\"Matplotlib Version :{}\".format(plt.matplotlib.__version__))"
      ]
    },
    {
      "cell_type": "code",
      "execution_count": 66,
      "id": "627b1c0f",
      "metadata": {
        "id": "627b1c0f"
      },
      "outputs": [],
      "source": [
        "IMAGE_PATH = \"/content/PNG/\"\n",
        "IMAGE_WIDTH = 64\n",
        "IMAGE_HEIGHT = 64\n",
        "IMAGE_CHANNELS = 3\n",
        "IMG_SIZE = 64\n",
        "RANDOM_STATE = 2018\n",
        "TEST_SIZE = 0.2\n",
        "VAL_SIZE = 0.2\n",
        "MAX_POOL_DIM = 2\n",
        "KERNEL_SIZE = 3\n",
        "PATIENCE = 5\n",
        "VERBOSE = 1"
      ]
    },
    {
      "cell_type": "code",
      "execution_count": 67,
      "id": "12df2e70",
      "metadata": {
        "id": "12df2e70"
      },
      "outputs": [],
      "source": [
        "plt.rc(\"font\", family='Malgun Gothic')\n",
        "plt.rc('axes', unicode_minus = False)"
      ]
    },
    {
      "cell_type": "code",
      "execution_count": 68,
      "id": "613c387d",
      "metadata": {
        "id": "613c387d"
      },
      "outputs": [],
      "source": [
        "import warnings\n",
        "warnings.filterwarnings('ignore')\n",
        "warnings.filterwarnings('ignore', 'This pattern has match groups')\n",
        "warnings.filterwarnings('ignore', 'The iterable function was deprecated in Matplotlib')"
      ]
    },
    {
      "cell_type": "markdown",
      "id": "ea425210",
      "metadata": {
        "id": "ea425210"
      },
      "source": [
        "### 데이터 가져오기"
      ]
    },
    {
      "cell_type": "code",
      "execution_count": 95,
      "id": "ebc00676",
      "metadata": {
        "colab": {
          "base_uri": "https://localhost:8080/"
        },
        "id": "ebc00676",
        "outputId": "17bd0a64-0a59-4012-fc70-f89dca554aa2"
      },
      "outputs": [
        {
          "output_type": "stream",
          "name": "stdout",
          "text": [
            "['K-038884_json', 'K-038890_json', 'K-038896_json', 'K-038910_json', 'K-038912_json', 'K-038913_json', 'K-038914_json', 'K-038927_json', 'K-038929_json', 'K-038954_json', 'K-038958_json', 'K-038959_json', 'K-038962_json', 'K-038967_json', 'K-038970_json', 'K-039021_json', 'K-039036_json', 'K-039047_json', 'K-039104_json', 'K-039108_json', 'K-039123_json', 'K-039136_json', 'K-039146_json', 'K-039147_json']\n"
          ]
        }
      ],
      "source": [
        "png_cls = sorted(os.listdir(\"/content/PNG\"))\n",
        "json_cls = sorted(os.listdir(\"/content/json_folder\"))\n",
        "\n",
        "print((json_cls))"
      ]
    },
    {
      "cell_type": "code",
      "execution_count": 96,
      "id": "bfb581f1",
      "metadata": {
        "id": "bfb581f1"
      },
      "outputs": [],
      "source": [
        "ts_list = []\n",
        "tl_list = []\n",
        "\n",
        "for file in png_cls:\n",
        "        tl_list.append(os.listdir(\"/content/PNG\" +'/' + file))\n",
        "for file in json_cls:\n",
        "        ts_list.append(os.listdir(\"/content/json_folder\" +'/' + file))\n",
        "ts_list = np.concatenate(ts_list).tolist()\n",
        "tl_list = np.concatenate(tl_list).tolist()"
      ]
    },
    {
      "cell_type": "code",
      "execution_count": 97,
      "id": "85fe7161",
      "metadata": {
        "colab": {
          "base_uri": "https://localhost:8080/",
          "height": 423
        },
        "id": "85fe7161",
        "outputId": "50b54197-941a-4d79-82fd-27711e365cab"
      },
      "outputs": [
        {
          "output_type": "execute_result",
          "data": {
            "text/plain": [
              "                                   PNG                             JSON\n",
              "0     K-038884_0_0_1_1_90_080_200.json  K-038884_0_0_0_0_90_180_200.png\n",
              "1     K-038884_0_0_0_0_90_040_200.json  K-038884_0_0_1_0_90_020_200.png\n",
              "2     K-038884_0_0_0_1_75_100_200.json  K-038884_0_0_1_2_90_060_200.png\n",
              "3     K-038884_0_0_1_1_90_140_200.json  K-038884_0_0_0_2_90_200_200.png\n",
              "4     K-038884_0_0_1_1_75_160_200.json  K-038884_0_0_1_2_90_300_200.png\n",
              "...                                ...                              ...\n",
              "9607  K-039147_0_0_0_1_70_260_200.json  K-039147_0_0_0_1_70_200_200.png\n",
              "9608  K-039147_0_1_0_2_75_120_200.json  K-039147_0_0_0_1_90_200_200.png\n",
              "9609  K-039147_0_1_1_1_90_260_200.json  K-039147_0_1_1_0_70_300_200.png\n",
              "9610  K-039147_0_0_1_0_60_340_200.json  K-039147_0_1_0_1_60_320_200.png\n",
              "9611  K-039147_0_0_1_0_70_320_200.json  K-039147_0_2_1_1_90_240_200.png\n",
              "\n",
              "[9612 rows x 2 columns]"
            ],
            "text/html": [
              "\n",
              "  <div id=\"df-8bdab605-d57a-4c07-8764-f16404290226\">\n",
              "    <div class=\"colab-df-container\">\n",
              "      <div>\n",
              "<style scoped>\n",
              "    .dataframe tbody tr th:only-of-type {\n",
              "        vertical-align: middle;\n",
              "    }\n",
              "\n",
              "    .dataframe tbody tr th {\n",
              "        vertical-align: top;\n",
              "    }\n",
              "\n",
              "    .dataframe thead th {\n",
              "        text-align: right;\n",
              "    }\n",
              "</style>\n",
              "<table border=\"1\" class=\"dataframe\">\n",
              "  <thead>\n",
              "    <tr style=\"text-align: right;\">\n",
              "      <th></th>\n",
              "      <th>PNG</th>\n",
              "      <th>JSON</th>\n",
              "    </tr>\n",
              "  </thead>\n",
              "  <tbody>\n",
              "    <tr>\n",
              "      <th>0</th>\n",
              "      <td>K-038884_0_0_1_1_90_080_200.json</td>\n",
              "      <td>K-038884_0_0_0_0_90_180_200.png</td>\n",
              "    </tr>\n",
              "    <tr>\n",
              "      <th>1</th>\n",
              "      <td>K-038884_0_0_0_0_90_040_200.json</td>\n",
              "      <td>K-038884_0_0_1_0_90_020_200.png</td>\n",
              "    </tr>\n",
              "    <tr>\n",
              "      <th>2</th>\n",
              "      <td>K-038884_0_0_0_1_75_100_200.json</td>\n",
              "      <td>K-038884_0_0_1_2_90_060_200.png</td>\n",
              "    </tr>\n",
              "    <tr>\n",
              "      <th>3</th>\n",
              "      <td>K-038884_0_0_1_1_90_140_200.json</td>\n",
              "      <td>K-038884_0_0_0_2_90_200_200.png</td>\n",
              "    </tr>\n",
              "    <tr>\n",
              "      <th>4</th>\n",
              "      <td>K-038884_0_0_1_1_75_160_200.json</td>\n",
              "      <td>K-038884_0_0_1_2_90_300_200.png</td>\n",
              "    </tr>\n",
              "    <tr>\n",
              "      <th>...</th>\n",
              "      <td>...</td>\n",
              "      <td>...</td>\n",
              "    </tr>\n",
              "    <tr>\n",
              "      <th>9607</th>\n",
              "      <td>K-039147_0_0_0_1_70_260_200.json</td>\n",
              "      <td>K-039147_0_0_0_1_70_200_200.png</td>\n",
              "    </tr>\n",
              "    <tr>\n",
              "      <th>9608</th>\n",
              "      <td>K-039147_0_1_0_2_75_120_200.json</td>\n",
              "      <td>K-039147_0_0_0_1_90_200_200.png</td>\n",
              "    </tr>\n",
              "    <tr>\n",
              "      <th>9609</th>\n",
              "      <td>K-039147_0_1_1_1_90_260_200.json</td>\n",
              "      <td>K-039147_0_1_1_0_70_300_200.png</td>\n",
              "    </tr>\n",
              "    <tr>\n",
              "      <th>9610</th>\n",
              "      <td>K-039147_0_0_1_0_60_340_200.json</td>\n",
              "      <td>K-039147_0_1_0_1_60_320_200.png</td>\n",
              "    </tr>\n",
              "    <tr>\n",
              "      <th>9611</th>\n",
              "      <td>K-039147_0_0_1_0_70_320_200.json</td>\n",
              "      <td>K-039147_0_2_1_1_90_240_200.png</td>\n",
              "    </tr>\n",
              "  </tbody>\n",
              "</table>\n",
              "<p>9612 rows × 2 columns</p>\n",
              "</div>\n",
              "      <button class=\"colab-df-convert\" onclick=\"convertToInteractive('df-8bdab605-d57a-4c07-8764-f16404290226')\"\n",
              "              title=\"Convert this dataframe to an interactive table.\"\n",
              "              style=\"display:none;\">\n",
              "        \n",
              "  <svg xmlns=\"http://www.w3.org/2000/svg\" height=\"24px\"viewBox=\"0 0 24 24\"\n",
              "       width=\"24px\">\n",
              "    <path d=\"M0 0h24v24H0V0z\" fill=\"none\"/>\n",
              "    <path d=\"M18.56 5.44l.94 2.06.94-2.06 2.06-.94-2.06-.94-.94-2.06-.94 2.06-2.06.94zm-11 1L8.5 8.5l.94-2.06 2.06-.94-2.06-.94L8.5 2.5l-.94 2.06-2.06.94zm10 10l.94 2.06.94-2.06 2.06-.94-2.06-.94-.94-2.06-.94 2.06-2.06.94z\"/><path d=\"M17.41 7.96l-1.37-1.37c-.4-.4-.92-.59-1.43-.59-.52 0-1.04.2-1.43.59L10.3 9.45l-7.72 7.72c-.78.78-.78 2.05 0 2.83L4 21.41c.39.39.9.59 1.41.59.51 0 1.02-.2 1.41-.59l7.78-7.78 2.81-2.81c.8-.78.8-2.07 0-2.86zM5.41 20L4 18.59l7.72-7.72 1.47 1.35L5.41 20z\"/>\n",
              "  </svg>\n",
              "      </button>\n",
              "      \n",
              "  <style>\n",
              "    .colab-df-container {\n",
              "      display:flex;\n",
              "      flex-wrap:wrap;\n",
              "      gap: 12px;\n",
              "    }\n",
              "\n",
              "    .colab-df-convert {\n",
              "      background-color: #E8F0FE;\n",
              "      border: none;\n",
              "      border-radius: 50%;\n",
              "      cursor: pointer;\n",
              "      display: none;\n",
              "      fill: #1967D2;\n",
              "      height: 32px;\n",
              "      padding: 0 0 0 0;\n",
              "      width: 32px;\n",
              "    }\n",
              "\n",
              "    .colab-df-convert:hover {\n",
              "      background-color: #E2EBFA;\n",
              "      box-shadow: 0px 1px 2px rgba(60, 64, 67, 0.3), 0px 1px 3px 1px rgba(60, 64, 67, 0.15);\n",
              "      fill: #174EA6;\n",
              "    }\n",
              "\n",
              "    [theme=dark] .colab-df-convert {\n",
              "      background-color: #3B4455;\n",
              "      fill: #D2E3FC;\n",
              "    }\n",
              "\n",
              "    [theme=dark] .colab-df-convert:hover {\n",
              "      background-color: #434B5C;\n",
              "      box-shadow: 0px 1px 3px 1px rgba(0, 0, 0, 0.15);\n",
              "      filter: drop-shadow(0px 1px 2px rgba(0, 0, 0, 0.3));\n",
              "      fill: #FFFFFF;\n",
              "    }\n",
              "  </style>\n",
              "\n",
              "      <script>\n",
              "        const buttonEl =\n",
              "          document.querySelector('#df-8bdab605-d57a-4c07-8764-f16404290226 button.colab-df-convert');\n",
              "        buttonEl.style.display =\n",
              "          google.colab.kernel.accessAllowed ? 'block' : 'none';\n",
              "\n",
              "        async function convertToInteractive(key) {\n",
              "          const element = document.querySelector('#df-8bdab605-d57a-4c07-8764-f16404290226');\n",
              "          const dataTable =\n",
              "            await google.colab.kernel.invokeFunction('convertToInteractive',\n",
              "                                                     [key], {});\n",
              "          if (!dataTable) return;\n",
              "\n",
              "          const docLinkHtml = 'Like what you see? Visit the ' +\n",
              "            '<a target=\"_blank\" href=https://colab.research.google.com/notebooks/data_table.ipynb>data table notebook</a>'\n",
              "            + ' to learn more about interactive tables.';\n",
              "          element.innerHTML = '';\n",
              "          dataTable['output_type'] = 'display_data';\n",
              "          await google.colab.output.renderOutput(dataTable, element);\n",
              "          const docLink = document.createElement('div');\n",
              "          docLink.innerHTML = docLinkHtml;\n",
              "          element.appendChild(docLink);\n",
              "        }\n",
              "      </script>\n",
              "    </div>\n",
              "  </div>\n",
              "  "
            ]
          },
          "metadata": {},
          "execution_count": 97
        }
      ],
      "source": [
        "df = pd.DataFrame({\n",
        "    'PNG' : ts_list,\n",
        "    'JSON' : tl_list\n",
        "})\n",
        "df"
      ]
    },
    {
      "cell_type": "code",
      "execution_count": 98,
      "id": "2ef18333",
      "metadata": {
        "id": "2ef18333"
      },
      "outputs": [],
      "source": [
        "import json\n",
        "import os\n",
        "from tqdm import tqdm"
      ]
    },
    {
      "cell_type": "code",
      "execution_count": 99,
      "id": "61a54c29",
      "metadata": {
        "id": "61a54c29"
      },
      "outputs": [],
      "source": [
        "path = \"/content/json_folder/\" "
      ]
    },
    {
      "cell_type": "code",
      "execution_count": 100,
      "id": "ce9c58a1",
      "metadata": {
        "id": "ce9c58a1"
      },
      "outputs": [],
      "source": [
        "dl_name = []\n",
        "PNG_name = []\n",
        "for file, file2 in zip(json_cls,png_cls):\n",
        "    file_list = []\n",
        "    file_list.append(os.listdir(path + file))\n",
        "    file_list = np.concatenate(file_list).tolist()\n",
        "    for j_file in file_list:\n",
        "        with open(path + file + '/' + j_file, \"r\", encoding='utf-8') as f:\n",
        "            contents = f.read()\n",
        "            json_data = json.loads(contents)\n",
        "            dl_name.append(json_data['images'][0]['dl_name'])\n",
        "            PNG_name.append(file2 + '/' + json_data['images'][0]['imgfile'])"
      ]
    },
    {
      "cell_type": "code",
      "execution_count": 101,
      "id": "0f209e6b",
      "metadata": {
        "colab": {
          "base_uri": "https://localhost:8080/",
          "height": 423
        },
        "id": "0f209e6b",
        "outputId": "eaedb4f0-5254-413b-8c90-068d0b280104"
      },
      "outputs": [
        {
          "output_type": "execute_result",
          "data": {
            "text/plain": [
              "                                           PNG  Medicine_Name\n",
              "0     K-038884/K-038884_0_0_1_1_90_080_200.png          에피나레정\n",
              "1     K-038884/K-038884_0_0_0_0_90_040_200.png          에피나레정\n",
              "2     K-038884/K-038884_0_0_0_1_75_100_200.png          에피나레정\n",
              "3     K-038884/K-038884_0_0_1_1_90_140_200.png          에피나레정\n",
              "4     K-038884/K-038884_0_0_1_1_75_160_200.png          에피나레정\n",
              "...                                        ...            ...\n",
              "9607  K-039147/K-039147_0_0_0_1_70_260_200.png  듀카브정30/10밀리그램\n",
              "9608  K-039147/K-039147_0_1_0_2_75_120_200.png  듀카브정30/10밀리그램\n",
              "9609  K-039147/K-039147_0_1_1_1_90_260_200.png  듀카브정30/10밀리그램\n",
              "9610  K-039147/K-039147_0_0_1_0_60_340_200.png  듀카브정30/10밀리그램\n",
              "9611  K-039147/K-039147_0_0_1_0_70_320_200.png  듀카브정30/10밀리그램\n",
              "\n",
              "[9612 rows x 2 columns]"
            ],
            "text/html": [
              "\n",
              "  <div id=\"df-fdc31c45-093b-4614-91b2-58fa89e859d6\">\n",
              "    <div class=\"colab-df-container\">\n",
              "      <div>\n",
              "<style scoped>\n",
              "    .dataframe tbody tr th:only-of-type {\n",
              "        vertical-align: middle;\n",
              "    }\n",
              "\n",
              "    .dataframe tbody tr th {\n",
              "        vertical-align: top;\n",
              "    }\n",
              "\n",
              "    .dataframe thead th {\n",
              "        text-align: right;\n",
              "    }\n",
              "</style>\n",
              "<table border=\"1\" class=\"dataframe\">\n",
              "  <thead>\n",
              "    <tr style=\"text-align: right;\">\n",
              "      <th></th>\n",
              "      <th>PNG</th>\n",
              "      <th>Medicine_Name</th>\n",
              "    </tr>\n",
              "  </thead>\n",
              "  <tbody>\n",
              "    <tr>\n",
              "      <th>0</th>\n",
              "      <td>K-038884/K-038884_0_0_1_1_90_080_200.png</td>\n",
              "      <td>에피나레정</td>\n",
              "    </tr>\n",
              "    <tr>\n",
              "      <th>1</th>\n",
              "      <td>K-038884/K-038884_0_0_0_0_90_040_200.png</td>\n",
              "      <td>에피나레정</td>\n",
              "    </tr>\n",
              "    <tr>\n",
              "      <th>2</th>\n",
              "      <td>K-038884/K-038884_0_0_0_1_75_100_200.png</td>\n",
              "      <td>에피나레정</td>\n",
              "    </tr>\n",
              "    <tr>\n",
              "      <th>3</th>\n",
              "      <td>K-038884/K-038884_0_0_1_1_90_140_200.png</td>\n",
              "      <td>에피나레정</td>\n",
              "    </tr>\n",
              "    <tr>\n",
              "      <th>4</th>\n",
              "      <td>K-038884/K-038884_0_0_1_1_75_160_200.png</td>\n",
              "      <td>에피나레정</td>\n",
              "    </tr>\n",
              "    <tr>\n",
              "      <th>...</th>\n",
              "      <td>...</td>\n",
              "      <td>...</td>\n",
              "    </tr>\n",
              "    <tr>\n",
              "      <th>9607</th>\n",
              "      <td>K-039147/K-039147_0_0_0_1_70_260_200.png</td>\n",
              "      <td>듀카브정30/10밀리그램</td>\n",
              "    </tr>\n",
              "    <tr>\n",
              "      <th>9608</th>\n",
              "      <td>K-039147/K-039147_0_1_0_2_75_120_200.png</td>\n",
              "      <td>듀카브정30/10밀리그램</td>\n",
              "    </tr>\n",
              "    <tr>\n",
              "      <th>9609</th>\n",
              "      <td>K-039147/K-039147_0_1_1_1_90_260_200.png</td>\n",
              "      <td>듀카브정30/10밀리그램</td>\n",
              "    </tr>\n",
              "    <tr>\n",
              "      <th>9610</th>\n",
              "      <td>K-039147/K-039147_0_0_1_0_60_340_200.png</td>\n",
              "      <td>듀카브정30/10밀리그램</td>\n",
              "    </tr>\n",
              "    <tr>\n",
              "      <th>9611</th>\n",
              "      <td>K-039147/K-039147_0_0_1_0_70_320_200.png</td>\n",
              "      <td>듀카브정30/10밀리그램</td>\n",
              "    </tr>\n",
              "  </tbody>\n",
              "</table>\n",
              "<p>9612 rows × 2 columns</p>\n",
              "</div>\n",
              "      <button class=\"colab-df-convert\" onclick=\"convertToInteractive('df-fdc31c45-093b-4614-91b2-58fa89e859d6')\"\n",
              "              title=\"Convert this dataframe to an interactive table.\"\n",
              "              style=\"display:none;\">\n",
              "        \n",
              "  <svg xmlns=\"http://www.w3.org/2000/svg\" height=\"24px\"viewBox=\"0 0 24 24\"\n",
              "       width=\"24px\">\n",
              "    <path d=\"M0 0h24v24H0V0z\" fill=\"none\"/>\n",
              "    <path d=\"M18.56 5.44l.94 2.06.94-2.06 2.06-.94-2.06-.94-.94-2.06-.94 2.06-2.06.94zm-11 1L8.5 8.5l.94-2.06 2.06-.94-2.06-.94L8.5 2.5l-.94 2.06-2.06.94zm10 10l.94 2.06.94-2.06 2.06-.94-2.06-.94-.94-2.06-.94 2.06-2.06.94z\"/><path d=\"M17.41 7.96l-1.37-1.37c-.4-.4-.92-.59-1.43-.59-.52 0-1.04.2-1.43.59L10.3 9.45l-7.72 7.72c-.78.78-.78 2.05 0 2.83L4 21.41c.39.39.9.59 1.41.59.51 0 1.02-.2 1.41-.59l7.78-7.78 2.81-2.81c.8-.78.8-2.07 0-2.86zM5.41 20L4 18.59l7.72-7.72 1.47 1.35L5.41 20z\"/>\n",
              "  </svg>\n",
              "      </button>\n",
              "      \n",
              "  <style>\n",
              "    .colab-df-container {\n",
              "      display:flex;\n",
              "      flex-wrap:wrap;\n",
              "      gap: 12px;\n",
              "    }\n",
              "\n",
              "    .colab-df-convert {\n",
              "      background-color: #E8F0FE;\n",
              "      border: none;\n",
              "      border-radius: 50%;\n",
              "      cursor: pointer;\n",
              "      display: none;\n",
              "      fill: #1967D2;\n",
              "      height: 32px;\n",
              "      padding: 0 0 0 0;\n",
              "      width: 32px;\n",
              "    }\n",
              "\n",
              "    .colab-df-convert:hover {\n",
              "      background-color: #E2EBFA;\n",
              "      box-shadow: 0px 1px 2px rgba(60, 64, 67, 0.3), 0px 1px 3px 1px rgba(60, 64, 67, 0.15);\n",
              "      fill: #174EA6;\n",
              "    }\n",
              "\n",
              "    [theme=dark] .colab-df-convert {\n",
              "      background-color: #3B4455;\n",
              "      fill: #D2E3FC;\n",
              "    }\n",
              "\n",
              "    [theme=dark] .colab-df-convert:hover {\n",
              "      background-color: #434B5C;\n",
              "      box-shadow: 0px 1px 3px 1px rgba(0, 0, 0, 0.15);\n",
              "      filter: drop-shadow(0px 1px 2px rgba(0, 0, 0, 0.3));\n",
              "      fill: #FFFFFF;\n",
              "    }\n",
              "  </style>\n",
              "\n",
              "      <script>\n",
              "        const buttonEl =\n",
              "          document.querySelector('#df-fdc31c45-093b-4614-91b2-58fa89e859d6 button.colab-df-convert');\n",
              "        buttonEl.style.display =\n",
              "          google.colab.kernel.accessAllowed ? 'block' : 'none';\n",
              "\n",
              "        async function convertToInteractive(key) {\n",
              "          const element = document.querySelector('#df-fdc31c45-093b-4614-91b2-58fa89e859d6');\n",
              "          const dataTable =\n",
              "            await google.colab.kernel.invokeFunction('convertToInteractive',\n",
              "                                                     [key], {});\n",
              "          if (!dataTable) return;\n",
              "\n",
              "          const docLinkHtml = 'Like what you see? Visit the ' +\n",
              "            '<a target=\"_blank\" href=https://colab.research.google.com/notebooks/data_table.ipynb>data table notebook</a>'\n",
              "            + ' to learn more about interactive tables.';\n",
              "          element.innerHTML = '';\n",
              "          dataTable['output_type'] = 'display_data';\n",
              "          await google.colab.output.renderOutput(dataTable, element);\n",
              "          const docLink = document.createElement('div');\n",
              "          docLink.innerHTML = docLinkHtml;\n",
              "          element.appendChild(docLink);\n",
              "        }\n",
              "      </script>\n",
              "    </div>\n",
              "  </div>\n",
              "  "
            ]
          },
          "metadata": {},
          "execution_count": 101
        }
      ],
      "source": [
        "df2 = pd.DataFrame({\n",
        "    'PNG' : PNG_name,\n",
        "    'Medicine_Name' : dl_name\n",
        "})\n",
        "df2"
      ]
    },
    {
      "cell_type": "code",
      "execution_count": 102,
      "id": "54efd0fc",
      "metadata": {
        "colab": {
          "base_uri": "https://localhost:8080/",
          "height": 423
        },
        "id": "54efd0fc",
        "outputId": "4374ff77-1b0d-48aa-b5e7-017058be4202"
      },
      "outputs": [
        {
          "output_type": "execute_result",
          "data": {
            "text/plain": [
              "                                           PNG             Medicine_Name\n",
              "0     K-038884/K-038884_0_0_1_0_90_320_200.png                     에피나레정\n",
              "1     K-038954/K-038954_0_2_1_0_90_140_200.png             뮤코원캡슐(에르도스테인)\n",
              "2     K-038910/K-038910_0_0_1_0_70_220_200.png                  바실리포미스캡슐\n",
              "3     K-038958/K-038958_0_2_0_2_70_020_200.png               엘도민캡슐 300mg\n",
              "4     K-038958/K-038958_0_2_1_2_75_160_200.png               엘도민캡슐 300mg\n",
              "...                                        ...                       ...\n",
              "5719  K-039021/K-039021_0_2_0_2_75_320_200.png                   뉴에르도테캡슐\n",
              "5720  K-038910/K-038910_0_0_0_1_75_000_200.png                  바실리포미스캡슐\n",
              "5721  K-039021/K-039021_0_2_1_2_90_300_200.png                   뉴에르도테캡슐\n",
              "5722  K-038962/K-038962_0_2_1_2_75_220_200.png  앤도민300프리미엄연질캡슐 300mg/PTP\n",
              "5723  K-038967/K-038967_0_2_0_1_90_300_200.png            엘도스인캡슐(에르도스테인)\n",
              "\n",
              "[5724 rows x 2 columns]"
            ],
            "text/html": [
              "\n",
              "  <div id=\"df-e8316ed0-a492-4b4f-b2f2-24964bf822ac\">\n",
              "    <div class=\"colab-df-container\">\n",
              "      <div>\n",
              "<style scoped>\n",
              "    .dataframe tbody tr th:only-of-type {\n",
              "        vertical-align: middle;\n",
              "    }\n",
              "\n",
              "    .dataframe tbody tr th {\n",
              "        vertical-align: top;\n",
              "    }\n",
              "\n",
              "    .dataframe thead th {\n",
              "        text-align: right;\n",
              "    }\n",
              "</style>\n",
              "<table border=\"1\" class=\"dataframe\">\n",
              "  <thead>\n",
              "    <tr style=\"text-align: right;\">\n",
              "      <th></th>\n",
              "      <th>PNG</th>\n",
              "      <th>Medicine_Name</th>\n",
              "    </tr>\n",
              "  </thead>\n",
              "  <tbody>\n",
              "    <tr>\n",
              "      <th>0</th>\n",
              "      <td>K-038884/K-038884_0_0_1_0_90_320_200.png</td>\n",
              "      <td>에피나레정</td>\n",
              "    </tr>\n",
              "    <tr>\n",
              "      <th>1</th>\n",
              "      <td>K-038954/K-038954_0_2_1_0_90_140_200.png</td>\n",
              "      <td>뮤코원캡슐(에르도스테인)</td>\n",
              "    </tr>\n",
              "    <tr>\n",
              "      <th>2</th>\n",
              "      <td>K-038910/K-038910_0_0_1_0_70_220_200.png</td>\n",
              "      <td>바실리포미스캡슐</td>\n",
              "    </tr>\n",
              "    <tr>\n",
              "      <th>3</th>\n",
              "      <td>K-038958/K-038958_0_2_0_2_70_020_200.png</td>\n",
              "      <td>엘도민캡슐 300mg</td>\n",
              "    </tr>\n",
              "    <tr>\n",
              "      <th>4</th>\n",
              "      <td>K-038958/K-038958_0_2_1_2_75_160_200.png</td>\n",
              "      <td>엘도민캡슐 300mg</td>\n",
              "    </tr>\n",
              "    <tr>\n",
              "      <th>...</th>\n",
              "      <td>...</td>\n",
              "      <td>...</td>\n",
              "    </tr>\n",
              "    <tr>\n",
              "      <th>5719</th>\n",
              "      <td>K-039021/K-039021_0_2_0_2_75_320_200.png</td>\n",
              "      <td>뉴에르도테캡슐</td>\n",
              "    </tr>\n",
              "    <tr>\n",
              "      <th>5720</th>\n",
              "      <td>K-038910/K-038910_0_0_0_1_75_000_200.png</td>\n",
              "      <td>바실리포미스캡슐</td>\n",
              "    </tr>\n",
              "    <tr>\n",
              "      <th>5721</th>\n",
              "      <td>K-039021/K-039021_0_2_1_2_90_300_200.png</td>\n",
              "      <td>뉴에르도테캡슐</td>\n",
              "    </tr>\n",
              "    <tr>\n",
              "      <th>5722</th>\n",
              "      <td>K-038962/K-038962_0_2_1_2_75_220_200.png</td>\n",
              "      <td>앤도민300프리미엄연질캡슐 300mg/PTP</td>\n",
              "    </tr>\n",
              "    <tr>\n",
              "      <th>5723</th>\n",
              "      <td>K-038967/K-038967_0_2_0_1_90_300_200.png</td>\n",
              "      <td>엘도스인캡슐(에르도스테인)</td>\n",
              "    </tr>\n",
              "  </tbody>\n",
              "</table>\n",
              "<p>5724 rows × 2 columns</p>\n",
              "</div>\n",
              "      <button class=\"colab-df-convert\" onclick=\"convertToInteractive('df-e8316ed0-a492-4b4f-b2f2-24964bf822ac')\"\n",
              "              title=\"Convert this dataframe to an interactive table.\"\n",
              "              style=\"display:none;\">\n",
              "        \n",
              "  <svg xmlns=\"http://www.w3.org/2000/svg\" height=\"24px\"viewBox=\"0 0 24 24\"\n",
              "       width=\"24px\">\n",
              "    <path d=\"M0 0h24v24H0V0z\" fill=\"none\"/>\n",
              "    <path d=\"M18.56 5.44l.94 2.06.94-2.06 2.06-.94-2.06-.94-.94-2.06-.94 2.06-2.06.94zm-11 1L8.5 8.5l.94-2.06 2.06-.94-2.06-.94L8.5 2.5l-.94 2.06-2.06.94zm10 10l.94 2.06.94-2.06 2.06-.94-2.06-.94-.94-2.06-.94 2.06-2.06.94z\"/><path d=\"M17.41 7.96l-1.37-1.37c-.4-.4-.92-.59-1.43-.59-.52 0-1.04.2-1.43.59L10.3 9.45l-7.72 7.72c-.78.78-.78 2.05 0 2.83L4 21.41c.39.39.9.59 1.41.59.51 0 1.02-.2 1.41-.59l7.78-7.78 2.81-2.81c.8-.78.8-2.07 0-2.86zM5.41 20L4 18.59l7.72-7.72 1.47 1.35L5.41 20z\"/>\n",
              "  </svg>\n",
              "      </button>\n",
              "      \n",
              "  <style>\n",
              "    .colab-df-container {\n",
              "      display:flex;\n",
              "      flex-wrap:wrap;\n",
              "      gap: 12px;\n",
              "    }\n",
              "\n",
              "    .colab-df-convert {\n",
              "      background-color: #E8F0FE;\n",
              "      border: none;\n",
              "      border-radius: 50%;\n",
              "      cursor: pointer;\n",
              "      display: none;\n",
              "      fill: #1967D2;\n",
              "      height: 32px;\n",
              "      padding: 0 0 0 0;\n",
              "      width: 32px;\n",
              "    }\n",
              "\n",
              "    .colab-df-convert:hover {\n",
              "      background-color: #E2EBFA;\n",
              "      box-shadow: 0px 1px 2px rgba(60, 64, 67, 0.3), 0px 1px 3px 1px rgba(60, 64, 67, 0.15);\n",
              "      fill: #174EA6;\n",
              "    }\n",
              "\n",
              "    [theme=dark] .colab-df-convert {\n",
              "      background-color: #3B4455;\n",
              "      fill: #D2E3FC;\n",
              "    }\n",
              "\n",
              "    [theme=dark] .colab-df-convert:hover {\n",
              "      background-color: #434B5C;\n",
              "      box-shadow: 0px 1px 3px 1px rgba(0, 0, 0, 0.15);\n",
              "      filter: drop-shadow(0px 1px 2px rgba(0, 0, 0, 0.3));\n",
              "      fill: #FFFFFF;\n",
              "    }\n",
              "  </style>\n",
              "\n",
              "      <script>\n",
              "        const buttonEl =\n",
              "          document.querySelector('#df-e8316ed0-a492-4b4f-b2f2-24964bf822ac button.colab-df-convert');\n",
              "        buttonEl.style.display =\n",
              "          google.colab.kernel.accessAllowed ? 'block' : 'none';\n",
              "\n",
              "        async function convertToInteractive(key) {\n",
              "          const element = document.querySelector('#df-e8316ed0-a492-4b4f-b2f2-24964bf822ac');\n",
              "          const dataTable =\n",
              "            await google.colab.kernel.invokeFunction('convertToInteractive',\n",
              "                                                     [key], {});\n",
              "          if (!dataTable) return;\n",
              "\n",
              "          const docLinkHtml = 'Like what you see? Visit the ' +\n",
              "            '<a target=\"_blank\" href=https://colab.research.google.com/notebooks/data_table.ipynb>data table notebook</a>'\n",
              "            + ' to learn more about interactive tables.';\n",
              "          element.innerHTML = '';\n",
              "          dataTable['output_type'] = 'display_data';\n",
              "          await google.colab.output.renderOutput(dataTable, element);\n",
              "          const docLink = document.createElement('div');\n",
              "          docLink.innerHTML = docLinkHtml;\n",
              "          element.appendChild(docLink);\n",
              "        }\n",
              "      </script>\n",
              "    </div>\n",
              "  </div>\n",
              "  "
            ]
          },
          "metadata": {},
          "execution_count": 102
        }
      ],
      "source": [
        "spac = df2[df2['Medicine_Name'].str.contains('듀카브정30/10밀리그램|듀카브정30/5밀리그램|루키오정10밀리그램')].index\n",
        "df4 = df2.drop(spac)\n",
        "df4 = df4.sample(frac=1).reset_index(drop=True) \n",
        "df4"
      ]
    },
    {
      "cell_type": "code",
      "execution_count": 103,
      "id": "95efd93e",
      "metadata": {
        "id": "95efd93e"
      },
      "outputs": [],
      "source": [
        "train_df, test_df = train_test_split(df2, test_size=0.2, random_state=42, stratify=df2['Medicine_Name'])"
      ]
    },
    {
      "cell_type": "code",
      "execution_count": 104,
      "id": "e7f84a3b",
      "metadata": {
        "id": "e7f84a3b"
      },
      "outputs": [],
      "source": [
        "train_df, val_df = train_test_split(train_df, test_size=0.2, random_state=42, stratify=train_df['Medicine_Name'])"
      ]
    },
    {
      "cell_type": "code",
      "execution_count": 105,
      "id": "ccd9acd0",
      "metadata": {
        "colab": {
          "base_uri": "https://localhost:8080/"
        },
        "id": "ccd9acd0",
        "outputId": "b800a991-a15b-4d19-b2a2-3c27d08fadac"
      },
      "outputs": [
        {
          "output_type": "stream",
          "name": "stdout",
          "text": [
            "Train set rows: 6151\n",
            "Test  set rows: 1923\n",
            "Val   set rows: 1538\n"
          ]
        }
      ],
      "source": [
        "print(\"Train set rows: {}\".format(train_df.shape[0]))\n",
        "print(\"Test  set rows: {}\".format(test_df.shape[0]))\n",
        "print(\"Val   set rows: {}\".format(val_df.shape[0]))"
      ]
    },
    {
      "cell_type": "code",
      "execution_count": 106,
      "id": "8febb0e2",
      "metadata": {
        "id": "8febb0e2"
      },
      "outputs": [],
      "source": [
        "def read_image(file_name):\n",
        "    image = skimage.io.imread(IMAGE_PATH + file_name)\n",
        "    image = skimage.transform.resize(image, (IMAGE_WIDTH, IMAGE_HEIGHT), mode='reflect')\n",
        "    return image[:,:,:IMAGE_CHANNELS]"
      ]
    },
    {
      "cell_type": "code",
      "execution_count": 107,
      "id": "fb8c285f",
      "metadata": {
        "id": "fb8c285f"
      },
      "outputs": [],
      "source": [
        "def categories_encoder(dataset, var='Medicine_Name'):\n",
        "    X = np.stack(dataset['PNG'].apply(read_image))\n",
        "    y = pd.get_dummies(dataset[var], drop_first=False)\n",
        "    return X, y"
      ]
    },
    {
      "cell_type": "code",
      "execution_count": null,
      "id": "f5911e93",
      "metadata": {
        "id": "f5911e93"
      },
      "outputs": [],
      "source": [
        "X_train, y_train = categories_encoder(train_df)\n",
        "X_val, y_val = categories_encoder(val_df)\n",
        "X_test, y_test = categories_encoder(test_df)"
      ]
    },
    {
      "cell_type": "code",
      "execution_count": null,
      "id": "f371394a",
      "metadata": {
        "id": "f371394a"
      },
      "outputs": [],
      "source": [
        "n_class = len(cls)\n",
        "model = tf.keras.models.Sequential()\n",
        "model.add(tf.keras.applications.densenet.DenseNet121(\n",
        "    weights=\"imagenet\", \n",
        "    include_top=False, \n",
        "    input_shape=(64, 64, 3)\n",
        "    ))\n",
        "model.add(tf.keras.layers.Flatten(name='flatten'))\n",
        "model.add(tf.keras.layers.Dense(1024, activation='relu'))\n",
        "model.add(tf.keras.layers.BatchNormalization())\n",
        "model.add(tf.keras.layers.Dense(y_train.columns.size, activation='softmax'))\n",
        "\n",
        "model.summary()"
      ]
    },
    {
      "cell_type": "code",
      "execution_count": null,
      "id": "a364e55c",
      "metadata": {
        "id": "a364e55c"
      },
      "outputs": [],
      "source": [
        "model.compile(optimizer='adam',\n",
        "              loss='categorical_crossentropy',\n",
        "              metrics=['accuracy'])"
      ]
    },
    {
      "cell_type": "code",
      "source": [
        "image_generator = ImageDataGenerator(\n",
        "        featurewise_center=False,\n",
        "        samplewise_center=False,\n",
        "        featurewise_std_normalization=False,\n",
        "        samplewise_std_normalization=False,\n",
        "        zca_whitening=False,\n",
        "        rotation_range=180,\n",
        "        zoom_range = 0.1, \n",
        "        width_shift_range=0.1,\n",
        "        height_shift_range=0.1, \n",
        "        horizontal_flip=True,\n",
        "        vertical_flip=True)\n",
        "image_generator.fit(X_train)"
      ],
      "metadata": {
        "id": "gghUKT3LePh5"
      },
      "id": "gghUKT3LePh5",
      "execution_count": null,
      "outputs": []
    },
    {
      "cell_type": "code",
      "source": [
        "%%time\n",
        "train_model1  = model1.fit_generator(image_generator.flow(X_train, y_train, batch_size=32),\n",
        "                        epochs=5,\n",
        "                        validation_data=[X_val, y_val],\n",
        "                        steps_per_epoch=len(X_train)/32)"
      ],
      "metadata": {
        "id": "4GBgMx0ZeTmD"
      },
      "id": "4GBgMx0ZeTmD",
      "execution_count": null,
      "outputs": []
    },
    {
      "cell_type": "code",
      "execution_count": null,
      "id": "6721d29b",
      "metadata": {
        "id": "6721d29b"
      },
      "outputs": [],
      "source": [
        "%%time\n",
        "history = model.fit(X_train, y_train, epochs=4,\n",
        "                            validation_data=(X_val, y_val))"
      ]
    },
    {
      "cell_type": "code",
      "execution_count": null,
      "id": "3c764882",
      "metadata": {
        "id": "3c764882"
      },
      "outputs": [],
      "source": [
        "score = model.evaluate(X_test, y_test, verbose=0)\n",
        "print('Test loss:', score[0])\n",
        "print('Test accuracy:', score[1])"
      ]
    }
  ],
  "metadata": {
    "kernelspec": {
      "display_name": "Python 3 (ipykernel)",
      "language": "python",
      "name": "python3"
    },
    "language_info": {
      "codemirror_mode": {
        "name": "ipython",
        "version": 3
      },
      "file_extension": ".py",
      "mimetype": "text/x-python",
      "name": "python",
      "nbconvert_exporter": "python",
      "pygments_lexer": "ipython3",
      "version": "3.9.15"
    },
    "colab": {
      "provenance": [],
      "include_colab_link": true
    },
    "accelerator": "GPU",
    "gpuClass": "standard"
  },
  "nbformat": 4,
  "nbformat_minor": 5
}