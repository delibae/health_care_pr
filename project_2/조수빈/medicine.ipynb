{
  "nbformat": 4,
  "nbformat_minor": 0,
  "metadata": {
    "colab": {
      "provenance": [],
      "include_colab_link": true
    },
    "kernelspec": {
      "name": "python3",
      "display_name": "Python 3"
    },
    "language_info": {
      "name": "python"
    }
  },
  "cells": [
    {
      "cell_type": "markdown",
      "metadata": {
        "id": "view-in-github",
        "colab_type": "text"
      },
      "source": [
        "<a href=\"https://colab.research.google.com/github/delibae/health_care_pr/blob/subin/project_2/%EC%A1%B0%EC%88%98%EB%B9%88/medicine.ipynb\" target=\"_parent\"><img src=\"https://colab.research.google.com/assets/colab-badge.svg\" alt=\"Open In Colab\"/></a>"
      ]
    },
    {
      "cell_type": "code",
      "source": [
        "from google.colab import drive\n",
        "drive.mount('/content/drive')"
      ],
      "metadata": {
        "id": "WEhISjz_mebk",
        "colab": {
          "base_uri": "https://localhost:8080/"
        },
        "outputId": "77094dac-272a-421c-c556-137bc841cddf"
      },
      "execution_count": null,
      "outputs": [
        {
          "output_type": "stream",
          "name": "stdout",
          "text": [
            "Mounted at /content/drive\n"
          ]
        }
      ]
    },
    {
      "cell_type": "code",
      "source": [
        "cd /content/drive/MyDrive/K-038884_json"
      ],
      "metadata": {
        "colab": {
          "base_uri": "https://localhost:8080/"
        },
        "id": "k2Wsp5WLuXil",
        "outputId": "6b432e18-1038-45df-c8a6-8e91dc60ec1b"
      },
      "execution_count": null,
      "outputs": [
        {
          "output_type": "stream",
          "name": "stdout",
          "text": [
            "/content/drive/MyDrive/K-038884_json\n"
          ]
        }
      ]
    },
    {
      "cell_type": "code",
      "source": [
        "cd /content/drive/MyDrive/K-038884"
      ],
      "metadata": {
        "colab": {
          "base_uri": "https://localhost:8080/"
        },
        "id": "mLf9vsQougQI",
        "outputId": "90746799-1f2a-42e1-84f6-d20fcbe2ea21"
      },
      "execution_count": null,
      "outputs": [
        {
          "output_type": "stream",
          "name": "stdout",
          "text": [
            "/content/drive/MyDrive/K-038884\n"
          ]
        }
      ]
    },
    {
      "cell_type": "code",
      "source": [
        "import pandas as pd\n",
        "import json\n",
        "from glob import glob\n"
      ],
      "metadata": {
        "id": "_dmW62Dim1F2"
      },
      "execution_count": null,
      "outputs": []
    },
    {
      "cell_type": "code",
      "source": [
        "df = pd.DataFrame()\n",
        "for i, name in enumerate(glob('*.json')):\n",
        "  with open(name) as f:\n",
        "    data = json.load(f)\n",
        "    json_test = pd.json_normalize(data[\"images\"])\n",
        "    df = df.append(json_test,ignore_index=True)\n",
        "# df\n",
        "\n",
        "df = df[[\"file_name\",\"drug_N\",\"drug_S\",\"back_color\",\"drug_dir\",\"dl_mapping_code\",\"dl_name\",\"dl_name_en\",\"dl_material\",\"dl_material_en\",\"dl_custom_shape\",\"di_etc_otc_code\"]]\n",
        "df"
      ],
      "metadata": {
        "id": "YgoFVeHIm0cr",
        "colab": {
          "base_uri": "https://localhost:8080/",
          "height": 424
        },
        "outputId": "f04caddd-f683-4f7b-ac7c-736d6a48faeb"
      },
      "execution_count": null,
      "outputs": [
        {
          "output_type": "execute_result",
          "data": {
            "text/plain": [
              "                           file_name    drug_N drug_S back_color drug_dir  \\\n",
              "0    K-038884_0_0_0_1_75_340_200.png  K-038884   정상알약     검은색 배경       앞면   \n",
              "1    K-038884_0_0_0_1_75_320_200.png  K-038884   정상알약     검은색 배경       앞면   \n",
              "2    K-038884_0_0_0_1_75_140_200.png  K-038884   정상알약     검은색 배경       앞면   \n",
              "3    K-038884_0_0_0_1_75_120_200.png  K-038884   정상알약     검은색 배경       앞면   \n",
              "4    K-038884_0_0_0_0_90_320_200.png  K-038884   정상알약     검은색 배경       앞면   \n",
              "..                               ...       ...    ...        ...      ...   \n",
              "231  K-038890_0_0_0_0_75_000_200.png  K-038890   정상알약     검은색 배경       앞면   \n",
              "232  K-038890_0_0_0_0_75_120_200.png  K-038890   정상알약     검은색 배경       앞면   \n",
              "233  K-038890_0_0_0_0_75_140_200.png  K-038890   정상알약     검은색 배경       앞면   \n",
              "234  K-038890_0_0_0_0_75_080_200.png  K-038890   정상알약     검은색 배경       앞면   \n",
              "235  K-038890_0_0_0_0_75_180_200.png  K-038890   정상알약     검은색 배경       앞면   \n",
              "\n",
              "    dl_mapping_code dl_name    dl_name_en dl_material  \\\n",
              "0          K-038884   에피나레정  Epinare Tab.    에피나스틴염산염   \n",
              "1          K-038884   에피나레정  Epinare Tab.    에피나스틴염산염   \n",
              "2          K-038884   에피나레정  Epinare Tab.    에피나스틴염산염   \n",
              "3          K-038884   에피나레정  Epinare Tab.    에피나스틴염산염   \n",
              "4          K-038884   에피나레정  Epinare Tab.    에피나스틴염산염   \n",
              "..              ...     ...           ...         ...   \n",
              "231        K-038890   티아프란정  Tiapran Tab.   티로프라미드염산염   \n",
              "232        K-038890   티아프란정  Tiapran Tab.   티로프라미드염산염   \n",
              "233        K-038890   티아프란정  Tiapran Tab.   티로프라미드염산염   \n",
              "234        K-038890   티아프란정  Tiapran Tab.   티로프라미드염산염   \n",
              "235        K-038890   티아프란정  Tiapran Tab.   티로프라미드염산염   \n",
              "\n",
              "                dl_material_en dl_custom_shape di_etc_otc_code  \n",
              "0     Epinastine Hydrochloride         정제, 저작정           전문의약품  \n",
              "1     Epinastine Hydrochloride         정제, 저작정           전문의약품  \n",
              "2     Epinastine Hydrochloride         정제, 저작정           전문의약품  \n",
              "3     Epinastine Hydrochloride         정제, 저작정           전문의약품  \n",
              "4     Epinastine Hydrochloride         정제, 저작정           전문의약품  \n",
              "..                         ...             ...             ...  \n",
              "231  Tiropramide Hydrochloride         정제, 저작정           전문의약품  \n",
              "232  Tiropramide Hydrochloride         정제, 저작정           전문의약품  \n",
              "233  Tiropramide Hydrochloride         정제, 저작정           전문의약품  \n",
              "234  Tiropramide Hydrochloride         정제, 저작정           전문의약품  \n",
              "235  Tiropramide Hydrochloride         정제, 저작정           전문의약품  \n",
              "\n",
              "[236 rows x 12 columns]"
            ],
            "text/html": [
              "\n",
              "  <div id=\"df-841c8fc1-fceb-447a-8747-5367874ff324\">\n",
              "    <div class=\"colab-df-container\">\n",
              "      <div>\n",
              "<style scoped>\n",
              "    .dataframe tbody tr th:only-of-type {\n",
              "        vertical-align: middle;\n",
              "    }\n",
              "\n",
              "    .dataframe tbody tr th {\n",
              "        vertical-align: top;\n",
              "    }\n",
              "\n",
              "    .dataframe thead th {\n",
              "        text-align: right;\n",
              "    }\n",
              "</style>\n",
              "<table border=\"1\" class=\"dataframe\">\n",
              "  <thead>\n",
              "    <tr style=\"text-align: right;\">\n",
              "      <th></th>\n",
              "      <th>file_name</th>\n",
              "      <th>drug_N</th>\n",
              "      <th>drug_S</th>\n",
              "      <th>back_color</th>\n",
              "      <th>drug_dir</th>\n",
              "      <th>dl_mapping_code</th>\n",
              "      <th>dl_name</th>\n",
              "      <th>dl_name_en</th>\n",
              "      <th>dl_material</th>\n",
              "      <th>dl_material_en</th>\n",
              "      <th>dl_custom_shape</th>\n",
              "      <th>di_etc_otc_code</th>\n",
              "    </tr>\n",
              "  </thead>\n",
              "  <tbody>\n",
              "    <tr>\n",
              "      <th>0</th>\n",
              "      <td>K-038884_0_0_0_1_75_340_200.png</td>\n",
              "      <td>K-038884</td>\n",
              "      <td>정상알약</td>\n",
              "      <td>검은색 배경</td>\n",
              "      <td>앞면</td>\n",
              "      <td>K-038884</td>\n",
              "      <td>에피나레정</td>\n",
              "      <td>Epinare Tab.</td>\n",
              "      <td>에피나스틴염산염</td>\n",
              "      <td>Epinastine Hydrochloride</td>\n",
              "      <td>정제, 저작정</td>\n",
              "      <td>전문의약품</td>\n",
              "    </tr>\n",
              "    <tr>\n",
              "      <th>1</th>\n",
              "      <td>K-038884_0_0_0_1_75_320_200.png</td>\n",
              "      <td>K-038884</td>\n",
              "      <td>정상알약</td>\n",
              "      <td>검은색 배경</td>\n",
              "      <td>앞면</td>\n",
              "      <td>K-038884</td>\n",
              "      <td>에피나레정</td>\n",
              "      <td>Epinare Tab.</td>\n",
              "      <td>에피나스틴염산염</td>\n",
              "      <td>Epinastine Hydrochloride</td>\n",
              "      <td>정제, 저작정</td>\n",
              "      <td>전문의약품</td>\n",
              "    </tr>\n",
              "    <tr>\n",
              "      <th>2</th>\n",
              "      <td>K-038884_0_0_0_1_75_140_200.png</td>\n",
              "      <td>K-038884</td>\n",
              "      <td>정상알약</td>\n",
              "      <td>검은색 배경</td>\n",
              "      <td>앞면</td>\n",
              "      <td>K-038884</td>\n",
              "      <td>에피나레정</td>\n",
              "      <td>Epinare Tab.</td>\n",
              "      <td>에피나스틴염산염</td>\n",
              "      <td>Epinastine Hydrochloride</td>\n",
              "      <td>정제, 저작정</td>\n",
              "      <td>전문의약품</td>\n",
              "    </tr>\n",
              "    <tr>\n",
              "      <th>3</th>\n",
              "      <td>K-038884_0_0_0_1_75_120_200.png</td>\n",
              "      <td>K-038884</td>\n",
              "      <td>정상알약</td>\n",
              "      <td>검은색 배경</td>\n",
              "      <td>앞면</td>\n",
              "      <td>K-038884</td>\n",
              "      <td>에피나레정</td>\n",
              "      <td>Epinare Tab.</td>\n",
              "      <td>에피나스틴염산염</td>\n",
              "      <td>Epinastine Hydrochloride</td>\n",
              "      <td>정제, 저작정</td>\n",
              "      <td>전문의약품</td>\n",
              "    </tr>\n",
              "    <tr>\n",
              "      <th>4</th>\n",
              "      <td>K-038884_0_0_0_0_90_320_200.png</td>\n",
              "      <td>K-038884</td>\n",
              "      <td>정상알약</td>\n",
              "      <td>검은색 배경</td>\n",
              "      <td>앞면</td>\n",
              "      <td>K-038884</td>\n",
              "      <td>에피나레정</td>\n",
              "      <td>Epinare Tab.</td>\n",
              "      <td>에피나스틴염산염</td>\n",
              "      <td>Epinastine Hydrochloride</td>\n",
              "      <td>정제, 저작정</td>\n",
              "      <td>전문의약품</td>\n",
              "    </tr>\n",
              "    <tr>\n",
              "      <th>...</th>\n",
              "      <td>...</td>\n",
              "      <td>...</td>\n",
              "      <td>...</td>\n",
              "      <td>...</td>\n",
              "      <td>...</td>\n",
              "      <td>...</td>\n",
              "      <td>...</td>\n",
              "      <td>...</td>\n",
              "      <td>...</td>\n",
              "      <td>...</td>\n",
              "      <td>...</td>\n",
              "      <td>...</td>\n",
              "    </tr>\n",
              "    <tr>\n",
              "      <th>231</th>\n",
              "      <td>K-038890_0_0_0_0_75_000_200.png</td>\n",
              "      <td>K-038890</td>\n",
              "      <td>정상알약</td>\n",
              "      <td>검은색 배경</td>\n",
              "      <td>앞면</td>\n",
              "      <td>K-038890</td>\n",
              "      <td>티아프란정</td>\n",
              "      <td>Tiapran Tab.</td>\n",
              "      <td>티로프라미드염산염</td>\n",
              "      <td>Tiropramide Hydrochloride</td>\n",
              "      <td>정제, 저작정</td>\n",
              "      <td>전문의약품</td>\n",
              "    </tr>\n",
              "    <tr>\n",
              "      <th>232</th>\n",
              "      <td>K-038890_0_0_0_0_75_120_200.png</td>\n",
              "      <td>K-038890</td>\n",
              "      <td>정상알약</td>\n",
              "      <td>검은색 배경</td>\n",
              "      <td>앞면</td>\n",
              "      <td>K-038890</td>\n",
              "      <td>티아프란정</td>\n",
              "      <td>Tiapran Tab.</td>\n",
              "      <td>티로프라미드염산염</td>\n",
              "      <td>Tiropramide Hydrochloride</td>\n",
              "      <td>정제, 저작정</td>\n",
              "      <td>전문의약품</td>\n",
              "    </tr>\n",
              "    <tr>\n",
              "      <th>233</th>\n",
              "      <td>K-038890_0_0_0_0_75_140_200.png</td>\n",
              "      <td>K-038890</td>\n",
              "      <td>정상알약</td>\n",
              "      <td>검은색 배경</td>\n",
              "      <td>앞면</td>\n",
              "      <td>K-038890</td>\n",
              "      <td>티아프란정</td>\n",
              "      <td>Tiapran Tab.</td>\n",
              "      <td>티로프라미드염산염</td>\n",
              "      <td>Tiropramide Hydrochloride</td>\n",
              "      <td>정제, 저작정</td>\n",
              "      <td>전문의약품</td>\n",
              "    </tr>\n",
              "    <tr>\n",
              "      <th>234</th>\n",
              "      <td>K-038890_0_0_0_0_75_080_200.png</td>\n",
              "      <td>K-038890</td>\n",
              "      <td>정상알약</td>\n",
              "      <td>검은색 배경</td>\n",
              "      <td>앞면</td>\n",
              "      <td>K-038890</td>\n",
              "      <td>티아프란정</td>\n",
              "      <td>Tiapran Tab.</td>\n",
              "      <td>티로프라미드염산염</td>\n",
              "      <td>Tiropramide Hydrochloride</td>\n",
              "      <td>정제, 저작정</td>\n",
              "      <td>전문의약품</td>\n",
              "    </tr>\n",
              "    <tr>\n",
              "      <th>235</th>\n",
              "      <td>K-038890_0_0_0_0_75_180_200.png</td>\n",
              "      <td>K-038890</td>\n",
              "      <td>정상알약</td>\n",
              "      <td>검은색 배경</td>\n",
              "      <td>앞면</td>\n",
              "      <td>K-038890</td>\n",
              "      <td>티아프란정</td>\n",
              "      <td>Tiapran Tab.</td>\n",
              "      <td>티로프라미드염산염</td>\n",
              "      <td>Tiropramide Hydrochloride</td>\n",
              "      <td>정제, 저작정</td>\n",
              "      <td>전문의약품</td>\n",
              "    </tr>\n",
              "  </tbody>\n",
              "</table>\n",
              "<p>236 rows × 12 columns</p>\n",
              "</div>\n",
              "      <button class=\"colab-df-convert\" onclick=\"convertToInteractive('df-841c8fc1-fceb-447a-8747-5367874ff324')\"\n",
              "              title=\"Convert this dataframe to an interactive table.\"\n",
              "              style=\"display:none;\">\n",
              "        \n",
              "  <svg xmlns=\"http://www.w3.org/2000/svg\" height=\"24px\"viewBox=\"0 0 24 24\"\n",
              "       width=\"24px\">\n",
              "    <path d=\"M0 0h24v24H0V0z\" fill=\"none\"/>\n",
              "    <path d=\"M18.56 5.44l.94 2.06.94-2.06 2.06-.94-2.06-.94-.94-2.06-.94 2.06-2.06.94zm-11 1L8.5 8.5l.94-2.06 2.06-.94-2.06-.94L8.5 2.5l-.94 2.06-2.06.94zm10 10l.94 2.06.94-2.06 2.06-.94-2.06-.94-.94-2.06-.94 2.06-2.06.94z\"/><path d=\"M17.41 7.96l-1.37-1.37c-.4-.4-.92-.59-1.43-.59-.52 0-1.04.2-1.43.59L10.3 9.45l-7.72 7.72c-.78.78-.78 2.05 0 2.83L4 21.41c.39.39.9.59 1.41.59.51 0 1.02-.2 1.41-.59l7.78-7.78 2.81-2.81c.8-.78.8-2.07 0-2.86zM5.41 20L4 18.59l7.72-7.72 1.47 1.35L5.41 20z\"/>\n",
              "  </svg>\n",
              "      </button>\n",
              "      \n",
              "  <style>\n",
              "    .colab-df-container {\n",
              "      display:flex;\n",
              "      flex-wrap:wrap;\n",
              "      gap: 12px;\n",
              "    }\n",
              "\n",
              "    .colab-df-convert {\n",
              "      background-color: #E8F0FE;\n",
              "      border: none;\n",
              "      border-radius: 50%;\n",
              "      cursor: pointer;\n",
              "      display: none;\n",
              "      fill: #1967D2;\n",
              "      height: 32px;\n",
              "      padding: 0 0 0 0;\n",
              "      width: 32px;\n",
              "    }\n",
              "\n",
              "    .colab-df-convert:hover {\n",
              "      background-color: #E2EBFA;\n",
              "      box-shadow: 0px 1px 2px rgba(60, 64, 67, 0.3), 0px 1px 3px 1px rgba(60, 64, 67, 0.15);\n",
              "      fill: #174EA6;\n",
              "    }\n",
              "\n",
              "    [theme=dark] .colab-df-convert {\n",
              "      background-color: #3B4455;\n",
              "      fill: #D2E3FC;\n",
              "    }\n",
              "\n",
              "    [theme=dark] .colab-df-convert:hover {\n",
              "      background-color: #434B5C;\n",
              "      box-shadow: 0px 1px 3px 1px rgba(0, 0, 0, 0.15);\n",
              "      filter: drop-shadow(0px 1px 2px rgba(0, 0, 0, 0.3));\n",
              "      fill: #FFFFFF;\n",
              "    }\n",
              "  </style>\n",
              "\n",
              "      <script>\n",
              "        const buttonEl =\n",
              "          document.querySelector('#df-841c8fc1-fceb-447a-8747-5367874ff324 button.colab-df-convert');\n",
              "        buttonEl.style.display =\n",
              "          google.colab.kernel.accessAllowed ? 'block' : 'none';\n",
              "\n",
              "        async function convertToInteractive(key) {\n",
              "          const element = document.querySelector('#df-841c8fc1-fceb-447a-8747-5367874ff324');\n",
              "          const dataTable =\n",
              "            await google.colab.kernel.invokeFunction('convertToInteractive',\n",
              "                                                     [key], {});\n",
              "          if (!dataTable) return;\n",
              "\n",
              "          const docLinkHtml = 'Like what you see? Visit the ' +\n",
              "            '<a target=\"_blank\" href=https://colab.research.google.com/notebooks/data_table.ipynb>data table notebook</a>'\n",
              "            + ' to learn more about interactive tables.';\n",
              "          element.innerHTML = '';\n",
              "          dataTable['output_type'] = 'display_data';\n",
              "          await google.colab.output.renderOutput(dataTable, element);\n",
              "          const docLink = document.createElement('div');\n",
              "          docLink.innerHTML = docLinkHtml;\n",
              "          element.appendChild(docLink);\n",
              "        }\n",
              "      </script>\n",
              "    </div>\n",
              "  </div>\n",
              "  "
            ]
          },
          "metadata": {},
          "execution_count": 13
        }
      ]
    },
    {
      "cell_type": "code",
      "source": [
        "img = df['file_name']\n",
        "pill = df['dl_name']\n",
        "target_pill = sorted(list(set(pill)))\n",
        "print(target_pill)\n",
        "print(len(target_pill))"
      ],
      "metadata": {
        "colab": {
          "base_uri": "https://localhost:8080/"
        },
        "id": "C0edhlDxu0uP",
        "outputId": "5ed79a87-0408-4f51-b9da-27d0e590dc40"
      },
      "execution_count": null,
      "outputs": [
        {
          "output_type": "stream",
          "name": "stdout",
          "text": [
            "['에피나레정', '티아프란정']\n",
            "2\n"
          ]
        }
      ]
    }
  ]
}