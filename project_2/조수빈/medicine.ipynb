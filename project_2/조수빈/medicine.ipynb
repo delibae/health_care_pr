{
  "nbformat": 4,
  "nbformat_minor": 0,
  "metadata": {
    "colab": {
      "provenance": [],
      "include_colab_link": true
    },
    "kernelspec": {
      "name": "python3",
      "display_name": "Python 3"
    },
    "language_info": {
      "name": "python"
    }
  },
  "cells": [
    {
      "cell_type": "markdown",
      "metadata": {
        "id": "view-in-github",
        "colab_type": "text"
      },
      "source": [
        "<a href=\"https://colab.research.google.com/github/delibae/health_care_pr/blob/subin/project_2/%EC%A1%B0%EC%88%98%EB%B9%88/medicine.ipynb\" target=\"_parent\"><img src=\"https://colab.research.google.com/assets/colab-badge.svg\" alt=\"Open In Colab\"/></a>"
      ]
    },
    {
      "cell_type": "code",
      "source": [
        "!sudo apt-get install -y fonts-nanum\n",
        "!sudo fc-cache -fv\n",
        "!rm ~/.cache/matplotlib -rf"
      ],
      "metadata": {
        "id": "vT3o-36Eo1k1",
        "outputId": "76561a8b-7a96-4775-f641-9313e24f39d6",
        "colab": {
          "base_uri": "https://localhost:8080/"
        }
      },
      "execution_count": 2,
      "outputs": [
        {
          "output_type": "stream",
          "name": "stdout",
          "text": [
            "Reading package lists... Done\n",
            "Building dependency tree       \n",
            "Reading state information... Done\n",
            "fonts-nanum is already the newest version (20170925-1).\n",
            "The following package was automatically installed and is no longer required:\n",
            "  libnvidia-common-460\n",
            "Use 'sudo apt autoremove' to remove it.\n",
            "0 upgraded, 0 newly installed, 0 to remove and 21 not upgraded.\n",
            "/usr/share/fonts: caching, new cache contents: 0 fonts, 1 dirs\n",
            "/usr/share/fonts/truetype: caching, new cache contents: 0 fonts, 3 dirs\n",
            "/usr/share/fonts/truetype/humor-sans: caching, new cache contents: 1 fonts, 0 dirs\n",
            "/usr/share/fonts/truetype/liberation: caching, new cache contents: 16 fonts, 0 dirs\n",
            "/usr/share/fonts/truetype/nanum: caching, new cache contents: 10 fonts, 0 dirs\n",
            "/usr/local/share/fonts: caching, new cache contents: 0 fonts, 0 dirs\n",
            "/root/.local/share/fonts: skipping, no such directory\n",
            "/root/.fonts: skipping, no such directory\n",
            "/var/cache/fontconfig: cleaning cache directory\n",
            "/root/.cache/fontconfig: not cleaning non-existent cache directory\n",
            "/root/.fontconfig: not cleaning non-existent cache directory\n",
            "fc-cache: succeeded\n"
          ]
        }
      ]
    },
    {
      "cell_type": "code",
      "source": [
        "from google.colab import drive\n",
        "drive.mount('/content/drive')"
      ],
      "metadata": {
        "id": "WEhISjz_mebk",
        "colab": {
          "base_uri": "https://localhost:8080/"
        },
        "outputId": "7dbeb79c-f775-4f47-a294-1cfb2c34ed0d"
      },
      "execution_count": 3,
      "outputs": [
        {
          "output_type": "stream",
          "name": "stdout",
          "text": [
            "Drive already mounted at /content/drive; to attempt to forcibly remount, call drive.mount(\"/content/drive\", force_remount=True).\n"
          ]
        }
      ]
    },
    {
      "cell_type": "code",
      "source": [
        "cd /content/drive/MyDrive/K-038884_json"
      ],
      "metadata": {
        "colab": {
          "base_uri": "https://localhost:8080/"
        },
        "id": "k2Wsp5WLuXil",
        "outputId": "2eb105b1-f3e7-4ac4-faba-0cd733e85082"
      },
      "execution_count": 8,
      "outputs": [
        {
          "output_type": "stream",
          "name": "stdout",
          "text": [
            "/content/drive/MyDrive/K-038884_json\n"
          ]
        }
      ]
    },
    {
      "cell_type": "code",
      "source": [
        "cd /content/drive/MyDrive/K-038884"
      ],
      "metadata": {
        "colab": {
          "base_uri": "https://localhost:8080/"
        },
        "id": "mLf9vsQougQI",
        "outputId": "0ec06752-a37d-460d-ad41-14e66bf70544"
      },
      "execution_count": 13,
      "outputs": [
        {
          "output_type": "stream",
          "name": "stdout",
          "text": [
            "/content/drive/MyDrive/K-038884\n"
          ]
        }
      ]
    },
    {
      "cell_type": "code",
      "source": [
        "import pandas as pd\n",
        "import json\n",
        "from glob import glob\n",
        "import matplotlib.pyplot as plt\n",
        "from PIL import Image\n",
        "import cv2\n",
        "import numpy as np\n",
        "from sklearn.preprocessing import OneHotEncoder\n"
      ],
      "metadata": {
        "id": "_dmW62Dim1F2"
      },
      "execution_count": 16,
      "outputs": []
    },
    {
      "cell_type": "code",
      "source": [
        "df = pd.DataFrame()\n",
        "for i, name in enumerate(glob('*.json')):\n",
        "  with open(name) as f:\n",
        "    data = json.load(f)\n",
        "    json_test = pd.json_normalize(data[\"images\"])\n",
        "    df = df.append(json_test,ignore_index=True)\n",
        "# df\n",
        "\n",
        "df = df[[\"file_name\",\"drug_N\",\"drug_S\",\"back_color\",\"drug_dir\",\"dl_mapping_code\",\"dl_name\",\"dl_name_en\",\"dl_material\",\"dl_material_en\",\"dl_custom_shape\",\"di_etc_otc_code\"]]\n",
        "df"
      ],
      "metadata": {
        "id": "YgoFVeHIm0cr",
        "colab": {
          "base_uri": "https://localhost:8080/",
          "height": 424
        },
        "outputId": "9eabee04-3acb-40d7-cfb2-a17e6cd2941c"
      },
      "execution_count": 9,
      "outputs": [
        {
          "output_type": "execute_result",
          "data": {
            "text/plain": [
              "                            file_name    drug_N drug_S back_color drug_dir  \\\n",
              "0     K-038890_0_0_0_2_90_260_200.png  K-038890   정상알약     검은색 배경       앞면   \n",
              "1     K-038890_0_0_0_1_75_000_200.png  K-038890   정상알약     검은색 배경       앞면   \n",
              "2     K-038890_0_0_1_0_75_100_200.png  K-038890   정상알약     검은색 배경       뒷면   \n",
              "3     K-038890_0_0_1_0_90_220_200.png  K-038890   정상알약     검은색 배경       뒷면   \n",
              "4     K-038890_0_0_1_0_90_020_200.png  K-038890   정상알약     검은색 배경       뒷면   \n",
              "...                               ...       ...    ...        ...      ...   \n",
              "1291  K-038890_0_0_0_1_90_000_200.png  K-038890   정상알약     검은색 배경       앞면   \n",
              "1292  K-038890_0_0_0_1_75_300_200.png  K-038890   정상알약     검은색 배경       앞면   \n",
              "1293  K-038890_0_0_0_1_90_020_200.png  K-038890   정상알약     검은색 배경       앞면   \n",
              "1294  K-038890_0_0_0_1_90_140_200.png  K-038890   정상알약     검은색 배경       앞면   \n",
              "1295  K-038890_0_0_1_0_75_060_200.png  K-038890   정상알약     검은색 배경       뒷면   \n",
              "\n",
              "     dl_mapping_code dl_name    dl_name_en dl_material  \\\n",
              "0           K-038890   티아프란정  Tiapran Tab.   티로프라미드염산염   \n",
              "1           K-038890   티아프란정  Tiapran Tab.   티로프라미드염산염   \n",
              "2           K-038890   티아프란정  Tiapran Tab.   티로프라미드염산염   \n",
              "3           K-038890   티아프란정  Tiapran Tab.   티로프라미드염산염   \n",
              "4           K-038890   티아프란정  Tiapran Tab.   티로프라미드염산염   \n",
              "...              ...     ...           ...         ...   \n",
              "1291        K-038890   티아프란정  Tiapran Tab.   티로프라미드염산염   \n",
              "1292        K-038890   티아프란정  Tiapran Tab.   티로프라미드염산염   \n",
              "1293        K-038890   티아프란정  Tiapran Tab.   티로프라미드염산염   \n",
              "1294        K-038890   티아프란정  Tiapran Tab.   티로프라미드염산염   \n",
              "1295        K-038890   티아프란정  Tiapran Tab.   티로프라미드염산염   \n",
              "\n",
              "                 dl_material_en dl_custom_shape di_etc_otc_code  \n",
              "0     Tiropramide Hydrochloride         정제, 저작정           전문의약품  \n",
              "1     Tiropramide Hydrochloride         정제, 저작정           전문의약품  \n",
              "2     Tiropramide Hydrochloride         정제, 저작정           전문의약품  \n",
              "3     Tiropramide Hydrochloride         정제, 저작정           전문의약품  \n",
              "4     Tiropramide Hydrochloride         정제, 저작정           전문의약품  \n",
              "...                         ...             ...             ...  \n",
              "1291  Tiropramide Hydrochloride         정제, 저작정           전문의약품  \n",
              "1292  Tiropramide Hydrochloride         정제, 저작정           전문의약품  \n",
              "1293  Tiropramide Hydrochloride         정제, 저작정           전문의약품  \n",
              "1294  Tiropramide Hydrochloride         정제, 저작정           전문의약품  \n",
              "1295  Tiropramide Hydrochloride         정제, 저작정           전문의약품  \n",
              "\n",
              "[1296 rows x 12 columns]"
            ],
            "text/html": [
              "\n",
              "  <div id=\"df-15dc05d3-e7d8-43eb-85bd-cb96b679c77e\">\n",
              "    <div class=\"colab-df-container\">\n",
              "      <div>\n",
              "<style scoped>\n",
              "    .dataframe tbody tr th:only-of-type {\n",
              "        vertical-align: middle;\n",
              "    }\n",
              "\n",
              "    .dataframe tbody tr th {\n",
              "        vertical-align: top;\n",
              "    }\n",
              "\n",
              "    .dataframe thead th {\n",
              "        text-align: right;\n",
              "    }\n",
              "</style>\n",
              "<table border=\"1\" class=\"dataframe\">\n",
              "  <thead>\n",
              "    <tr style=\"text-align: right;\">\n",
              "      <th></th>\n",
              "      <th>file_name</th>\n",
              "      <th>drug_N</th>\n",
              "      <th>drug_S</th>\n",
              "      <th>back_color</th>\n",
              "      <th>drug_dir</th>\n",
              "      <th>dl_mapping_code</th>\n",
              "      <th>dl_name</th>\n",
              "      <th>dl_name_en</th>\n",
              "      <th>dl_material</th>\n",
              "      <th>dl_material_en</th>\n",
              "      <th>dl_custom_shape</th>\n",
              "      <th>di_etc_otc_code</th>\n",
              "    </tr>\n",
              "  </thead>\n",
              "  <tbody>\n",
              "    <tr>\n",
              "      <th>0</th>\n",
              "      <td>K-038890_0_0_0_2_90_260_200.png</td>\n",
              "      <td>K-038890</td>\n",
              "      <td>정상알약</td>\n",
              "      <td>검은색 배경</td>\n",
              "      <td>앞면</td>\n",
              "      <td>K-038890</td>\n",
              "      <td>티아프란정</td>\n",
              "      <td>Tiapran Tab.</td>\n",
              "      <td>티로프라미드염산염</td>\n",
              "      <td>Tiropramide Hydrochloride</td>\n",
              "      <td>정제, 저작정</td>\n",
              "      <td>전문의약품</td>\n",
              "    </tr>\n",
              "    <tr>\n",
              "      <th>1</th>\n",
              "      <td>K-038890_0_0_0_1_75_000_200.png</td>\n",
              "      <td>K-038890</td>\n",
              "      <td>정상알약</td>\n",
              "      <td>검은색 배경</td>\n",
              "      <td>앞면</td>\n",
              "      <td>K-038890</td>\n",
              "      <td>티아프란정</td>\n",
              "      <td>Tiapran Tab.</td>\n",
              "      <td>티로프라미드염산염</td>\n",
              "      <td>Tiropramide Hydrochloride</td>\n",
              "      <td>정제, 저작정</td>\n",
              "      <td>전문의약품</td>\n",
              "    </tr>\n",
              "    <tr>\n",
              "      <th>2</th>\n",
              "      <td>K-038890_0_0_1_0_75_100_200.png</td>\n",
              "      <td>K-038890</td>\n",
              "      <td>정상알약</td>\n",
              "      <td>검은색 배경</td>\n",
              "      <td>뒷면</td>\n",
              "      <td>K-038890</td>\n",
              "      <td>티아프란정</td>\n",
              "      <td>Tiapran Tab.</td>\n",
              "      <td>티로프라미드염산염</td>\n",
              "      <td>Tiropramide Hydrochloride</td>\n",
              "      <td>정제, 저작정</td>\n",
              "      <td>전문의약품</td>\n",
              "    </tr>\n",
              "    <tr>\n",
              "      <th>3</th>\n",
              "      <td>K-038890_0_0_1_0_90_220_200.png</td>\n",
              "      <td>K-038890</td>\n",
              "      <td>정상알약</td>\n",
              "      <td>검은색 배경</td>\n",
              "      <td>뒷면</td>\n",
              "      <td>K-038890</td>\n",
              "      <td>티아프란정</td>\n",
              "      <td>Tiapran Tab.</td>\n",
              "      <td>티로프라미드염산염</td>\n",
              "      <td>Tiropramide Hydrochloride</td>\n",
              "      <td>정제, 저작정</td>\n",
              "      <td>전문의약품</td>\n",
              "    </tr>\n",
              "    <tr>\n",
              "      <th>4</th>\n",
              "      <td>K-038890_0_0_1_0_90_020_200.png</td>\n",
              "      <td>K-038890</td>\n",
              "      <td>정상알약</td>\n",
              "      <td>검은색 배경</td>\n",
              "      <td>뒷면</td>\n",
              "      <td>K-038890</td>\n",
              "      <td>티아프란정</td>\n",
              "      <td>Tiapran Tab.</td>\n",
              "      <td>티로프라미드염산염</td>\n",
              "      <td>Tiropramide Hydrochloride</td>\n",
              "      <td>정제, 저작정</td>\n",
              "      <td>전문의약품</td>\n",
              "    </tr>\n",
              "    <tr>\n",
              "      <th>...</th>\n",
              "      <td>...</td>\n",
              "      <td>...</td>\n",
              "      <td>...</td>\n",
              "      <td>...</td>\n",
              "      <td>...</td>\n",
              "      <td>...</td>\n",
              "      <td>...</td>\n",
              "      <td>...</td>\n",
              "      <td>...</td>\n",
              "      <td>...</td>\n",
              "      <td>...</td>\n",
              "      <td>...</td>\n",
              "    </tr>\n",
              "    <tr>\n",
              "      <th>1291</th>\n",
              "      <td>K-038890_0_0_0_1_90_000_200.png</td>\n",
              "      <td>K-038890</td>\n",
              "      <td>정상알약</td>\n",
              "      <td>검은색 배경</td>\n",
              "      <td>앞면</td>\n",
              "      <td>K-038890</td>\n",
              "      <td>티아프란정</td>\n",
              "      <td>Tiapran Tab.</td>\n",
              "      <td>티로프라미드염산염</td>\n",
              "      <td>Tiropramide Hydrochloride</td>\n",
              "      <td>정제, 저작정</td>\n",
              "      <td>전문의약품</td>\n",
              "    </tr>\n",
              "    <tr>\n",
              "      <th>1292</th>\n",
              "      <td>K-038890_0_0_0_1_75_300_200.png</td>\n",
              "      <td>K-038890</td>\n",
              "      <td>정상알약</td>\n",
              "      <td>검은색 배경</td>\n",
              "      <td>앞면</td>\n",
              "      <td>K-038890</td>\n",
              "      <td>티아프란정</td>\n",
              "      <td>Tiapran Tab.</td>\n",
              "      <td>티로프라미드염산염</td>\n",
              "      <td>Tiropramide Hydrochloride</td>\n",
              "      <td>정제, 저작정</td>\n",
              "      <td>전문의약품</td>\n",
              "    </tr>\n",
              "    <tr>\n",
              "      <th>1293</th>\n",
              "      <td>K-038890_0_0_0_1_90_020_200.png</td>\n",
              "      <td>K-038890</td>\n",
              "      <td>정상알약</td>\n",
              "      <td>검은색 배경</td>\n",
              "      <td>앞면</td>\n",
              "      <td>K-038890</td>\n",
              "      <td>티아프란정</td>\n",
              "      <td>Tiapran Tab.</td>\n",
              "      <td>티로프라미드염산염</td>\n",
              "      <td>Tiropramide Hydrochloride</td>\n",
              "      <td>정제, 저작정</td>\n",
              "      <td>전문의약품</td>\n",
              "    </tr>\n",
              "    <tr>\n",
              "      <th>1294</th>\n",
              "      <td>K-038890_0_0_0_1_90_140_200.png</td>\n",
              "      <td>K-038890</td>\n",
              "      <td>정상알약</td>\n",
              "      <td>검은색 배경</td>\n",
              "      <td>앞면</td>\n",
              "      <td>K-038890</td>\n",
              "      <td>티아프란정</td>\n",
              "      <td>Tiapran Tab.</td>\n",
              "      <td>티로프라미드염산염</td>\n",
              "      <td>Tiropramide Hydrochloride</td>\n",
              "      <td>정제, 저작정</td>\n",
              "      <td>전문의약품</td>\n",
              "    </tr>\n",
              "    <tr>\n",
              "      <th>1295</th>\n",
              "      <td>K-038890_0_0_1_0_75_060_200.png</td>\n",
              "      <td>K-038890</td>\n",
              "      <td>정상알약</td>\n",
              "      <td>검은색 배경</td>\n",
              "      <td>뒷면</td>\n",
              "      <td>K-038890</td>\n",
              "      <td>티아프란정</td>\n",
              "      <td>Tiapran Tab.</td>\n",
              "      <td>티로프라미드염산염</td>\n",
              "      <td>Tiropramide Hydrochloride</td>\n",
              "      <td>정제, 저작정</td>\n",
              "      <td>전문의약품</td>\n",
              "    </tr>\n",
              "  </tbody>\n",
              "</table>\n",
              "<p>1296 rows × 12 columns</p>\n",
              "</div>\n",
              "      <button class=\"colab-df-convert\" onclick=\"convertToInteractive('df-15dc05d3-e7d8-43eb-85bd-cb96b679c77e')\"\n",
              "              title=\"Convert this dataframe to an interactive table.\"\n",
              "              style=\"display:none;\">\n",
              "        \n",
              "  <svg xmlns=\"http://www.w3.org/2000/svg\" height=\"24px\"viewBox=\"0 0 24 24\"\n",
              "       width=\"24px\">\n",
              "    <path d=\"M0 0h24v24H0V0z\" fill=\"none\"/>\n",
              "    <path d=\"M18.56 5.44l.94 2.06.94-2.06 2.06-.94-2.06-.94-.94-2.06-.94 2.06-2.06.94zm-11 1L8.5 8.5l.94-2.06 2.06-.94-2.06-.94L8.5 2.5l-.94 2.06-2.06.94zm10 10l.94 2.06.94-2.06 2.06-.94-2.06-.94-.94-2.06-.94 2.06-2.06.94z\"/><path d=\"M17.41 7.96l-1.37-1.37c-.4-.4-.92-.59-1.43-.59-.52 0-1.04.2-1.43.59L10.3 9.45l-7.72 7.72c-.78.78-.78 2.05 0 2.83L4 21.41c.39.39.9.59 1.41.59.51 0 1.02-.2 1.41-.59l7.78-7.78 2.81-2.81c.8-.78.8-2.07 0-2.86zM5.41 20L4 18.59l7.72-7.72 1.47 1.35L5.41 20z\"/>\n",
              "  </svg>\n",
              "      </button>\n",
              "      \n",
              "  <style>\n",
              "    .colab-df-container {\n",
              "      display:flex;\n",
              "      flex-wrap:wrap;\n",
              "      gap: 12px;\n",
              "    }\n",
              "\n",
              "    .colab-df-convert {\n",
              "      background-color: #E8F0FE;\n",
              "      border: none;\n",
              "      border-radius: 50%;\n",
              "      cursor: pointer;\n",
              "      display: none;\n",
              "      fill: #1967D2;\n",
              "      height: 32px;\n",
              "      padding: 0 0 0 0;\n",
              "      width: 32px;\n",
              "    }\n",
              "\n",
              "    .colab-df-convert:hover {\n",
              "      background-color: #E2EBFA;\n",
              "      box-shadow: 0px 1px 2px rgba(60, 64, 67, 0.3), 0px 1px 3px 1px rgba(60, 64, 67, 0.15);\n",
              "      fill: #174EA6;\n",
              "    }\n",
              "\n",
              "    [theme=dark] .colab-df-convert {\n",
              "      background-color: #3B4455;\n",
              "      fill: #D2E3FC;\n",
              "    }\n",
              "\n",
              "    [theme=dark] .colab-df-convert:hover {\n",
              "      background-color: #434B5C;\n",
              "      box-shadow: 0px 1px 3px 1px rgba(0, 0, 0, 0.15);\n",
              "      filter: drop-shadow(0px 1px 2px rgba(0, 0, 0, 0.3));\n",
              "      fill: #FFFFFF;\n",
              "    }\n",
              "  </style>\n",
              "\n",
              "      <script>\n",
              "        const buttonEl =\n",
              "          document.querySelector('#df-15dc05d3-e7d8-43eb-85bd-cb96b679c77e button.colab-df-convert');\n",
              "        buttonEl.style.display =\n",
              "          google.colab.kernel.accessAllowed ? 'block' : 'none';\n",
              "\n",
              "        async function convertToInteractive(key) {\n",
              "          const element = document.querySelector('#df-15dc05d3-e7d8-43eb-85bd-cb96b679c77e');\n",
              "          const dataTable =\n",
              "            await google.colab.kernel.invokeFunction('convertToInteractive',\n",
              "                                                     [key], {});\n",
              "          if (!dataTable) return;\n",
              "\n",
              "          const docLinkHtml = 'Like what you see? Visit the ' +\n",
              "            '<a target=\"_blank\" href=https://colab.research.google.com/notebooks/data_table.ipynb>data table notebook</a>'\n",
              "            + ' to learn more about interactive tables.';\n",
              "          element.innerHTML = '';\n",
              "          dataTable['output_type'] = 'display_data';\n",
              "          await google.colab.output.renderOutput(dataTable, element);\n",
              "          const docLink = document.createElement('div');\n",
              "          docLink.innerHTML = docLinkHtml;\n",
              "          element.appendChild(docLink);\n",
              "        }\n",
              "      </script>\n",
              "    </div>\n",
              "  </div>\n",
              "  "
            ]
          },
          "metadata": {},
          "execution_count": 9
        }
      ]
    },
    {
      "cell_type": "code",
      "source": [
        "img = df['file_name']\n",
        "pill = df['dl_name']\n",
        "target_pill = sorted(list(set(pill)))\n",
        "print(target_pill)\n",
        "print(len(target_pill))"
      ],
      "metadata": {
        "colab": {
          "base_uri": "https://localhost:8080/"
        },
        "id": "C0edhlDxu0uP",
        "outputId": "8f93855d-df6f-4286-eda4-6b6e2f943312"
      },
      "execution_count": 10,
      "outputs": [
        {
          "output_type": "stream",
          "name": "stdout",
          "text": [
            "['바실리포미스캡슐', '비오메틱스캡슐(바실루스리케니포르미스균)', '에피나레정', '크라틴정 20mg', '티아프란정']\n",
            "5\n"
          ]
        }
      ]
    },
    {
      "cell_type": "code",
      "source": [
        "pill = df['dl_name']\n",
        "cnt = pill.value_counts()\n",
        "plt.rc('font', family='NanumBarunGothic') \n",
        "plt.figure(figsize=(50, 5))\n",
        "plt.bar(cnt.index, cnt.values)\n",
        "plt.show()"
      ],
      "metadata": {
        "id": "e249uYlkgbVy",
        "outputId": "1b98d78e-c288-4ef4-957c-6266ca0ed786",
        "colab": {
          "base_uri": "https://localhost:8080/",
          "height": 341
        }
      },
      "execution_count": 11,
      "outputs": [
        {
          "output_type": "display_data",
          "data": {
            "text/plain": [
              "<Figure size 3600x360 with 1 Axes>"
            ],
            "image/png": "[encoded data removed]"
          },
          "metadata": {
            "needs_background": "light"
          }
        }
      ]
    }
  ]
}