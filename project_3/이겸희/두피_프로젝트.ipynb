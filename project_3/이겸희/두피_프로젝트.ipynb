{
 "cells": [
  {
   "cell_type": "markdown",
   "id": "b8ec1afb",
   "metadata": {},
   "source": [
    "# <header1>프로젝트 과제_4</header1>"
   ]
  },
  {
   "cell_type": "markdown",
   "id": "0f98dd0e",
   "metadata": {},
   "source": [
    "### 이겸희_성균관대 "
   ]
  },
  {
   "cell_type": "markdown",
   "id": "b7914f9e",
   "metadata": {},
   "source": [
    "### 학습 준비단계"
   ]
  },
  {
   "cell_type": "code",
   "execution_count": 1,
   "id": "00c1f52c",
   "metadata": {},
   "outputs": [
    {
     "name": "stdout",
     "output_type": "stream",
     "text": [
      "NumPy Version :1.21.5\n",
      "TensorFlow Version :2.9.1\n",
      "Matplotlib Version :3.5.3\n"
     ]
    }
   ],
   "source": [
    "import pandas as pd\n",
    "import numpy as np\n",
    "import sys\n",
    "import os\n",
    "from matplotlib import colors\n",
    "import random\n",
    "from pathlib import Path\n",
    "import imageio\n",
    "import skimage\n",
    "import skimage.io\n",
    "import skimage.transform\n",
    "import matplotlib.pyplot as plt\n",
    "import seaborn as sns\n",
    "import scipy\n",
    "from keras.models import load_model\n",
    "import tensorflow as tf\n",
    "from sklearn.model_selection import train_test_split\n",
    "from sklearn import metrics\n",
    "from tensorflow.keras import optimizers\n",
    "from tensorflow.keras.layers import Dense, Conv2D, Flatten, MaxPool2D, Dropout, BatchNormalization,LeakyReLU\n",
    "from tensorflow.keras.preprocessing.image import ImageDataGenerator\n",
    "from tensorflow.keras.callbacks import ModelCheckpoint, Callback, EarlyStopping, ReduceLROnPlateau, LearningRateScheduler\n",
    "from tensorflow.keras.utils import to_categorical\n",
    "import cv2\n",
    "\n",
    "print(\"NumPy Version :{}\".format(np.__version__))\n",
    "print(\"TensorFlow Version :{}\".format(tf.__version__))\n",
    "print(\"Matplotlib Version :{}\".format(plt.matplotlib.__version__))"
   ]
  },
  {
   "cell_type": "code",
   "execution_count": 121,
   "id": "627b1c0f",
   "metadata": {},
   "outputs": [],
   "source": [
    "IMAGE_PATH = \"../유형별 두피 이미지/Training/원천_합친/\"\n",
    "JSON_PATH = \"../유형별 두피 이미지/Training/라벨/\"\n",
    "IMAGE_WIDTH = 64\n",
    "IMAGE_HEIGHT = 64\n",
    "IMAGE_CHANNELS = 3\n",
    "IMG_SIZE = 64\n",
    "RANDOM_STATE = 2018\n",
    "TEST_SIZE = 0.2\n",
    "VAL_SIZE = 0.2\n",
    "MAX_POOL_DIM = 2\n",
    "KERNEL_SIZE = 3\n",
    "PATIENCE = 5\n",
    "VERBOSE = 1"
   ]
  },
  {
   "cell_type": "code",
   "execution_count": 3,
   "id": "12df2e70",
   "metadata": {},
   "outputs": [],
   "source": [
    "plt.rc(\"font\", family='Malgun Gothic')\n",
    "plt.rc('axes', unicode_minus = False)"
   ]
  },
  {
   "cell_type": "code",
   "execution_count": 4,
   "id": "613c387d",
   "metadata": {},
   "outputs": [],
   "source": [
    "import warnings\n",
    "warnings.filterwarnings('ignore')\n",
    "warnings.filterwarnings('ignore', 'This pattern has match groups')\n",
    "warnings.filterwarnings('ignore', 'The iterable function was deprecated in Matplotlib')"
   ]
  },
  {
   "cell_type": "markdown",
   "id": "ea425210",
   "metadata": {},
   "source": [
    "### 데이터 가져오기"
   ]
  },
  {
   "cell_type": "code",
   "execution_count": 111,
   "id": "2b8a4f01",
   "metadata": {},
   "outputs": [
    {
     "data": {
      "text/plain": [
       "['[원천]모낭사이홍반_0.양호',\n",
       " '[원천]모낭사이홍반_2.중등도',\n",
       " '[원천]모낭사이홍반_3.중증',\n",
       " '[원천]모낭홍반농포_0.양호',\n",
       " '[원천]모낭홍반농포_1.경증',\n",
       " '[원천]모낭홍반농포_2.중등도',\n",
       " '[원천]모낭홍반농포_3.중증',\n",
       " '[원천]미세각질_0.양호',\n",
       " '[원천]미세각질_1.경증',\n",
       " '[원천]미세각질_2.중등도',\n",
       " '[원천]미세각질_3.중증',\n",
       " '[원천]비듬_0.양호',\n",
       " '[원천]비듬_1',\n",
       " '[원천]비듬_2.중등도',\n",
       " '[원천]비듬_3.중증',\n",
       " '[원천]탈모_0.양호',\n",
       " '[원천]탈모_1.경증',\n",
       " '[원천]탈모_2.중등도',\n",
       " '[원천]탈모_3.중증',\n",
       " '[원천]피지과다_0.양호',\n",
       " '[원천]피지과다_1.경증',\n",
       " '[원천]피지과다_2.중등도',\n",
       " '[원천]피지과다_3.중증']"
      ]
     },
     "execution_count": 111,
     "metadata": {},
     "output_type": "execute_result"
    }
   ],
   "source": [
    "train_label = os.listdir(JSON_PATH)\n",
    "train_image = os.listdir(IMAGE_PATH)\n",
    "train_image"
   ]
  },
  {
   "cell_type": "code",
   "execution_count": 34,
   "id": "bfb581f1",
   "metadata": {},
   "outputs": [
    {
     "name": "stdout",
     "output_type": "stream",
     "text": [
      "[원천]모낭사이홍반_0.양호\n",
      "[원천]모낭사이홍반_2.중등도\n",
      "[원천]모낭사이홍반_3.중증\n",
      "[원천]모낭홍반농포_0.양호\n",
      "[원천]모낭홍반농포_1.경증\n",
      "[원천]모낭홍반농포_2.중등도\n",
      "[원천]모낭홍반농포_3.중증\n",
      "[원천]미세각질_0.양호\n",
      "[원천]미세각질_1.경증\n",
      "[원천]미세각질_2.중등도\n",
      "[원천]미세각질_3.중증\n",
      "[원천]비듬_0.양호\n",
      "[원천]비듬_1\n",
      "[원천]비듬_2.중등도\n",
      "[원천]비듬_3.중증\n",
      "[원천]탈모_0.양호\n",
      "[원천]탈모_1.경증\n",
      "[원천]탈모_2.중등도\n",
      "[원천]탈모_3.중증\n",
      "[원천]피지과다_0.양호\n",
      "[원천]피지과다_1.경증\n",
      "[원천]피지과다_2.중등도\n",
      "[원천]피지과다_3.중증\n"
     ]
    }
   ],
   "source": [
    "df = pd.DataFrame(columns=['이미지 이름', '증상명'])\n",
    "\n",
    "for di in train_image:\n",
    "    img_name = os.listdir(IMAGE_PATH + di)\n",
    "    print(di)\n",
    "#     df = pd.concat([df, (pd.DataFrame({'이미지 이름':img_name,\n",
    "#                              '증상명': [di * len(img_name)]}))])\n",
    "\n",
    "# ts_list = np.concatenate(ts_list).tolist()\n",
    "# tl_list = np.concatenate(tl_list).tolist()"
   ]
  },
  {
   "cell_type": "code",
   "execution_count": 36,
   "id": "d4578428",
   "metadata": {},
   "outputs": [
    {
     "data": {
      "text/html": [
       "<div>\n",
       "<style scoped>\n",
       "    .dataframe tbody tr th:only-of-type {\n",
       "        vertical-align: middle;\n",
       "    }\n",
       "\n",
       "    .dataframe tbody tr th {\n",
       "        vertical-align: top;\n",
       "    }\n",
       "\n",
       "    .dataframe thead th {\n",
       "        text-align: right;\n",
       "    }\n",
       "</style>\n",
       "<table border=\"1\" class=\"dataframe\">\n",
       "  <thead>\n",
       "    <tr style=\"text-align: right;\">\n",
       "      <th></th>\n",
       "      <th>이미지 이름</th>\n",
       "      <th>모낭사이홍반</th>\n",
       "      <th>모낭홍반농포</th>\n",
       "      <th>미세각질</th>\n",
       "      <th>비듬</th>\n",
       "      <th>탈모</th>\n",
       "      <th>피지과다</th>\n",
       "    </tr>\n",
       "  </thead>\n",
       "  <tbody>\n",
       "  </tbody>\n",
       "</table>\n",
       "</div>"
      ],
      "text/plain": [
       "Empty DataFrame\n",
       "Columns: [이미지 이름, 모낭사이홍반, 모낭홍반농포, 미세각질, 비듬, 탈모, 피지과다]\n",
       "Index: []"
      ]
     },
     "execution_count": 36,
     "metadata": {},
     "output_type": "execute_result"
    }
   ],
   "source": [
    "df1 = pd.DataFrame(columns=['이미지 이름', '모낭사이홍반', '모낭홍반농포', '미세각질', '비듬', '탈모', '피지과다'])\n",
    "df1"
   ]
  },
  {
   "cell_type": "code",
   "execution_count": 37,
   "id": "1c227625",
   "metadata": {},
   "outputs": [],
   "source": [
    "import json\n",
    "import os\n",
    "from tqdm import tqdm"
   ]
  },
  {
   "cell_type": "code",
   "execution_count": 93,
   "id": "7287e1aa",
   "metadata": {},
   "outputs": [
    {
     "data": {
      "text/plain": [
       "['0013_A2LEBJJDE00060O_1606550825417_3',\n",
       " '0013_A2LEBJJDE00060O_1606550825417_3_TH.jpg',\n",
       " '0',\n",
       " '0',\n",
       " '0',\n",
       " '0',\n",
       " '0',\n",
       " '0']"
      ]
     },
     "execution_count": 93,
     "metadata": {},
     "output_type": "execute_result"
    }
   ],
   "source": [
    "with open(JSON_PATH + \"[라벨]모낭사이홍반_0.양호/0013_A2LEBJJDE00060O_1606550825417_3_TH.json\", \"r\", encoding=\"utf8\") as f: \n",
    "    contents = f.read()\n",
    "    json_data = json.loads(contents)\n",
    "list(json_data.values())"
   ]
  },
  {
   "cell_type": "code",
   "execution_count": 78,
   "id": "6b17ec51",
   "metadata": {},
   "outputs": [],
   "source": [
    "json_list = []\n",
    "for di in train_label:\n",
    "    file_name = os.listdir(JSON_PATH + di)\n",
    "    for i in file_name:        \n",
    "        with open(JSON_PATH + di + '/' + i, \"r\", encoding=\"utf8\") as f: \n",
    "            contents = f.read()\n",
    "            json_data = json.loads(contents)\n",
    "            json_list.append(list(json_data.values()))"
   ]
  },
  {
   "cell_type": "code",
   "execution_count": 113,
   "id": "a89c020b",
   "metadata": {},
   "outputs": [
    {
     "data": {
      "text/html": [
       "<div>\n",
       "<style scoped>\n",
       "    .dataframe tbody tr th:only-of-type {\n",
       "        vertical-align: middle;\n",
       "    }\n",
       "\n",
       "    .dataframe tbody tr th {\n",
       "        vertical-align: top;\n",
       "    }\n",
       "\n",
       "    .dataframe thead th {\n",
       "        text-align: right;\n",
       "    }\n",
       "</style>\n",
       "<table border=\"1\" class=\"dataframe\">\n",
       "  <thead>\n",
       "    <tr style=\"text-align: right;\">\n",
       "      <th></th>\n",
       "      <th>이미지 id</th>\n",
       "      <th>이미지 이름</th>\n",
       "      <th>모낭사이홍반</th>\n",
       "      <th>모낭홍반농포</th>\n",
       "      <th>미세각질</th>\n",
       "      <th>비듬</th>\n",
       "      <th>탈모</th>\n",
       "      <th>피지과다</th>\n",
       "    </tr>\n",
       "  </thead>\n",
       "  <tbody>\n",
       "    <tr>\n",
       "      <th>0</th>\n",
       "      <td>0013_A2LEBJJDE00060O_1606550825417_3</td>\n",
       "      <td>0013_A2LEBJJDE00060O_1606550825417_3_TH.jpg</td>\n",
       "      <td>0</td>\n",
       "      <td>0</td>\n",
       "      <td>0</td>\n",
       "      <td>0</td>\n",
       "      <td>0</td>\n",
       "      <td>0</td>\n",
       "    </tr>\n",
       "    <tr>\n",
       "      <th>1</th>\n",
       "      <td>0177_A2LEBJJDE00152B_1604650530904_6</td>\n",
       "      <td>0177_A2LEBJJDE00152B_1604650530904_6_BH.jpg</td>\n",
       "      <td>0</td>\n",
       "      <td>0</td>\n",
       "      <td>0</td>\n",
       "      <td>0</td>\n",
       "      <td>0</td>\n",
       "      <td>0</td>\n",
       "    </tr>\n",
       "    <tr>\n",
       "      <th>2</th>\n",
       "      <td>0335_A2LEBJJDE00013X_1602916465540_6</td>\n",
       "      <td>0335_A2LEBJJDE00013X_1602916465540_6_BH.jpg</td>\n",
       "      <td>0</td>\n",
       "      <td>0</td>\n",
       "      <td>0</td>\n",
       "      <td>0</td>\n",
       "      <td>0</td>\n",
       "      <td>0</td>\n",
       "    </tr>\n",
       "    <tr>\n",
       "      <th>3</th>\n",
       "      <td>0335_A2LEBJJDE000542_1605676381132_4</td>\n",
       "      <td>0335_A2LEBJJDE000542_1605676381132_4_LH.jpg</td>\n",
       "      <td>0</td>\n",
       "      <td>0</td>\n",
       "      <td>0</td>\n",
       "      <td>0</td>\n",
       "      <td>0</td>\n",
       "      <td>0</td>\n",
       "    </tr>\n",
       "    <tr>\n",
       "      <th>4</th>\n",
       "      <td>0425_A2LEBJJDE00079P_1605793927978_5</td>\n",
       "      <td>0425_A2LEBJJDE00079P_1605793927978_5_RH.jpg</td>\n",
       "      <td>0</td>\n",
       "      <td>0</td>\n",
       "      <td>0</td>\n",
       "      <td>0</td>\n",
       "      <td>0</td>\n",
       "      <td>0</td>\n",
       "    </tr>\n",
       "    <tr>\n",
       "      <th>...</th>\n",
       "      <td>...</td>\n",
       "      <td>...</td>\n",
       "      <td>...</td>\n",
       "      <td>...</td>\n",
       "      <td>...</td>\n",
       "      <td>...</td>\n",
       "      <td>...</td>\n",
       "      <td>...</td>\n",
       "    </tr>\n",
       "    <tr>\n",
       "      <th>138462</th>\n",
       "      <td>9905_A2LEBJJDE00042M_1604479719335_2</td>\n",
       "      <td>9905_A2LEBJJDE00042M_1604479719335_2_TH.jpg</td>\n",
       "      <td>0</td>\n",
       "      <td>3</td>\n",
       "      <td>0</td>\n",
       "      <td>0</td>\n",
       "      <td>0</td>\n",
       "      <td>0</td>\n",
       "    </tr>\n",
       "    <tr>\n",
       "      <th>138463</th>\n",
       "      <td>9905_A2LEBJJDE00042M_1605325854091_2</td>\n",
       "      <td>9905_A2LEBJJDE00042M_1605325854091_2_TH.jpg</td>\n",
       "      <td>0</td>\n",
       "      <td>3</td>\n",
       "      <td>0</td>\n",
       "      <td>0</td>\n",
       "      <td>0</td>\n",
       "      <td>0</td>\n",
       "    </tr>\n",
       "    <tr>\n",
       "      <th>138464</th>\n",
       "      <td>9905_A2LEBJJDE00042M_1605410025119_3</td>\n",
       "      <td>9905_A2LEBJJDE00042M_1605410025119_3_TH.jpg</td>\n",
       "      <td>0</td>\n",
       "      <td>3</td>\n",
       "      <td>1</td>\n",
       "      <td>0</td>\n",
       "      <td>2</td>\n",
       "      <td>0</td>\n",
       "    </tr>\n",
       "    <tr>\n",
       "      <th>138465</th>\n",
       "      <td>9905_A2LEBJJDE00042M_1605410025119_4</td>\n",
       "      <td>9905_A2LEBJJDE00042M_1605410025119_4_LH.jpg</td>\n",
       "      <td>0</td>\n",
       "      <td>3</td>\n",
       "      <td>1</td>\n",
       "      <td>0</td>\n",
       "      <td>3</td>\n",
       "      <td>0</td>\n",
       "    </tr>\n",
       "    <tr>\n",
       "      <th>138466</th>\n",
       "      <td>9905_A2LEBJJDE00042M_1605410025119_5</td>\n",
       "      <td>9905_A2LEBJJDE00042M_1605410025119_5_RH.jpg</td>\n",
       "      <td>0</td>\n",
       "      <td>3</td>\n",
       "      <td>2</td>\n",
       "      <td>0</td>\n",
       "      <td>2</td>\n",
       "      <td>0</td>\n",
       "    </tr>\n",
       "  </tbody>\n",
       "</table>\n",
       "<p>138467 rows × 8 columns</p>\n",
       "</div>"
      ],
      "text/plain": [
       "                                      이미지 id  \\\n",
       "0       0013_A2LEBJJDE00060O_1606550825417_3   \n",
       "1       0177_A2LEBJJDE00152B_1604650530904_6   \n",
       "2       0335_A2LEBJJDE00013X_1602916465540_6   \n",
       "3       0335_A2LEBJJDE000542_1605676381132_4   \n",
       "4       0425_A2LEBJJDE00079P_1605793927978_5   \n",
       "...                                      ...   \n",
       "138462  9905_A2LEBJJDE00042M_1604479719335_2   \n",
       "138463  9905_A2LEBJJDE00042M_1605325854091_2   \n",
       "138464  9905_A2LEBJJDE00042M_1605410025119_3   \n",
       "138465  9905_A2LEBJJDE00042M_1605410025119_4   \n",
       "138466  9905_A2LEBJJDE00042M_1605410025119_5   \n",
       "\n",
       "                                             이미지 이름 모낭사이홍반 모낭홍반농포 미세각질 비듬 탈모  \\\n",
       "0       0013_A2LEBJJDE00060O_1606550825417_3_TH.jpg      0      0    0  0  0   \n",
       "1       0177_A2LEBJJDE00152B_1604650530904_6_BH.jpg      0      0    0  0  0   \n",
       "2       0335_A2LEBJJDE00013X_1602916465540_6_BH.jpg      0      0    0  0  0   \n",
       "3       0335_A2LEBJJDE000542_1605676381132_4_LH.jpg      0      0    0  0  0   \n",
       "4       0425_A2LEBJJDE00079P_1605793927978_5_RH.jpg      0      0    0  0  0   \n",
       "...                                             ...    ...    ...  ... .. ..   \n",
       "138462  9905_A2LEBJJDE00042M_1604479719335_2_TH.jpg      0      3    0  0  0   \n",
       "138463  9905_A2LEBJJDE00042M_1605325854091_2_TH.jpg      0      3    0  0  0   \n",
       "138464  9905_A2LEBJJDE00042M_1605410025119_3_TH.jpg      0      3    1  0  2   \n",
       "138465  9905_A2LEBJJDE00042M_1605410025119_4_LH.jpg      0      3    1  0  3   \n",
       "138466  9905_A2LEBJJDE00042M_1605410025119_5_RH.jpg      0      3    2  0  2   \n",
       "\n",
       "       피지과다  \n",
       "0         0  \n",
       "1         0  \n",
       "2         0  \n",
       "3         0  \n",
       "4         0  \n",
       "...     ...  \n",
       "138462    0  \n",
       "138463    0  \n",
       "138464    0  \n",
       "138465    0  \n",
       "138466    0  \n",
       "\n",
       "[138467 rows x 8 columns]"
      ]
     },
     "execution_count": 113,
     "metadata": {},
     "output_type": "execute_result"
    }
   ],
   "source": [
    "a = np.array(json_list)\n",
    "data = pd.DataFrame(a, columns=['이미지 id', '이미지 이름', '모낭사이홍반', '모낭홍반농포', '미세각질', '비듬', '탈모', '피지과다'])\n",
    "data"
   ]
  },
  {
   "cell_type": "markdown",
   "id": "700d25b8",
   "metadata": {},
   "source": [
    "### 데이터 분류 및 학습준비"
   ]
  },
  {
   "cell_type": "code",
   "execution_count": 115,
   "id": "95efd93e",
   "metadata": {},
   "outputs": [],
   "source": [
    "# , stratify=data['낭사이홍반', '모낭홍반농포', '미세각질', '비듬', '탈모', '피지과다']\n",
    "train_df, test_df = train_test_split(data, test_size=0.2, random_state=42)\n"
   ]
  },
  {
   "cell_type": "code",
   "execution_count": 116,
   "id": "e7f84a3b",
   "metadata": {},
   "outputs": [],
   "source": [
    "# , stratify=train_df['낭사이홍반', '모낭홍반농포', '미세각질', '비듬', '탈모', '피지과다']\n",
    "train_df, val_df = train_test_split(train_df, test_size=0.2, random_state=42)"
   ]
  },
  {
   "cell_type": "code",
   "execution_count": 118,
   "id": "ccd9acd0",
   "metadata": {},
   "outputs": [
    {
     "name": "stdout",
     "output_type": "stream",
     "text": [
      "Train set rows: 88618\n",
      "Test  set rows: 27694\n",
      "Val   set rows: 22155\n"
     ]
    }
   ],
   "source": [
    "print(\"Train set rows: {}\".format(train_df.shape[0]))\n",
    "print(\"Test  set rows: {}\".format(test_df.shape[0]))\n",
    "print(\"Val   set rows: {}\".format(val_df.shape[0]))"
   ]
  },
  {
   "cell_type": "code",
   "execution_count": 130,
   "id": "8febb0e2",
   "metadata": {},
   "outputs": [],
   "source": [
    "def read_image(file_name):\n",
    "    try:\n",
    "        image = skimage.io.imread(IMAGE_PATH + file_name)\n",
    "    except:\n",
    "        return ''\n",
    "    else: \n",
    "        image = skimage.io.imread(IMAGE_PATH + file_name)\n",
    "        image = skimage.transform.resize(image, (IMAGE_WIDTH, IMAGE_HEIGHT), mode='reflect')\n",
    "    return image[:,:,:IMAGE_CHANNELS]"
   ]
  },
  {
   "cell_type": "code",
   "execution_count": 133,
   "id": "fb8c285f",
   "metadata": {},
   "outputs": [],
   "source": [
    "def categories_encoder(dataset):\n",
    "    X = np.stack(dataset['이미지 이름'].apply(read_image))\n",
    "    y = dataset[['낭사이홍반', '모낭홍반농포', '미세각질', '비듬', '탈모', '피지과다']]\n",
    "    return X, y\n"
   ]
  },
  {
   "cell_type": "code",
   "execution_count": null,
   "id": "f5911e93",
   "metadata": {},
   "outputs": [],
   "source": [
    "X_train, y_train = categories_encoder(train_df)\n",
    "X_val, y_val = categories_encoder(val_df)\n",
    "X_test, y_test = categories_encoder(test_df)"
   ]
  },
  {
   "cell_type": "markdown",
   "id": "7648c282",
   "metadata": {},
   "source": [
    "### 모델 생성"
   ]
  },
  {
   "cell_type": "code",
   "execution_count": 25,
   "id": "f371394a",
   "metadata": {},
   "outputs": [
    {
     "ename": "NameError",
     "evalue": "name 'n_class' is not defined",
     "output_type": "error",
     "traceback": [
      "\u001b[1;31m---------------------------------------------------------------------------\u001b[0m",
      "\u001b[1;31mNameError\u001b[0m                                 Traceback (most recent call last)",
      "\u001b[1;32m~\\AppData\\Local\\Temp\\ipykernel_1572\\1259394545.py\u001b[0m in \u001b[0;36m<module>\u001b[1;34m\u001b[0m\n\u001b[0;32m     27\u001b[0m \u001b[1;31m# dense layers\u001b[0m\u001b[1;33m\u001b[0m\u001b[1;33m\u001b[0m\u001b[0m\n\u001b[0;32m     28\u001b[0m \u001b[0mmodel\u001b[0m\u001b[1;33m.\u001b[0m\u001b[0madd\u001b[0m\u001b[1;33m(\u001b[0m\u001b[0mtf\u001b[0m\u001b[1;33m.\u001b[0m\u001b[0mkeras\u001b[0m\u001b[1;33m.\u001b[0m\u001b[0mlayers\u001b[0m\u001b[1;33m.\u001b[0m\u001b[0mFlatten\u001b[0m\u001b[1;33m(\u001b[0m\u001b[1;33m)\u001b[0m\u001b[1;33m)\u001b[0m\u001b[1;33m\u001b[0m\u001b[1;33m\u001b[0m\u001b[0m\n\u001b[1;32m---> 29\u001b[1;33m \u001b[0mmodel\u001b[0m\u001b[1;33m.\u001b[0m\u001b[0madd\u001b[0m\u001b[1;33m(\u001b[0m\u001b[0mtf\u001b[0m\u001b[1;33m.\u001b[0m\u001b[0mkeras\u001b[0m\u001b[1;33m.\u001b[0m\u001b[0mlayers\u001b[0m\u001b[1;33m.\u001b[0m\u001b[0mDense\u001b[0m\u001b[1;33m(\u001b[0m\u001b[0mn_class\u001b[0m\u001b[1;33m,\u001b[0m \u001b[0mactivation\u001b[0m\u001b[1;33m=\u001b[0m\u001b[1;34m'softmax'\u001b[0m\u001b[1;33m)\u001b[0m\u001b[1;33m)\u001b[0m\u001b[1;33m\u001b[0m\u001b[1;33m\u001b[0m\u001b[0m\n\u001b[0m\u001b[0;32m     30\u001b[0m \u001b[1;33m\u001b[0m\u001b[0m\n\u001b[0;32m     31\u001b[0m \u001b[0mmodel\u001b[0m\u001b[1;33m.\u001b[0m\u001b[0msummary\u001b[0m\u001b[1;33m(\u001b[0m\u001b[1;33m)\u001b[0m\u001b[1;33m\u001b[0m\u001b[1;33m\u001b[0m\u001b[0m\n",
      "\u001b[1;31mNameError\u001b[0m: name 'n_class' is not defined"
     ]
    }
   ],
   "source": [
    "# n_class = len(cls)\n",
    "# model = tf.keras.models.Sequential()\n",
    "# model.add(tf.keras.applications.densenet.DenseNet121(\n",
    "#     weights=\"imagenet\", \n",
    "#     include_top=False, \n",
    "#     input_shape=(64, 64, 3)\n",
    "#     ))\n",
    "# model.add(tf.keras.layers.Flatten(name='flatten'))\n",
    "# model.add(tf.keras.layers.Dense(1024, activation='relu'))\n",
    "# model.add(tf.keras.layers.BatchNormalization())\n",
    "# model.add(tf.keras.layers.Dense(y_train.columns.size, activation='softmax'))\n",
    "\n",
    "# model.summary()\n",
    "model = tf.keras.models.Sequential()\n",
    "# conv 1\n",
    "model.add(tf.keras.layers.Conv2D(64,3,padding='same',activation='relu',input_shape=(IMG_SIZE,IMG_SIZE,3)))\n",
    "model.add(tf.keras.layers.Dropout(rate=0.5))                          #  DO1\n",
    "model.add(tf.keras.layers.MaxPool2D(pool_size=2, strides=2))\n",
    "# conv 2\n",
    "model.add(tf.keras.layers.Conv2D(64, 3, padding='same', activation='relu'))\n",
    "model.add(tf.keras.layers.Dropout(rate=0.5))                          # DO2\n",
    "model.add(tf.keras.layers.MaxPool2D(pool_size=2, strides=2))\n",
    "# conv 3\n",
    "model.add(tf.keras.layers.Conv2D(64, 3, padding='same', activation='relu'))\n",
    "model.add(tf.keras.layers.Dropout(rate=0.5))                           # DO3\n",
    "model.add(tf.keras.layers.MaxPool2D(pool_size=2, strides=2))\n",
    "# dense layers\n",
    "model.add(tf.keras.layers.Flatten())\n",
    "model.add(tf.keras.layers.Dense(n_class, activation='softmax'))\n",
    "\n",
    "model.summary()"
   ]
  },
  {
   "cell_type": "code",
   "execution_count": null,
   "id": "a364e55c",
   "metadata": {},
   "outputs": [],
   "source": [
    "model.compile(optimizer='adam',\n",
    "              loss='categorical_crossentropy',\n",
    "              metrics=['accuracy'])"
   ]
  },
  {
   "cell_type": "code",
   "execution_count": null,
   "id": "d5ea46c7",
   "metadata": {},
   "outputs": [],
   "source": [
    "image_generator = ImageDataGenerator(\n",
    "        featurewise_center=False,\n",
    "        samplewise_center=False,\n",
    "        featurewise_std_normalization=False,\n",
    "        samplewise_std_normalization=False,\n",
    "        zca_whitening=False,\n",
    "        rotation_range=180,\n",
    "        zoom_range = 0.1, \n",
    "        width_shift_range=0.1,\n",
    "        height_shift_range=0.1, \n",
    "        horizontal_flip=True,\n",
    "        vertical_flip=True)\n",
    "image_generator.fit(X_train)"
   ]
  },
  {
   "cell_type": "markdown",
   "id": "0faf98df",
   "metadata": {},
   "source": [
    "### 모델 학습"
   ]
  },
  {
   "cell_type": "code",
   "execution_count": 156,
   "id": "2eec8c16",
   "metadata": {},
   "outputs": [
    {
     "name": "stdout",
     "output_type": "stream",
     "text": [
      "Epoch 1/3\n",
      "193/193 [==============================] - 157s 752ms/step - loss: 0.8104 - accuracy: 0.7426 - val_loss: 1.8085 - val_accuracy: 0.5865\n",
      "Epoch 2/3\n",
      "193/193 [==============================] - 135s 697ms/step - loss: 0.4114 - accuracy: 0.8379 - val_loss: 1.3461 - val_accuracy: 0.7159\n",
      "Epoch 3/3\n",
      "193/193 [==============================] - 135s 701ms/step - loss: 0.4227 - accuracy: 0.8449 - val_loss: 1.2048 - val_accuracy: 0.6964\n",
      "Wall time: 7min 6s\n"
     ]
    }
   ],
   "source": [
    "%%time \n",
    "#한 번만 수행하지만 CPU 수행 시간과 실제 시간을 같이 출력합니다. %%time\n",
    "from keras.callbacks import EarlyStopping \n",
    "early_stopping = EarlyStopping(patience = 10)\n",
    "train_model1 = model.fit(X_train, y_train, epochs=3,\n",
    "                            validation_data=(X_val, y_val))\n",
    "# train_model1  = model.fit_generator(image_generator.flow(X_train, y_train),\n",
    "#                         epochs=4,\n",
    "#                         validation_data=[X_val, y_val],\n",
    "#                         callbacks = [early_stopping])"
   ]
  },
  {
   "cell_type": "code",
   "execution_count": 161,
   "id": "3c764882",
   "metadata": {},
   "outputs": [
    {
     "name": "stdout",
     "output_type": "stream",
     "text": [
      "Test loss: 1.2903856039047241\n",
      "Test accuracy: 0.6796671748161316\n"
     ]
    }
   ],
   "source": [
    "score = model.evaluate(X_test, y_test, verbose=0)\n",
    "print('Test loss:', score[0])\n",
    "print('Test accuracy:', score[1])"
   ]
  },
  {
   "cell_type": "code",
   "execution_count": 162,
   "id": "72243dbe",
   "metadata": {},
   "outputs": [
    {
     "data": {
      "image/png": "[encoded data removed]",
      "text/plain": [
       "<Figure size 1200x500 with 2 Axes>"
      ]
     },
     "metadata": {},
     "output_type": "display_data"
    }
   ],
   "source": [
    "loss = train_model1.history['loss']\n",
    "epochs = range(1, len(loss)+1)\n",
    "\n",
    "plt.figure(figsize=(12, 5))\n",
    "plt.subplot(1, 2, 1)\n",
    "plt.title('Loss')\n",
    "plt.plot(epochs, train_model1.history['loss'], 'b', label='train_loss')\n",
    "plt.plot(epochs, train_model1.history['val_loss'], 'g', label='val_loss')\n",
    "\n",
    "plt.grid(True)\n",
    "plt.xlabel('Epoch')\n",
    "plt.ylabel('Loss')\n",
    "plt.legend(loc='best')\n",
    "\n",
    "plt.subplot(1, 2, 2)\n",
    "plt.title('Accuray')\n",
    "plt.plot(epochs, train_model1.history['accuracy'], 'b', label='train_accuracy')\n",
    "plt.plot(epochs, train_model1.history['val_accuracy'], 'g', label='val_accuracy')\n",
    "\n",
    "plt.grid(True)\n",
    "plt.ylabel('Accuracy')\n",
    "plt.legend(loc='best')\n",
    "plt.show()"
   ]
  },
  {
   "cell_type": "code",
   "execution_count": 163,
   "id": "a9844272",
   "metadata": {},
   "outputs": [],
   "source": [
    "def test_accuracy_report(model):\n",
    "    predicted = model.predict(X_test)\n",
    "    test_predicted = np.argmax(predicted, axis=1)\n",
    "    test_truth = np.argmax(y_test.values, axis=1)\n",
    "    print(metrics.classification_report(test_truth, test_predicted, target_names=y_test.columns)) \n",
    "    test_res = model.evaluate(X_test, y_test.values, verbose=0)\n",
    "    print('Loss function: %s, accuracy:' % test_res[0], test_res[1])"
   ]
  },
  {
   "cell_type": "code",
   "execution_count": 164,
   "id": "72f16b16",
   "metadata": {},
   "outputs": [
    {
     "name": "stdout",
     "output_type": "stream",
     "text": [
      "61/61 [==============================] - 7s 114ms/step\n",
      "                          precision    recall  f1-score   support\n",
      "\n",
      "                 뉴에르도테캡슐       0.41      0.49      0.44        65\n",
      "           듀카브정30/10밀리그램       1.00      0.65      0.79       259\n",
      "            듀카브정30/5밀리그램       0.97      0.77      0.86       259\n",
      "                  라노펜세미정       1.00      0.74      0.85        43\n",
      "   락토엔큐캡슐(바실루스리케니포르미스균)        0.32      0.66      0.43        65\n",
      "   루키오정10밀리그램(몬테루카스트나트륨)       1.00      1.00      1.00       260\n",
      "             리셀톤캡슐 6.0mg       0.47      1.00      0.64        65\n",
      "             리프레가캡슐 75mg       1.00      0.71      0.83        65\n",
      "           뮤코원캡슐(에르도스테인)       0.37      0.65      0.47        65\n",
      "                바실리포미스캡슐       0.55      0.45      0.49        65\n",
      "              베아로탄정 50mg       1.00      0.28      0.44        43\n",
      "                   베아투스정       1.00      0.26      0.41        43\n",
      "   비오메틱스캡슐(바실루스리케니포르미스균)       0.84      0.86      0.85        65\n",
      "            비우미정 500mg/병       1.00      1.00      1.00        43\n",
      "            아나그레캡슐 0.5mg       0.00      0.00      0.00        65\n",
      "앤도민300프리미엄연질캡슐 300mg/PTP       1.00      0.09      0.17        65\n",
      "                   에피나레정       0.00      0.00      0.00        43\n",
      "             엘도민캡슐 300mg       0.26      0.71      0.38        65\n",
      "          엘도스인캡슐(에르도스테인)       0.00      0.00      0.00        65\n",
      "               크라틴정 10mg       1.00      1.00      1.00        43\n",
      "               크라틴정 20mg       1.00      1.00      1.00        43\n",
      "                크라틴정 5mg       0.30      1.00      0.46        43\n",
      "                   티아프란정       0.43      1.00      0.60        43\n",
      "               피타로틴정 2mg       1.00      1.00      1.00        43\n",
      "\n",
      "                accuracy                           0.68      1923\n",
      "               macro avg       0.66      0.64      0.59      1923\n",
      "            weighted avg       0.75      0.68      0.67      1923\n",
      "\n",
      "Loss function: 1.2903856039047241, accuracy: 0.6796671748161316\n"
     ]
    }
   ],
   "source": [
    "test_accuracy_report(model)"
   ]
  },
  {
   "cell_type": "markdown",
   "id": "7482d4f8",
   "metadata": {},
   "source": [
    "## 데이터 양 균일화 후 학습"
   ]
  },
  {
   "cell_type": "code",
   "execution_count": 59,
   "id": "9e481fc1",
   "metadata": {},
   "outputs": [],
   "source": [
    "train_df2, test_df2 = train_test_split(df4, test_size=0.2, random_state=42, stratify=df4['Medicine_Name'])"
   ]
  },
  {
   "cell_type": "code",
   "execution_count": 60,
   "id": "277c2a1d",
   "metadata": {},
   "outputs": [],
   "source": [
    "train_df2, val_df2 = train_test_split(train_df2, test_size=0.2, random_state=42, stratify=train_df2['Medicine_Name'])"
   ]
  },
  {
   "cell_type": "code",
   "execution_count": 61,
   "id": "6bb71297",
   "metadata": {},
   "outputs": [],
   "source": [
    "train_df2, val_df2 = train_test_split(train_df2, test_size=0.2, random_state=42, stratify=train_df2['Medicine_Name'])"
   ]
  },
  {
   "cell_type": "code",
   "execution_count": 62,
   "id": "beee20fe",
   "metadata": {},
   "outputs": [],
   "source": [
    "X_train2, y_train2 = categories_encoder(train_df2)\n",
    "X_val2, y_val2 = categories_encoder(val_df2)\n",
    "X_test2, y_test2 = categories_encoder(test_df2)"
   ]
  },
  {
   "cell_type": "code",
   "execution_count": 82,
   "id": "8b3efc4f",
   "metadata": {},
   "outputs": [
    {
     "name": "stdout",
     "output_type": "stream",
     "text": [
      "Model: \"sequential_7\"\n",
      "_________________________________________________________________\n",
      " Layer (type)                Output Shape              Param #   \n",
      "=================================================================\n",
      " densenet121 (Functional)    (None, 2, 2, 1024)        7037504   \n",
      "                                                                 \n",
      " flatten (Flatten)           (None, 4096)              0         \n",
      "                                                                 \n",
      " dense_12 (Dense)            (None, 1024)              4195328   \n",
      "                                                                 \n",
      " batch_normalization_6 (Batc  (None, 1024)             4096      \n",
      " hNormalization)                                                 \n",
      "                                                                 \n",
      " dense_13 (Dense)            (None, 21)                21525     \n",
      "                                                                 \n",
      "=================================================================\n",
      "Total params: 11,258,453\n",
      "Trainable params: 11,172,757\n",
      "Non-trainable params: 85,696\n",
      "_________________________________________________________________\n"
     ]
    }
   ],
   "source": [
    "\n",
    "model2 = tf.keras.models.Sequential()\n",
    "model2.add(tf.keras.applications.densenet.DenseNet121(\n",
    "    weights=\"imagenet\", \n",
    "    include_top=False, \n",
    "    input_shape=(64, 64, 3)\n",
    "    ))\n",
    "model2.add(tf.keras.layers.Flatten(name='flatten'))\n",
    "model2.add(tf.keras.layers.Dense(1024, activation='relu'))\n",
    "model2.add(tf.keras.layers.BatchNormalization())\n",
    "model2.add(tf.keras.layers.Dense(y_train2.columns.size, activation='softmax'))\n",
    "\n",
    "model2.summary()"
   ]
  },
  {
   "cell_type": "code",
   "execution_count": 83,
   "id": "b18d2fde",
   "metadata": {},
   "outputs": [],
   "source": [
    "model2.compile(optimizer='adam',\n",
    "              loss='categorical_crossentropy',\n",
    "              metrics=['accuracy'])"
   ]
  },
  {
   "cell_type": "code",
   "execution_count": 84,
   "id": "b86e3386",
   "metadata": {},
   "outputs": [
    {
     "name": "stdout",
     "output_type": "stream",
     "text": [
      "Epoch 1/10\n",
      "92/92 [==============================] - 74s 670ms/step - loss: 1.1823 - accuracy: 0.6253 - val_loss: 9.0913 - val_accuracy: 0.2647\n",
      "Epoch 2/10\n",
      "92/92 [==============================] - 60s 653ms/step - loss: 0.6412 - accuracy: 0.7369 - val_loss: 3.3744 - val_accuracy: 0.4775\n",
      "Epoch 3/10\n",
      "92/92 [==============================] - 58s 625ms/step - loss: 0.3962 - accuracy: 0.8222 - val_loss: 1.1690 - val_accuracy: 0.6849\n",
      "Epoch 4/10\n",
      "92/92 [==============================] - 58s 628ms/step - loss: 0.3538 - accuracy: 0.8471 - val_loss: 0.9769 - val_accuracy: 0.7312\n",
      "Epoch 5/10\n",
      "92/92 [==============================] - 58s 637ms/step - loss: 0.3023 - accuracy: 0.8522 - val_loss: 0.8211 - val_accuracy: 0.7613\n",
      "Epoch 6/10\n",
      "92/92 [==============================] - 57s 617ms/step - loss: 0.3513 - accuracy: 0.8491 - val_loss: 1.4103 - val_accuracy: 0.6698\n",
      "Epoch 7/10\n",
      "92/92 [==============================] - 63s 683ms/step - loss: 0.3735 - accuracy: 0.8430 - val_loss: 0.7656 - val_accuracy: 0.7640\n",
      "Epoch 8/10\n",
      "92/92 [==============================] - 61s 666ms/step - loss: 0.3017 - accuracy: 0.8526 - val_loss: 1.8531 - val_accuracy: 0.7231\n",
      "Epoch 9/10\n",
      "92/92 [==============================] - 59s 640ms/step - loss: 0.2846 - accuracy: 0.8611 - val_loss: 1.5349 - val_accuracy: 0.7353\n",
      "Epoch 10/10\n",
      "92/92 [==============================] - 61s 661ms/step - loss: 0.3030 - accuracy: 0.8625 - val_loss: 0.3167 - val_accuracy: 0.8458\n",
      "Wall time: 10min 9s\n"
     ]
    }
   ],
   "source": [
    "%%time \n",
    "#한 번만 수행하지만 CPU 수행 시간과 실제 시간을 같이 출력합니다. %%time\n",
    "\n",
    "\n",
    "train_model2  = model2.fit(X_train2, y_train2, epochs=10,\n",
    "                           validation_data=(X_val2, y_val2),\n",
    "                           callbacks = [early_stopping])"
   ]
  },
  {
   "cell_type": "code",
   "execution_count": 142,
   "id": "0e52a79f",
   "metadata": {},
   "outputs": [
    {
     "name": "stdout",
     "output_type": "stream",
     "text": [
      "Test loss: 0.3430149257183075\n",
      "Test accuracy: 0.8419213891029358\n"
     ]
    }
   ],
   "source": [
    "score2 = model2.evaluate(X_test2, y_test2, verbose=0)\n",
    "print('Test loss:', score2[0])\n",
    "print('Test accuracy:', score2[1])"
   ]
  },
  {
   "cell_type": "code",
   "execution_count": 102,
   "id": "edd1904f",
   "metadata": {},
   "outputs": [
    {
     "data": {
      "image/png": "[encoded data removed]",
      "text/plain": [
       "<Figure size 1200x500 with 2 Axes>"
      ]
     },
     "metadata": {},
     "output_type": "display_data"
    }
   ],
   "source": [
    "loss = train_model2.history['loss']\n",
    "epochs = range(1, len(loss)+1)\n",
    "\n",
    "plt.figure(figsize=(12, 5))\n",
    "plt.subplot(1, 2, 1)\n",
    "plt.title('Loss')\n",
    "plt.plot(epochs, train_model2.history['loss'], 'b', label='train_loss')\n",
    "plt.plot(epochs, train_model2.history['val_loss'], 'g', label='val_loss')\n",
    "plt.grid(True)\n",
    "plt.xlabel('Epoch')\n",
    "plt.ylabel('Loss')\n",
    "plt.legend(loc='best')\n",
    "\n",
    "plt.subplot(1, 2, 2)\n",
    "plt.title('Accuray')\n",
    "plt.plot(epochs, train_model2.history['accuracy'], 'b', label='train_accuracy')\n",
    "plt.plot(epochs, train_model2.history['val_accuracy'], 'g', label='val_accuracy')\n",
    "plt.grid(True)\n",
    "plt.ylabel('Accuracy')\n",
    "plt.legend(loc='best')\n",
    "plt.show()"
   ]
  },
  {
   "cell_type": "code",
   "execution_count": 106,
   "id": "27ab13d1",
   "metadata": {},
   "outputs": [],
   "source": [
    "def test_accuracy_report2(model2):\n",
    "    predicted = model2.predict(X_test2)\n",
    "    test_predicted = np.argmax(predicted, axis=1)\n",
    "    test_truth = np.argmax(y_test2.values, axis=1)\n",
    "    print(metrics.classification_report(test_truth, test_predicted, target_names=y_test2.columns)) \n",
    "    test_res = model2.evaluate(X_test2, y_test2.values, verbose=0)\n",
    "    print('Loss function: %s, accuracy:' % test_res[0], test_res[1])"
   ]
  },
  {
   "cell_type": "code",
   "execution_count": 107,
   "id": "8bf5527a",
   "metadata": {},
   "outputs": [
    {
     "name": "stdout",
     "output_type": "stream",
     "text": [
      "36/36 [==============================] - 6s 104ms/step\n",
      "                          precision    recall  f1-score   support\n",
      "\n",
      "                 뉴에르도테캡슐       1.00      0.66      0.80        65\n",
      "                  라노펜세미정       1.00      0.77      0.87        43\n",
      "   락토엔큐캡슐(바실루스리케니포르미스균)        0.00      0.00      0.00        65\n",
      "             리셀톤캡슐 6.0mg       0.97      1.00      0.98        65\n",
      "             리프레가캡슐 75mg       1.00      1.00      1.00        65\n",
      "           뮤코원캡슐(에르도스테인)       0.70      0.22      0.33        65\n",
      "                바실리포미스캡슐       0.49      1.00      0.66        65\n",
      "              베아로탄정 50mg       1.00      1.00      1.00        43\n",
      "                   베아투스정       1.00      1.00      1.00        43\n",
      "   비오메틱스캡슐(바실루스리케니포르미스균)       1.00      0.92      0.96        65\n",
      "            비우미정 500mg/병       1.00      1.00      1.00        43\n",
      "            아나그레캡슐 0.5mg       1.00      1.00      1.00        65\n",
      "앤도민300프리미엄연질캡슐 300mg/PTP       1.00      1.00      1.00        65\n",
      "                   에피나레정       0.74      0.98      0.84        43\n",
      "             엘도민캡슐 300mg       0.82      1.00      0.90        65\n",
      "          엘도스인캡슐(에르도스테인)       0.45      0.82      0.58        65\n",
      "               크라틴정 10mg       1.00      1.00      1.00        43\n",
      "               크라틴정 20mg       1.00      1.00      1.00        43\n",
      "                크라틴정 5mg       0.97      0.65      0.78        43\n",
      "                   티아프란정       1.00      1.00      1.00        43\n",
      "               피타로틴정 2mg       0.81      1.00      0.90        43\n",
      "\n",
      "                accuracy                           0.84      1145\n",
      "               macro avg       0.85      0.86      0.84      1145\n",
      "            weighted avg       0.84      0.84      0.82      1145\n",
      "\n",
      "Loss function: 0.3430149257183075, accuracy: 0.8419213891029358\n"
     ]
    }
   ],
   "source": [
    "test_accuracy_report2(model2)"
   ]
  },
  {
   "cell_type": "code",
   "execution_count": null,
   "id": "5ea4aced",
   "metadata": {},
   "outputs": [],
   "source": []
  }
 ],
 "metadata": {
  "kernelspec": {
   "display_name": "Python 3 (ipykernel)",
   "language": "python",
   "name": "python3"
  },
  "language_info": {
   "codemirror_mode": {
    "name": "ipython",
    "version": 3
   },
   "file_extension": ".py",
   "mimetype": "text/x-python",
   "name": "python",
   "nbconvert_exporter": "python",
   "pygments_lexer": "ipython3",
   "version": "3.9.15"
  }
 },
 "nbformat": 4,
 "nbformat_minor": 5
}
