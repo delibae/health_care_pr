{
  "nbformat": 4,
  "nbformat_minor": 0,
  "metadata": {
    "colab": {
      "provenance": [],
      "mount_file_id": "1aYRTNwJ-xMNLp-VWHBgaAIaNMrtO3hVu",
      "authorship_tag": "ABX9TyNB3HuctKQp3jVqF51JnkN7",
      "include_colab_link": true
    },
    "kernelspec": {
      "name": "python3",
      "display_name": "Python 3"
    },
    "language_info": {
      "name": "python"
    },
    "gpuClass": "standard"
  },
  "cells": [
    {
      "cell_type": "markdown",
      "metadata": {
        "id": "view-in-github",
        "colab_type": "text"
      },
      "source": [
        "<a href=\"https://colab.research.google.com/github/delibae/health_care_pr/blob/main/project5/%EB%B0%B0%ED%95%9C%EC%A7%84/diabetes.ipynb\" target=\"_parent\"><img src=\"https://colab.research.google.com/assets/colab-badge.svg\" alt=\"Open In Colab\"/></a>"
      ]
    },
    {
      "cell_type": "markdown",
      "source": [
        "# Import"
      ],
      "metadata": {
        "id": "j9jlI3ocjHxd"
      }
    },
    {
      "cell_type": "code",
      "execution_count": 1,
      "metadata": {
        "colab": {
          "base_uri": "https://localhost:8080/"
        },
        "id": "qBny8qE7i0q7",
        "outputId": "bb91f0af-fbcc-4dff-8d1e-808162180b5c"
      },
      "outputs": [
        {
          "output_type": "execute_result",
          "data": {
            "text/plain": [
              "<torch._C.Generator at 0x7f635f2859b0>"
            ]
          },
          "metadata": {},
          "execution_count": 1
        }
      ],
      "source": [
        "import pandas as pd\n",
        "import numpy as np\n",
        "\n",
        "# ML\n",
        "import torch\n",
        "import torchvision\n",
        "\n",
        "import torchvision.transforms as transforms\n",
        "from sklearn.model_selection import StratifiedKFold\n",
        "import torch.nn as nn\n",
        "import torch.nn.functional as F\n",
        "import torch.optim as optim\n",
        "from torch.utils.data import Dataset, DataLoader, random_split\n",
        "\n",
        "\n",
        "from sklearn.metrics import confusion_matrix\n",
        "import seaborn as sns\n",
        "\n",
        "import matplotlib.pyplot as plt\n",
        "torch.manual_seed(123)#"
      ]
    },
    {
      "cell_type": "markdown",
      "source": [
        "# Check Data"
      ],
      "metadata": {
        "id": "SoHX57FojJet"
      }
    },
    {
      "cell_type": "markdown",
      "source": [
        "## load data"
      ],
      "metadata": {
        "id": "lgGh4L33jOuN"
      }
    },
    {
      "cell_type": "code",
      "source": [
        "root_path = '/content/drive/MyDrive/data/diabetes/archive/'\n",
        "\n",
        "# image_data = np.load(root_path + 'ImageData.npy')\n",
        "# target = list(map(int,np.load(root_path + 'target.npy').tolist()))\n",
        "db = pd.read_csv(root_path + 'diabetes_012_health_indicators_BRFSS2015.csv')\n",
        "# diabetes_2 = pd.read_csv(root_path + 'diabetes_binary_5050split_health_indicators_BRFSS2015')\n",
        "# diabetes_3 = pd.read_csv(root_path + 'diabetes_binary_health_indicators_BRFSS2015.csv')\n",
        "db.head()"
      ],
      "metadata": {
        "colab": {
          "base_uri": "https://localhost:8080/",
          "height": 299
        },
        "id": "pSe1QZRJjNb5",
        "outputId": "93528680-8135-4463-bd7b-aa5cdd08ea3a"
      },
      "execution_count": 2,
      "outputs": [
        {
          "output_type": "execute_result",
          "data": {
            "text/plain": [
              "   Diabetes_012  HighBP  HighChol  CholCheck   BMI  Smoker  Stroke  \\\n",
              "0           0.0     1.0       1.0        1.0  40.0     1.0     0.0   \n",
              "1           0.0     0.0       0.0        0.0  25.0     1.0     0.0   \n",
              "2           0.0     1.0       1.0        1.0  28.0     0.0     0.0   \n",
              "3           0.0     1.0       0.0        1.0  27.0     0.0     0.0   \n",
              "4           0.0     1.0       1.0        1.0  24.0     0.0     0.0   \n",
              "\n",
              "   HeartDiseaseorAttack  PhysActivity  Fruits  ...  AnyHealthcare  \\\n",
              "0                   0.0           0.0     0.0  ...            1.0   \n",
              "1                   0.0           1.0     0.0  ...            0.0   \n",
              "2                   0.0           0.0     1.0  ...            1.0   \n",
              "3                   0.0           1.0     1.0  ...            1.0   \n",
              "4                   0.0           1.0     1.0  ...            1.0   \n",
              "\n",
              "   NoDocbcCost  GenHlth  MentHlth  PhysHlth  DiffWalk  Sex   Age  Education  \\\n",
              "0          0.0      5.0      18.0      15.0       1.0  0.0   9.0        4.0   \n",
              "1          1.0      3.0       0.0       0.0       0.0  0.0   7.0        6.0   \n",
              "2          1.0      5.0      30.0      30.0       1.0  0.0   9.0        4.0   \n",
              "3          0.0      2.0       0.0       0.0       0.0  0.0  11.0        3.0   \n",
              "4          0.0      2.0       3.0       0.0       0.0  0.0  11.0        5.0   \n",
              "\n",
              "   Income  \n",
              "0     3.0  \n",
              "1     1.0  \n",
              "2     8.0  \n",
              "3     6.0  \n",
              "4     4.0  \n",
              "\n",
              "[5 rows x 22 columns]"
            ],
            "text/html": [
              "\n",
              "  <div id=\"df-34cda760-2149-47cb-9331-bbdff49bf64b\">\n",
              "    <div class=\"colab-df-container\">\n",
              "      <div>\n",
              "<style scoped>\n",
              "    .dataframe tbody tr th:only-of-type {\n",
              "        vertical-align: middle;\n",
              "    }\n",
              "\n",
              "    .dataframe tbody tr th {\n",
              "        vertical-align: top;\n",
              "    }\n",
              "\n",
              "    .dataframe thead th {\n",
              "        text-align: right;\n",
              "    }\n",
              "</style>\n",
              "<table border=\"1\" class=\"dataframe\">\n",
              "  <thead>\n",
              "    <tr style=\"text-align: right;\">\n",
              "      <th></th>\n",
              "      <th>Diabetes_012</th>\n",
              "      <th>HighBP</th>\n",
              "      <th>HighChol</th>\n",
              "      <th>CholCheck</th>\n",
              "      <th>BMI</th>\n",
              "      <th>Smoker</th>\n",
              "      <th>Stroke</th>\n",
              "      <th>HeartDiseaseorAttack</th>\n",
              "      <th>PhysActivity</th>\n",
              "      <th>Fruits</th>\n",
              "      <th>...</th>\n",
              "      <th>AnyHealthcare</th>\n",
              "      <th>NoDocbcCost</th>\n",
              "      <th>GenHlth</th>\n",
              "      <th>MentHlth</th>\n",
              "      <th>PhysHlth</th>\n",
              "      <th>DiffWalk</th>\n",
              "      <th>Sex</th>\n",
              "      <th>Age</th>\n",
              "      <th>Education</th>\n",
              "      <th>Income</th>\n",
              "    </tr>\n",
              "  </thead>\n",
              "  <tbody>\n",
              "    <tr>\n",
              "      <th>0</th>\n",
              "      <td>0.0</td>\n",
              "      <td>1.0</td>\n",
              "      <td>1.0</td>\n",
              "      <td>1.0</td>\n",
              "      <td>40.0</td>\n",
              "      <td>1.0</td>\n",
              "      <td>0.0</td>\n",
              "      <td>0.0</td>\n",
              "      <td>0.0</td>\n",
              "      <td>0.0</td>\n",
              "      <td>...</td>\n",
              "      <td>1.0</td>\n",
              "      <td>0.0</td>\n",
              "      <td>5.0</td>\n",
              "      <td>18.0</td>\n",
              "      <td>15.0</td>\n",
              "      <td>1.0</td>\n",
              "      <td>0.0</td>\n",
              "      <td>9.0</td>\n",
              "      <td>4.0</td>\n",
              "      <td>3.0</td>\n",
              "    </tr>\n",
              "    <tr>\n",
              "      <th>1</th>\n",
              "      <td>0.0</td>\n",
              "      <td>0.0</td>\n",
              "      <td>0.0</td>\n",
              "      <td>0.0</td>\n",
              "      <td>25.0</td>\n",
              "      <td>1.0</td>\n",
              "      <td>0.0</td>\n",
              "      <td>0.0</td>\n",
              "      <td>1.0</td>\n",
              "      <td>0.0</td>\n",
              "      <td>...</td>\n",
              "      <td>0.0</td>\n",
              "      <td>1.0</td>\n",
              "      <td>3.0</td>\n",
              "      <td>0.0</td>\n",
              "      <td>0.0</td>\n",
              "      <td>0.0</td>\n",
              "      <td>0.0</td>\n",
              "      <td>7.0</td>\n",
              "      <td>6.0</td>\n",
              "      <td>1.0</td>\n",
              "    </tr>\n",
              "    <tr>\n",
              "      <th>2</th>\n",
              "      <td>0.0</td>\n",
              "      <td>1.0</td>\n",
              "      <td>1.0</td>\n",
              "      <td>1.0</td>\n",
              "      <td>28.0</td>\n",
              "      <td>0.0</td>\n",
              "      <td>0.0</td>\n",
              "      <td>0.0</td>\n",
              "      <td>0.0</td>\n",
              "      <td>1.0</td>\n",
              "      <td>...</td>\n",
              "      <td>1.0</td>\n",
              "      <td>1.0</td>\n",
              "      <td>5.0</td>\n",
              "      <td>30.0</td>\n",
              "      <td>30.0</td>\n",
              "      <td>1.0</td>\n",
              "      <td>0.0</td>\n",
              "      <td>9.0</td>\n",
              "      <td>4.0</td>\n",
              "      <td>8.0</td>\n",
              "    </tr>\n",
              "    <tr>\n",
              "      <th>3</th>\n",
              "      <td>0.0</td>\n",
              "      <td>1.0</td>\n",
              "      <td>0.0</td>\n",
              "      <td>1.0</td>\n",
              "      <td>27.0</td>\n",
              "      <td>0.0</td>\n",
              "      <td>0.0</td>\n",
              "      <td>0.0</td>\n",
              "      <td>1.0</td>\n",
              "      <td>1.0</td>\n",
              "      <td>...</td>\n",
              "      <td>1.0</td>\n",
              "      <td>0.0</td>\n",
              "      <td>2.0</td>\n",
              "      <td>0.0</td>\n",
              "      <td>0.0</td>\n",
              "      <td>0.0</td>\n",
              "      <td>0.0</td>\n",
              "      <td>11.0</td>\n",
              "      <td>3.0</td>\n",
              "      <td>6.0</td>\n",
              "    </tr>\n",
              "    <tr>\n",
              "      <th>4</th>\n",
              "      <td>0.0</td>\n",
              "      <td>1.0</td>\n",
              "      <td>1.0</td>\n",
              "      <td>1.0</td>\n",
              "      <td>24.0</td>\n",
              "      <td>0.0</td>\n",
              "      <td>0.0</td>\n",
              "      <td>0.0</td>\n",
              "      <td>1.0</td>\n",
              "      <td>1.0</td>\n",
              "      <td>...</td>\n",
              "      <td>1.0</td>\n",
              "      <td>0.0</td>\n",
              "      <td>2.0</td>\n",
              "      <td>3.0</td>\n",
              "      <td>0.0</td>\n",
              "      <td>0.0</td>\n",
              "      <td>0.0</td>\n",
              "      <td>11.0</td>\n",
              "      <td>5.0</td>\n",
              "      <td>4.0</td>\n",
              "    </tr>\n",
              "  </tbody>\n",
              "</table>\n",
              "<p>5 rows × 22 columns</p>\n",
              "</div>\n",
              "      <button class=\"colab-df-convert\" onclick=\"convertToInteractive('df-34cda760-2149-47cb-9331-bbdff49bf64b')\"\n",
              "              title=\"Convert this dataframe to an interactive table.\"\n",
              "              style=\"display:none;\">\n",
              "        \n",
              "  <svg xmlns=\"http://www.w3.org/2000/svg\" height=\"24px\"viewBox=\"0 0 24 24\"\n",
              "       width=\"24px\">\n",
              "    <path d=\"M0 0h24v24H0V0z\" fill=\"none\"/>\n",
              "    <path d=\"M18.56 5.44l.94 2.06.94-2.06 2.06-.94-2.06-.94-.94-2.06-.94 2.06-2.06.94zm-11 1L8.5 8.5l.94-2.06 2.06-.94-2.06-.94L8.5 2.5l-.94 2.06-2.06.94zm10 10l.94 2.06.94-2.06 2.06-.94-2.06-.94-.94-2.06-.94 2.06-2.06.94z\"/><path d=\"M17.41 7.96l-1.37-1.37c-.4-.4-.92-.59-1.43-.59-.52 0-1.04.2-1.43.59L10.3 9.45l-7.72 7.72c-.78.78-.78 2.05 0 2.83L4 21.41c.39.39.9.59 1.41.59.51 0 1.02-.2 1.41-.59l7.78-7.78 2.81-2.81c.8-.78.8-2.07 0-2.86zM5.41 20L4 18.59l7.72-7.72 1.47 1.35L5.41 20z\"/>\n",
              "  </svg>\n",
              "      </button>\n",
              "      \n",
              "  <style>\n",
              "    .colab-df-container {\n",
              "      display:flex;\n",
              "      flex-wrap:wrap;\n",
              "      gap: 12px;\n",
              "    }\n",
              "\n",
              "    .colab-df-convert {\n",
              "      background-color: #E8F0FE;\n",
              "      border: none;\n",
              "      border-radius: 50%;\n",
              "      cursor: pointer;\n",
              "      display: none;\n",
              "      fill: #1967D2;\n",
              "      height: 32px;\n",
              "      padding: 0 0 0 0;\n",
              "      width: 32px;\n",
              "    }\n",
              "\n",
              "    .colab-df-convert:hover {\n",
              "      background-color: #E2EBFA;\n",
              "      box-shadow: 0px 1px 2px rgba(60, 64, 67, 0.3), 0px 1px 3px 1px rgba(60, 64, 67, 0.15);\n",
              "      fill: #174EA6;\n",
              "    }\n",
              "\n",
              "    [theme=dark] .colab-df-convert {\n",
              "      background-color: #3B4455;\n",
              "      fill: #D2E3FC;\n",
              "    }\n",
              "\n",
              "    [theme=dark] .colab-df-convert:hover {\n",
              "      background-color: #434B5C;\n",
              "      box-shadow: 0px 1px 3px 1px rgba(0, 0, 0, 0.15);\n",
              "      filter: drop-shadow(0px 1px 2px rgba(0, 0, 0, 0.3));\n",
              "      fill: #FFFFFF;\n",
              "    }\n",
              "  </style>\n",
              "\n",
              "      <script>\n",
              "        const buttonEl =\n",
              "          document.querySelector('#df-34cda760-2149-47cb-9331-bbdff49bf64b button.colab-df-convert');\n",
              "        buttonEl.style.display =\n",
              "          google.colab.kernel.accessAllowed ? 'block' : 'none';\n",
              "\n",
              "        async function convertToInteractive(key) {\n",
              "          const element = document.querySelector('#df-34cda760-2149-47cb-9331-bbdff49bf64b');\n",
              "          const dataTable =\n",
              "            await google.colab.kernel.invokeFunction('convertToInteractive',\n",
              "                                                     [key], {});\n",
              "          if (!dataTable) return;\n",
              "\n",
              "          const docLinkHtml = 'Like what you see? Visit the ' +\n",
              "            '<a target=\"_blank\" href=https://colab.research.google.com/notebooks/data_table.ipynb>data table notebook</a>'\n",
              "            + ' to learn more about interactive tables.';\n",
              "          element.innerHTML = '';\n",
              "          dataTable['output_type'] = 'display_data';\n",
              "          await google.colab.output.renderOutput(dataTable, element);\n",
              "          const docLink = document.createElement('div');\n",
              "          docLink.innerHTML = docLinkHtml;\n",
              "          element.appendChild(docLink);\n",
              "        }\n",
              "      </script>\n",
              "    </div>\n",
              "  </div>\n",
              "  "
            ]
          },
          "metadata": {},
          "execution_count": 2
        }
      ]
    },
    {
      "cell_type": "markdown",
      "source": [
        "## check unique values"
      ],
      "metadata": {
        "id": "VAc0NrSllKbc"
      }
    },
    {
      "cell_type": "code",
      "source": [
        "for i in db.columns:\n",
        "  print(i)\n",
        "  print(db[i].unique())\n",
        "  print()"
      ],
      "metadata": {
        "colab": {
          "base_uri": "https://localhost:8080/"
        },
        "id": "ViJ27TC2lJcE",
        "outputId": "1a1a46aa-4c07-4c24-b86b-8ddfec7858da"
      },
      "execution_count": 3,
      "outputs": [
        {
          "output_type": "stream",
          "name": "stdout",
          "text": [
            "Diabetes_012\n",
            "[0. 2. 1.]\n",
            "\n",
            "HighBP\n",
            "[1. 0.]\n",
            "\n",
            "HighChol\n",
            "[1. 0.]\n",
            "\n",
            "CholCheck\n",
            "[1. 0.]\n",
            "\n",
            "BMI\n",
            "[40. 25. 28. 27. 24. 30. 34. 26. 33. 21. 23. 22. 38. 32. 37. 31. 29. 20.\n",
            " 35. 45. 39. 19. 47. 18. 36. 43. 55. 49. 42. 17. 16. 41. 44. 50. 59. 48.\n",
            " 52. 46. 54. 57. 53. 14. 15. 51. 58. 63. 61. 56. 74. 62. 64. 66. 73. 85.\n",
            " 60. 67. 65. 70. 82. 79. 92. 68. 72. 88. 96. 13. 81. 71. 75. 12. 77. 69.\n",
            " 76. 87. 89. 84. 95. 98. 91. 86. 83. 80. 90. 78.]\n",
            "\n",
            "Smoker\n",
            "[1. 0.]\n",
            "\n",
            "Stroke\n",
            "[0. 1.]\n",
            "\n",
            "HeartDiseaseorAttack\n",
            "[0. 1.]\n",
            "\n",
            "PhysActivity\n",
            "[0. 1.]\n",
            "\n",
            "Fruits\n",
            "[0. 1.]\n",
            "\n",
            "Veggies\n",
            "[1. 0.]\n",
            "\n",
            "HvyAlcoholConsump\n",
            "[0. 1.]\n",
            "\n",
            "AnyHealthcare\n",
            "[1. 0.]\n",
            "\n",
            "NoDocbcCost\n",
            "[0. 1.]\n",
            "\n",
            "GenHlth\n",
            "[5. 3. 2. 4. 1.]\n",
            "\n",
            "MentHlth\n",
            "[18.  0. 30.  3.  5. 15. 10.  6. 20.  2. 25.  1.  4.  7.  8. 21. 14. 26.\n",
            " 29. 16. 28. 11. 12. 24. 17. 13. 27. 19. 22.  9. 23.]\n",
            "\n",
            "PhysHlth\n",
            "[15.  0. 30.  2. 14. 28.  7. 20.  3. 10.  1.  5. 17.  4. 19.  6. 12. 25.\n",
            " 27. 21. 22.  8. 29. 24.  9. 16. 18. 23. 13. 26. 11.]\n",
            "\n",
            "DiffWalk\n",
            "[1. 0.]\n",
            "\n",
            "Sex\n",
            "[0. 1.]\n",
            "\n",
            "Age\n",
            "[ 9.  7. 11. 10.  8. 13.  4.  6.  2. 12.  5.  1.  3.]\n",
            "\n",
            "Education\n",
            "[4. 6. 3. 5. 2. 1.]\n",
            "\n",
            "Income\n",
            "[3. 1. 8. 6. 4. 7. 2. 5.]\n",
            "\n"
          ]
        }
      ]
    },
    {
      "cell_type": "markdown",
      "source": [
        "## balancing labels"
      ],
      "metadata": {
        "id": "bOrFUAyvlY1o"
      }
    },
    {
      "cell_type": "code",
      "source": [
        "label_uni = db['Diabetes_012'].unique().tolist()\n",
        "db_all = []\n",
        "for i in label_uni:\n",
        "  to_append = db[db['Diabetes_012'] == i]\n",
        "  db_all.append(to_append)"
      ],
      "metadata": {
        "id": "de7hePdElY1o"
      },
      "execution_count": 38,
      "outputs": []
    },
    {
      "cell_type": "code",
      "source": [
        "print(db_all[0].head())"
      ],
      "metadata": {
        "colab": {
          "base_uri": "https://localhost:8080/"
        },
        "outputId": "dbb1a77b-ed63-4707-c989-5a2e4e0b14de",
        "id": "3zXW3nb5lY1p"
      },
      "execution_count": 39,
      "outputs": [
        {
          "output_type": "stream",
          "name": "stdout",
          "text": [
            "   Diabetes_012  HighBP  HighChol  CholCheck   BMI  Smoker  Stroke  \\\n",
            "0           0.0     1.0       1.0        1.0  40.0     1.0     0.0   \n",
            "1           0.0     0.0       0.0        0.0  25.0     1.0     0.0   \n",
            "2           0.0     1.0       1.0        1.0  28.0     0.0     0.0   \n",
            "3           0.0     1.0       0.0        1.0  27.0     0.0     0.0   \n",
            "4           0.0     1.0       1.0        1.0  24.0     0.0     0.0   \n",
            "\n",
            "   HeartDiseaseorAttack  PhysActivity  Fruits  ...  AnyHealthcare  \\\n",
            "0                   0.0           0.0     0.0  ...            1.0   \n",
            "1                   0.0           1.0     0.0  ...            0.0   \n",
            "2                   0.0           0.0     1.0  ...            1.0   \n",
            "3                   0.0           1.0     1.0  ...            1.0   \n",
            "4                   0.0           1.0     1.0  ...            1.0   \n",
            "\n",
            "   NoDocbcCost  GenHlth  MentHlth  PhysHlth  DiffWalk  Sex   Age  Education  \\\n",
            "0          0.0      5.0      18.0      15.0       1.0  0.0   9.0        4.0   \n",
            "1          1.0      3.0       0.0       0.0       0.0  0.0   7.0        6.0   \n",
            "2          1.0      5.0      30.0      30.0       1.0  0.0   9.0        4.0   \n",
            "3          0.0      2.0       0.0       0.0       0.0  0.0  11.0        3.0   \n",
            "4          0.0      2.0       3.0       0.0       0.0  0.0  11.0        5.0   \n",
            "\n",
            "   Income  \n",
            "0     3.0  \n",
            "1     1.0  \n",
            "2     8.0  \n",
            "3     6.0  \n",
            "4     4.0  \n",
            "\n",
            "[5 rows x 22 columns]\n"
          ]
        }
      ]
    },
    {
      "cell_type": "code",
      "source": [
        "min_size = 999999999\n",
        "for i in db_all:\n",
        "  if min_size > i.shape[0]:\n",
        "    min_size = i.shape[0]\n"
      ],
      "metadata": {
        "id": "fRVNOJeDlY1p"
      },
      "execution_count": 40,
      "outputs": []
    },
    {
      "cell_type": "code",
      "source": [
        "print(min_size)"
      ],
      "metadata": {
        "colab": {
          "base_uri": "https://localhost:8080/"
        },
        "outputId": "f46d1f86-d58c-4519-d6b4-b8c78d4cbd08",
        "id": "b3X57ayGlY1p"
      },
      "execution_count": 41,
      "outputs": [
        {
          "output_type": "stream",
          "name": "stdout",
          "text": [
            "4631\n"
          ]
        }
      ]
    },
    {
      "cell_type": "code",
      "source": [
        "db_final = []\n",
        "for i in db_all:\n",
        "  db_final.append(i.sample(n=min_size,random_state=123))\n",
        "db_final[2].shape[0]"
      ],
      "metadata": {
        "colab": {
          "base_uri": "https://localhost:8080/"
        },
        "outputId": "e9c9b982-2058-45dc-ab56-7c1529396a57",
        "id": "-wfKGWhylY1p"
      },
      "execution_count": 42,
      "outputs": [
        {
          "output_type": "execute_result",
          "data": {
            "text/plain": [
              "4631"
            ]
          },
          "metadata": {},
          "execution_count": 42
        }
      ]
    },
    {
      "cell_type": "code",
      "source": [
        "db_fin = pd.DataFrame()\n",
        "for i in db_final:\n",
        "  db_fin = pd.concat([db_fin,i],ignore_index=True)"
      ],
      "metadata": {
        "id": "QzMuu40tlY1p"
      },
      "execution_count": 43,
      "outputs": []
    },
    {
      "cell_type": "code",
      "source": [
        "db_fin.shape[0]"
      ],
      "metadata": {
        "colab": {
          "base_uri": "https://localhost:8080/"
        },
        "outputId": "cd7925f6-568f-49c8-e64f-1a10da6e8ca4",
        "id": "eGGoMgS3lY1p"
      },
      "execution_count": 44,
      "outputs": [
        {
          "output_type": "execute_result",
          "data": {
            "text/plain": [
              "13893"
            ]
          },
          "metadata": {},
          "execution_count": 44
        }
      ]
    },
    {
      "cell_type": "markdown",
      "source": [
        "## heatmap matrix by features"
      ],
      "metadata": {
        "id": "3RMmiutml9MY"
      }
    },
    {
      "cell_type": "code",
      "source": [
        "columns = db_fin.columns.tolist()\n",
        "y = db_fin[columns[0]].tolist()\n",
        "columns = columns[1:]\n",
        "for i in columns:\n",
        "  x = db_fin[i].tolist()\n",
        "  x_unique = db_fin[i].unique().tolist()\n",
        "  y_unique = db_fin['Diabetes_012'].unique()\n",
        "  map = {}\n",
        "\n",
        "  for xu in range(len(x_unique)):\n",
        "    map[x_unique[xu]] = xu\n",
        "\n",
        "  matrix = [[0 for _ in range(len(x_unique))] for _ in range(len(y_unique))]\n",
        "  for j in range(len(x)):\n",
        "    y_to = y[j]\n",
        "    x_to = map[x[j]]\n",
        "    matrix[int(y_to)][x_to] += 1\n",
        "\n",
        "  # df_cm_2 = pd.DataFrame(cf_matrix/np.sum(cf_matrix) *10,index = [i for i in classes],\n",
        "  #                      columns = [i for i in classes])\n",
        "\n",
        "  matrix = pd.DataFrame(matrix, columns = x_unique)\n",
        "  # matrix = matrix.apply(lambda x: (x-x.mean())/x.std(), axis = 1)\n",
        "  plt.figure(figsize = (10,10))\n",
        "  sns.heatmap(matrix, cmap='Blues', annot=False)\n",
        "  plt.ylabel('Diabetes_012')\n",
        "  plt.xlabel(i)\n",
        "  plt.show()\n",
        "  print()"
      ],
      "metadata": {
        "colab": {
          "base_uri": "https://localhost:8080/",
          "height": 1000
        },
        "id": "t3rYrEwonUyv",
        "outputId": "3ff462dc-5d17-4aeb-8338-8b821885d388"
      },
      "execution_count": 45,
      "outputs": [
        {
          "output_type": "display_data",
          "data": {
            "text/plain": [
              "<Figure size 720x720 with 2 Axes>"
            ],
            "image/png": "[encoded data removed]"
          },
          "metadata": {
            "needs_background": "light"
          }
        },
        {
          "output_type": "stream",
          "name": "stdout",
          "text": [
            "\n"
          ]
        },
        {
          "output_type": "display_data",
          "data": {
            "text/plain": [
              "<Figure size 720x720 with 2 Axes>"
            ],
            "image/png": "[encoded data removed]"
          },
          "metadata": {
            "needs_background": "light"
          }
        },
        {
          "output_type": "stream",
          "name": "stdout",
          "text": [
            "\n"
          ]
        },
        {
          "output_type": "display_data",
          "data": {
            "text/plain": [
              "<Figure size 720x720 with 2 Axes>"
            ],
            "image/png": "[encoded data removed]"
          },
          "metadata": {
            "needs_background": "light"
          }
        },
        {
          "output_type": "stream",
          "name": "stdout",
          "text": [
            "\n"
          ]
        },
        {
          "output_type": "display_data",
          "data": {
            "text/plain": [
              "<Figure size 720x720 with 2 Axes>"
            ],
            "image/png": "[encoded data removed]"
          },
          "metadata": {
            "needs_background": "light"
          }
        },
        {
          "output_type": "stream",
          "name": "stdout",
          "text": [
            "\n"
          ]
        },
        {
          "output_type": "display_data",
          "data": {
            "text/plain": [
              "<Figure size 720x720 with 2 Axes>"
            ],
            "image/png": "[encoded data removed]"
          },
          "metadata": {
            "needs_background": "light"
          }
        },
        {
          "output_type": "stream",
          "name": "stdout",
          "text": [
            "\n"
          ]
        },
        {
          "output_type": "display_data",
          "data": {
            "text/plain": [
              "<Figure size 720x720 with 2 Axes>"
            ],
            "image/png": "[encoded data removed]"
          },
          "metadata": {
            "needs_background": "light"
          }
        },
        {
          "output_type": "stream",
          "name": "stdout",
          "text": [
            "\n"
          ]
        },
        {
          "output_type": "display_data",
          "data": {
            "text/plain": [
              "<Figure size 720x720 with 2 Axes>"
            ],
            "image/png": "[encoded data removed]"
          },
          "metadata": {
            "needs_background": "light"
          }
        },
        {
          "output_type": "stream",
          "name": "stdout",
          "text": [
            "\n"
          ]
        },
        {
          "output_type": "display_data",
          "data": {
            "text/plain": [
              "<Figure size 720x720 with 2 Axes>"
            ],
            "image/png": "[encoded data removed]"
          },
          "metadata": {
            "needs_background": "light"
          }
        },
        {
          "output_type": "stream",
          "name": "stdout",
          "text": [
            "\n"
          ]
        },
        {
          "output_type": "display_data",
          "data": {
            "text/plain": [
              "<Figure size 720x720 with 2 Axes>"
            ],
            "image/png": "[encoded data removed]"
          },
          "metadata": {
            "needs_background": "light"
          }
        },
        {
          "output_type": "stream",
          "name": "stdout",
          "text": [
            "\n"
          ]
        },
        {
          "output_type": "display_data",
          "data": {
            "text/plain": [
              "<Figure size 720x720 with 2 Axes>"
            ],
            "image/png": "[encoded data removed]"
          },
          "metadata": {
            "needs_background": "light"
          }
        },
        {
          "output_type": "stream",
          "name": "stdout",
          "text": [
            "\n"
          ]
        },
        {
          "output_type": "display_data",
          "data": {
            "text/plain": [
              "<Figure size 720x720 with 2 Axes>"
            ],
            "image/png": "[encoded data removed]"
          },
          "metadata": {
            "needs_background": "light"
          }
        },
        {
          "output_type": "stream",
          "name": "stdout",
          "text": [
            "\n"
          ]
        },
        {
          "output_type": "display_data",
          "data": {
            "text/plain": [
              "<Figure size 720x720 with 2 Axes>"
            ],
            "image/png": "[encoded data removed]"
          },
          "metadata": {
            "needs_background": "light"
          }
        },
        {
          "output_type": "stream",
          "name": "stdout",
          "text": [
            "\n"
          ]
        },
        {
          "output_type": "display_data",
          "data": {
            "text/plain": [
              "<Figure size 720x720 with 2 Axes>"
            ],
            "image/png": "[encoded data removed]"
          },
          "metadata": {
            "needs_background": "light"
          }
        },
        {
          "output_type": "stream",
          "name": "stdout",
          "text": [
            "\n"
          ]
        },
        {
          "output_type": "display_data",
          "data": {
            "text/plain": [
              "<Figure size 720x720 with 2 Axes>"
            ],
            "image/png": "[encoded data removed]"
          },
          "metadata": {
            "needs_background": "light"
          }
        },
        {
          "output_type": "stream",
          "name": "stdout",
          "text": [
            "\n"
          ]
        },
        {
          "output_type": "display_data",
          "data": {
            "text/plain": [
              "<Figure size 720x720 with 2 Axes>"
            ],
            "image/png": "[encoded data removed]"
          },
          "metadata": {
            "needs_background": "light"
          }
        },
        {
          "output_type": "stream",
          "name": "stdout",
          "text": [
            "\n"
          ]
        },
        {
          "output_type": "display_data",
          "data": {
            "text/plain": [
              "<Figure size 720x720 with 2 Axes>"
            ],
            "image/png": "[encoded data removed]"
          },
          "metadata": {
            "needs_background": "light"
          }
        },
        {
          "output_type": "stream",
          "name": "stdout",
          "text": [
            "\n"
          ]
        },
        {
          "output_type": "display_data",
          "data": {
            "text/plain": [
              "<Figure size 720x720 with 2 Axes>"
            ],
            "image/png": "[encoded data removed]"
          },
          "metadata": {
            "needs_background": "light"
          }
        },
        {
          "output_type": "stream",
          "name": "stdout",
          "text": [
            "\n"
          ]
        },
        {
          "output_type": "display_data",
          "data": {
            "text/plain": [
              "<Figure size 720x720 with 2 Axes>"
            ],
            "image/png": "[encoded data removed]"
          },
          "metadata": {
            "needs_background": "light"
          }
        },
        {
          "output_type": "stream",
          "name": "stdout",
          "text": [
            "\n"
          ]
        },
        {
          "output_type": "display_data",
          "data": {
            "text/plain": [
              "<Figure size 720x720 with 2 Axes>"
            ],
            "image/png": "[encoded data removed]"
          },
          "metadata": {
            "needs_background": "light"
          }
        },
        {
          "output_type": "stream",
          "name": "stdout",
          "text": [
            "\n"
          ]
        },
        {
          "output_type": "display_data",
          "data": {
            "text/plain": [
              "<Figure size 720x720 with 2 Axes>"
            ],
            "image/png": "[encoded data removed]"
          },
          "metadata": {
            "needs_background": "light"
          }
        },
        {
          "output_type": "stream",
          "name": "stdout",
          "text": [
            "\n"
          ]
        },
        {
          "output_type": "display_data",
          "data": {
            "text/plain": [
              "<Figure size 720x720 with 2 Axes>"
            ],
            "image/png": "[encoded data removed]"
          },
          "metadata": {
            "needs_background": "light"
          }
        },
        {
          "output_type": "stream",
          "name": "stdout",
          "text": [
            "\n"
          ]
        }
      ]
    },
    {
      "cell_type": "markdown",
      "source": [
        "## 분석"
      ],
      "metadata": {
        "id": "6kafHSktxhuX"
      }
    },
    {
      "cell_type": "markdown",
      "source": [
        "x,y의 관계 에서 진한색의 x값이 겹치면  diabetes와 큰 연관이 없는 feature라고 볼 수 있음\n",
        "<br/>\n",
        "- 대표적 예  \n",
        "\n",
        "CholCheck,Stroke,Veggies,HvyAlcoholConsump,AnyHealthcare,NoDocbcCost,MentHlth\n",
        "\n",
        "\n",
        "<br/>\n",
        "\n",
        "- 전처리 과정에서 column을 drop 하는 것도 noise를 줄이는 방법\n"
      ],
      "metadata": {
        "id": "UR-56ihjwRdA"
      }
    },
    {
      "cell_type": "code",
      "source": [
        "print(len(db.columns.tolist()))\n",
        "to_drop = 'CholCheck,Stroke,Veggies,HvyAlcoholConsump,AnyHealthcare,NoDocbcCost,MentHlth'\n",
        "to_drop = to_drop.replace(' ','')\n",
        "to_drop = to_drop.split(',')\n",
        "print(len(to_drop))"
      ],
      "metadata": {
        "colab": {
          "base_uri": "https://localhost:8080/"
        },
        "id": "K646Y1gFxacE",
        "outputId": "7ae9e4ce-0f9a-4f67-c99d-3ac52972052f"
      },
      "execution_count": 46,
      "outputs": [
        {
          "output_type": "stream",
          "name": "stdout",
          "text": [
            "22\n",
            "7\n"
          ]
        }
      ]
    },
    {
      "cell_type": "markdown",
      "source": [
        "# Data Preprocessing"
      ],
      "metadata": {
        "id": "XfikUy5cP8y4"
      }
    },
    {
      "cell_type": "markdown",
      "source": [
        "## make x y / drop column"
      ],
      "metadata": {
        "id": "IFWNrqMsQmQI"
      }
    },
    {
      "cell_type": "code",
      "source": [
        "##지우기\n",
        "# db = pd.read_csv(root_path + 'diabetes_012_health_indicators_BRFSS2015.csv')\n",
        "# db_fin = db\n",
        "db_fin_n = db_fin.drop(columns=to_drop)"
      ],
      "metadata": {
        "id": "LSn0pyNeyL5W"
      },
      "execution_count": 47,
      "outputs": []
    },
    {
      "cell_type": "code",
      "source": [
        "columns = db_fin.columns.tolist()\n",
        "\n",
        "y_all = db_fin[columns[0]]\n",
        "x_all = db_fin[columns[1:]]"
      ],
      "metadata": {
        "id": "OJycZawAQp3v"
      },
      "execution_count": 48,
      "outputs": []
    },
    {
      "cell_type": "code",
      "source": [
        "columns = db_fin_n.columns.tolist()\n",
        "\n",
        "y_all_n = db_fin_n[columns[0]]\n",
        "x_all_n = db_fin_n[columns[1:]]"
      ],
      "metadata": {
        "id": "0TByXX-9fLGx"
      },
      "execution_count": 49,
      "outputs": []
    },
    {
      "cell_type": "markdown",
      "source": [
        "### normalize"
      ],
      "metadata": {
        "id": "mMcF8TGjayk0"
      }
    },
    {
      "cell_type": "code",
      "source": [
        "\n",
        "x_mean = x_all.mean()\n",
        "x_std = x_all.std()\n",
        "\n",
        "x_all = (x_all - x_mean)/x_all.std()"
      ],
      "metadata": {
        "id": "kQlTefSXaj0v"
      },
      "execution_count": 50,
      "outputs": []
    },
    {
      "cell_type": "code",
      "source": [
        "\n",
        "x_mean_n = x_all_n.mean()\n",
        "x_std_n = x_all_n.std()\n",
        "\n",
        "x_all_n = (x_all_n - x_mean_n)/x_all_n.std()"
      ],
      "metadata": {
        "id": "aSddqaZpfQS0"
      },
      "execution_count": 51,
      "outputs": []
    },
    {
      "cell_type": "code",
      "source": [
        "print(y_all.head())\n",
        "print(x_all.head())"
      ],
      "metadata": {
        "colab": {
          "base_uri": "https://localhost:8080/"
        },
        "id": "SeGRekZgSlTq",
        "outputId": "e91208e4-256f-4b9b-997a-5c0103cd8c5a"
      },
      "execution_count": 52,
      "outputs": [
        {
          "output_type": "stream",
          "name": "stdout",
          "text": [
            "0    0.0\n",
            "1    0.0\n",
            "2    0.0\n",
            "3    0.0\n",
            "4    0.0\n",
            "Name: Diabetes_012, dtype: float64\n",
            "     HighBP  HighChol  CholCheck       BMI    Smoker    Stroke  \\\n",
            "0  0.840533  0.891574   0.143934 -0.733446  1.041192  3.912191   \n",
            "1 -1.189635 -1.121531   0.143934 -0.875055  1.041192 -0.255593   \n",
            "2  0.840533 -1.121531   0.143934 -0.308619  1.041192 -0.255593   \n",
            "3 -1.189635 -1.121531   0.143934 -0.733446  1.041192 -0.255593   \n",
            "4 -1.189635  0.891574   0.143934 -0.450228  1.041192 -0.255593   \n",
            "\n",
            "   HeartDiseaseorAttack  PhysActivity    Fruits   Veggies  ...  AnyHealthcare  \\\n",
            "0              2.440596      0.659244  0.802434  0.529009  ...       0.221895   \n",
            "1             -0.409707      0.659244 -1.246118  0.529009  ...       0.221895   \n",
            "2             -0.409707      0.659244  0.802434  0.529009  ...       0.221895   \n",
            "3             -0.409707     -1.516779  0.802434  0.529009  ...       0.221895   \n",
            "4             -0.409707      0.659244  0.802434  0.529009  ...       0.221895   \n",
            "\n",
            "   NoDocbcCost   GenHlth  MentHlth  PhysHlth  DiffWalk       Sex       Age  \\\n",
            "0    -0.342011  1.953969 -0.470469 -0.091597 -0.592597  1.110636  0.446751   \n",
            "1    -0.342011 -1.728534 -0.107042 -0.388832 -0.592597 -0.900320 -1.333105   \n",
            "2    -0.342011 -0.807908  0.135242  0.403793 -0.592597 -0.900320  0.090780   \n",
            "3    -0.342011 -0.807908 -0.470469 -0.586988 -0.592597 -0.900320  0.446751   \n",
            "4    -0.342011  0.112718 -0.470469  0.899184 -0.592597  1.110636  1.158693   \n",
            "\n",
            "   Education    Income  \n",
            "0   1.070386 -0.270726  \n",
            "1   1.070386  1.102975  \n",
            "2   0.114552  0.187175  \n",
            "3  -0.841283  0.187175  \n",
            "4   1.070386  1.102975  \n",
            "\n",
            "[5 rows x 21 columns]\n"
          ]
        }
      ]
    },
    {
      "cell_type": "code",
      "source": [
        "y_all = y_all.to_numpy()\n",
        "x_all = x_all.to_numpy()"
      ],
      "metadata": {
        "id": "AGdNaH5iSqFT"
      },
      "execution_count": 53,
      "outputs": []
    },
    {
      "cell_type": "code",
      "source": [
        "y_all_n = y_all_n.to_numpy()\n",
        "x_all_n = x_all_n.to_numpy()"
      ],
      "metadata": {
        "id": "1CG2wuO7fXjr"
      },
      "execution_count": 54,
      "outputs": []
    },
    {
      "cell_type": "code",
      "source": [
        "print(y_all.shape)\n",
        "print(x_all.shape)"
      ],
      "metadata": {
        "colab": {
          "base_uri": "https://localhost:8080/"
        },
        "id": "iYHqGOV_SzVO",
        "outputId": "dedee9b4-80e9-4ecd-bf85-939fe1606b3a"
      },
      "execution_count": 55,
      "outputs": [
        {
          "output_type": "stream",
          "name": "stdout",
          "text": [
            "(13893,)\n",
            "(13893, 21)\n"
          ]
        }
      ]
    },
    {
      "cell_type": "code",
      "source": [
        "print(y_all_n.shape)\n",
        "print(x_all_n.shape)"
      ],
      "metadata": {
        "colab": {
          "base_uri": "https://localhost:8080/"
        },
        "id": "fqgZeATQfawk",
        "outputId": "cc5eb470-7f8f-430f-9112-31491b0d70f0"
      },
      "execution_count": 56,
      "outputs": [
        {
          "output_type": "stream",
          "name": "stdout",
          "text": [
            "(13893,)\n",
            "(13893, 14)\n"
          ]
        }
      ]
    },
    {
      "cell_type": "markdown",
      "source": [
        "# Create Dataloader"
      ],
      "metadata": {
        "id": "vdNLOteXXyAK"
      }
    },
    {
      "cell_type": "markdown",
      "source": [
        "## define dataset"
      ],
      "metadata": {
        "id": "Sf0wVRiDX2m0"
      }
    },
    {
      "cell_type": "code",
      "source": [
        "class CustomDataset(Dataset):\n",
        "    def __init__(self, x, label=None):\n",
        "        self.x = x\n",
        "        self.label = label\n",
        "    def __len__(self):\n",
        "        return len(self.x)\n",
        "    \n",
        "    def __getitem__(self, i):\n",
        "        \n",
        "        x_data = self.x[i]\n",
        "\n",
        "        return x_data, torch.tensor(self.label[i])"
      ],
      "metadata": {
        "id": "YwlnmXdbS4At"
      },
      "execution_count": 57,
      "outputs": []
    },
    {
      "cell_type": "markdown",
      "source": [
        "## define dataloader"
      ],
      "metadata": {
        "id": "dzDZWx_FYFgH"
      }
    },
    {
      "cell_type": "code",
      "source": [
        "\n",
        "def get_dataloader(x, y):\n",
        "    # img_list = get_img_list(x)\n",
        "    dataset = CustomDataset(x=x, label=y)\n",
        "\n",
        "    train_dataloader = torch.utils.data.DataLoader(dataset=dataset)\n",
        "\n",
        "    return train_dataloader"
      ],
      "metadata": {
        "id": "lH_SlZhJYGv7"
      },
      "execution_count": 58,
      "outputs": []
    },
    {
      "cell_type": "markdown",
      "source": [
        "## split train valid"
      ],
      "metadata": {
        "id": "aBxAJ-RbYNeG"
      }
    },
    {
      "cell_type": "code",
      "source": [
        "from sklearn.model_selection import train_test_split\n",
        "x_train, x_valid, y_train, y_valid = train_test_split(x_all, y_all, test_size=0.2, shuffle=True, stratify=y_all, random_state=34)\n"
      ],
      "metadata": {
        "id": "E7CXBeQdYPrK"
      },
      "execution_count": 59,
      "outputs": []
    },
    {
      "cell_type": "code",
      "source": [
        "x_train_n, x_valid_n, y_train_n, y_valid_n = train_test_split(x_all_n, y_all_n, test_size=0.2, shuffle=True, stratify=y_all_n, random_state=34)\n"
      ],
      "metadata": {
        "id": "9PB161JCfd9d"
      },
      "execution_count": 60,
      "outputs": []
    },
    {
      "cell_type": "markdown",
      "source": [
        "## create dataloader"
      ],
      "metadata": {
        "id": "J6f5LF9jYggt"
      }
    },
    {
      "cell_type": "code",
      "source": [
        "train_dataloader = get_dataloader(x_train,y_train)\n",
        "valid_dataloader = get_dataloader(x_valid,y_valid)"
      ],
      "metadata": {
        "id": "1QKi17ZBYfEh"
      },
      "execution_count": 61,
      "outputs": []
    },
    {
      "cell_type": "markdown",
      "source": [
        "# KNN"
      ],
      "metadata": {
        "id": "dXXaWM_JYwo5"
      }
    },
    {
      "cell_type": "markdown",
      "source": [
        "## drop"
      ],
      "metadata": {
        "id": "CLc2HD3qfnBw"
      }
    },
    {
      "cell_type": "code",
      "source": [
        "from sklearn.neighbors import KNeighborsClassifier\n",
        "knn = KNeighborsClassifier(n_neighbors=5)\n",
        "knn.fit(x_train , y_train)"
      ],
      "metadata": {
        "colab": {
          "base_uri": "https://localhost:8080/"
        },
        "id": "q0QzaarKYyfB",
        "outputId": "1fdf0973-3327-4130-8aaf-10308d4538ba"
      },
      "execution_count": 62,
      "outputs": [
        {
          "output_type": "execute_result",
          "data": {
            "text/plain": [
              "KNeighborsClassifier()"
            ]
          },
          "metadata": {},
          "execution_count": 62
        }
      ]
    },
    {
      "cell_type": "code",
      "source": [
        "# print('Training set score: {:.4f}'.format(knn.score(x_train, y_train)))\n",
        "print('Test set score: {:.4f}'.format(knn.score(x_valid, y_valid)))"
      ],
      "metadata": {
        "colab": {
          "base_uri": "https://localhost:8080/"
        },
        "id": "E9CxoShccyji",
        "outputId": "d6cf6982-0596-49ca-b6bf-bc993d70c743"
      },
      "execution_count": 63,
      "outputs": [
        {
          "output_type": "stream",
          "name": "stdout",
          "text": [
            "Test set score: 0.4725\n"
          ]
        }
      ]
    },
    {
      "cell_type": "markdown",
      "source": [
        "### hyper tuning"
      ],
      "metadata": {
        "id": "fwd5NeNpdDVK"
      }
    },
    {
      "cell_type": "code",
      "source": [
        "epoch = 30\n",
        "n_best = 1\n",
        "accuracy_l = []\n",
        "accuracy = 0\n",
        "for i in range(1,epoch):\n",
        "  knn = KNeighborsClassifier(n_neighbors=i)\n",
        "  knn.fit(x_train , y_train)\n",
        "  a_in = knn.score(x_valid, y_valid)\n",
        "  accuracy_l.append(a_in)\n",
        "  if  a_in > accuracy:\n",
        "    accuracy = a_in\n",
        "    n_best = i\n",
        "print(n_best)"
      ],
      "metadata": {
        "colab": {
          "base_uri": "https://localhost:8080/"
        },
        "id": "eApMCwGOdEvU",
        "outputId": "91435ddc-7969-4dfd-8f2c-f091453a301d"
      },
      "execution_count": 105,
      "outputs": [
        {
          "output_type": "stream",
          "name": "stdout",
          "text": [
            "29\n"
          ]
        }
      ]
    },
    {
      "cell_type": "code",
      "source": [
        "plt.plot(accuracy_l)\n",
        "plt.xlabel('n_neighbors')\n",
        "plt.ylabel('accuracy')\n",
        "plt.show()"
      ],
      "metadata": {
        "colab": {
          "base_uri": "https://localhost:8080/",
          "height": 280
        },
        "id": "alpiO-K6doOw",
        "outputId": "fedd7a6c-ea55-4ea4-a405-5e48945cf827"
      },
      "execution_count": 106,
      "outputs": [
        {
          "output_type": "display_data",
          "data": {
            "text/plain": [
              "<Figure size 432x288 with 1 Axes>"
            ],
            "image/png": "[encoded data removed]"
          },
          "metadata": {
            "needs_background": "light"
          }
        }
      ]
    },
    {
      "cell_type": "code",
      "source": [
        "from sklearn.metrics import confusion_matrix\n",
        "import seaborn as sns\n",
        "\n",
        "y_pred = knn.predict(x_valid)\n",
        "y_true = y_valid\n",
        "\n",
        "cf_matrix = confusion_matrix(y_true, y_pred)\n",
        "plt.figure(figsize = (12,7))\n",
        "df_cm_2 = pd.DataFrame(cf_matrix/np.sum(cf_matrix) *10)\n",
        "sns.heatmap(df_cm_2, annot=True, cmap='Blues')\n",
        "plt.show"
      ],
      "metadata": {
        "colab": {
          "base_uri": "https://localhost:8080/",
          "height": 446
        },
        "id": "njWgHCUQ6iB6",
        "outputId": "6be3dc95-495c-4a03-b751-b607e51bed9e"
      },
      "execution_count": 108,
      "outputs": [
        {
          "output_type": "execute_result",
          "data": {
            "text/plain": [
              "<function matplotlib.pyplot.show(*args, **kw)>"
            ]
          },
          "metadata": {},
          "execution_count": 108
        },
        {
          "output_type": "display_data",
          "data": {
            "text/plain": [
              "<Figure size 864x504 with 2 Axes>"
            ],
            "image/png": "[encoded data removed]"
          },
          "metadata": {
            "needs_background": "light"
          }
        }
      ]
    },
    {
      "cell_type": "code",
      "source": [
        "knn = KNeighborsClassifier(n_neighbors=53)\n",
        "knn.fit(x_train , y_train)\n",
        "a_in = knn.score(x_valid, y_valid)\n",
        "print(accuracy)"
      ],
      "metadata": {
        "colab": {
          "base_uri": "https://localhost:8080/"
        },
        "id": "rZGjMYikhIoC",
        "outputId": "eb3e13db-3342-4b78-d1db-d5cf1d89079f"
      },
      "execution_count": 109,
      "outputs": [
        {
          "output_type": "stream",
          "name": "stdout",
          "text": [
            "0.4897445124145376\n"
          ]
        }
      ]
    },
    {
      "cell_type": "markdown",
      "source": [
        "## non drop"
      ],
      "metadata": {
        "id": "LCZyR0Lwfump"
      }
    },
    {
      "cell_type": "code",
      "source": [
        "from sklearn.neighbors import KNeighborsClassifier\n",
        "knn = KNeighborsClassifier(n_neighbors=30)\n",
        "knn.fit(x_train_n , y_train_n)"
      ],
      "metadata": {
        "colab": {
          "base_uri": "https://localhost:8080/"
        },
        "outputId": "affa529e-073f-4e13-90e9-456e52acaf4c",
        "id": "Kd8oru9Qfump"
      },
      "execution_count": 110,
      "outputs": [
        {
          "output_type": "execute_result",
          "data": {
            "text/plain": [
              "KNeighborsClassifier(n_neighbors=30)"
            ]
          },
          "metadata": {},
          "execution_count": 110
        }
      ]
    },
    {
      "cell_type": "code",
      "source": [
        "print('Training set score: {:.4f}'.format(knn.score(x_train_n, y_train_n)))\n",
        "\n",
        "print('Test set score: {:.4f}'.format(knn.score(x_valid_n, y_valid_n)))"
      ],
      "metadata": {
        "colab": {
          "base_uri": "https://localhost:8080/"
        },
        "outputId": "2150df17-f621-4e26-f2d4-48f11516ff6d",
        "id": "fuT8f_kPfump"
      },
      "execution_count": 111,
      "outputs": [
        {
          "output_type": "stream",
          "name": "stdout",
          "text": [
            "Training set score: 0.5387\n",
            "Test set score: 0.4847\n"
          ]
        }
      ]
    },
    {
      "cell_type": "markdown",
      "source": [
        "### hyper tuning"
      ],
      "metadata": {
        "id": "BN8ctbGNfump"
      }
    },
    {
      "cell_type": "code",
      "source": [
        "epoch = 30\n",
        "n_best = 1\n",
        "accuracy_l = []\n",
        "accuracy = 0\n",
        "for i in range(1,epoch):\n",
        "  knn = KNeighborsClassifier(n_neighbors=i)\n",
        "  knn.fit(x_train_n , y_train_n)\n",
        "  a_in = knn.score(x_valid_n, y_valid_n)\n",
        "  accuracy_l.append(a_in)\n",
        "  if  a_in > accuracy:\n",
        "    accuracy = a_in\n",
        "    n_best = i\n",
        "print(n_best)"
      ],
      "metadata": {
        "colab": {
          "base_uri": "https://localhost:8080/"
        },
        "outputId": "5fd300d0-f69b-4104-c66a-f26f15c59c28",
        "id": "cpEEquiJfumq"
      },
      "execution_count": 112,
      "outputs": [
        {
          "output_type": "stream",
          "name": "stdout",
          "text": [
            "25\n"
          ]
        }
      ]
    },
    {
      "cell_type": "code",
      "source": [
        "plt.plot(accuracy_l)\n",
        "plt.xlabel('n_neighbors')\n",
        "plt.ylabel('accuracy')\n",
        "plt.show()"
      ],
      "metadata": {
        "colab": {
          "base_uri": "https://localhost:8080/",
          "height": 280
        },
        "outputId": "9f22b4d8-eed1-4473-f10a-56454376e848",
        "id": "7DDfsSfAfumq"
      },
      "execution_count": 113,
      "outputs": [
        {
          "output_type": "display_data",
          "data": {
            "text/plain": [
              "<Figure size 432x288 with 1 Axes>"
            ],
            "image/png": "[encoded data removed]"
          },
          "metadata": {
            "needs_background": "light"
          }
        }
      ]
    },
    {
      "cell_type": "code",
      "source": [
        "from sklearn.metrics import confusion_matrix\n",
        "import seaborn as sns\n",
        "\n",
        "y_pred = knn.predict(x_valid_n)\n",
        "y_true = y_valid_n\n",
        "\n",
        "cf_matrix = confusion_matrix(y_true, y_pred)\n",
        "plt.figure(figsize = (12,7))\n",
        "cf_matrix = cf_matrix/np.sum(cf_matrix) *10\n",
        "sns.heatmap(cf_matrix, annot=True, cmap='Blues')\n",
        "plt.show"
      ],
      "metadata": {
        "colab": {
          "base_uri": "https://localhost:8080/",
          "height": 446
        },
        "id": "OCiPfk-O65Dj",
        "outputId": "0fabf918-07a1-48c8-8186-9b26c61cc4dc"
      },
      "execution_count": 114,
      "outputs": [
        {
          "output_type": "execute_result",
          "data": {
            "text/plain": [
              "<function matplotlib.pyplot.show(*args, **kw)>"
            ]
          },
          "metadata": {},
          "execution_count": 114
        },
        {
          "output_type": "display_data",
          "data": {
            "text/plain": [
              "<Figure size 864x504 with 2 Axes>"
            ],
            "image/png": "[encoded data removed]"
          },
          "metadata": {
            "needs_background": "light"
          }
        }
      ]
    },
    {
      "cell_type": "code",
      "source": [
        "knn = KNeighborsClassifier(n_neighbors=53)\n",
        "knn.fit(x_train_n , y_train_n)\n",
        "a_in = knn.score(x_valid_n, y_valid_n)\n",
        "print(accuracy)"
      ],
      "metadata": {
        "colab": {
          "base_uri": "https://localhost:8080/"
        },
        "id": "uFn1NkFKhK4j",
        "outputId": "5e52818f-02ce-43b1-c0ca-9ad9c051962d"
      },
      "execution_count": 115,
      "outputs": [
        {
          "output_type": "stream",
          "name": "stdout",
          "text": [
            "0.49010435408420294\n"
          ]
        }
      ]
    },
    {
      "cell_type": "markdown",
      "source": [
        "#  ExtraTreesClassifier"
      ],
      "metadata": {
        "id": "R-6gE_sr7B5o"
      }
    },
    {
      "cell_type": "markdown",
      "source": [
        "## drop"
      ],
      "metadata": {
        "id": "BEP2qx0Q8ja0"
      }
    },
    {
      "cell_type": "code",
      "source": [
        "from sklearn.ensemble import ExtraTreesClassifier\n",
        "etc = ExtraTreesClassifier()\n",
        "\n",
        "etc.fit(x_train,y_train)\n",
        "\n",
        "yhat = etc.predict(x_valid)\n",
        "from sklearn import metrics\n",
        "print('Train set Accuracy :',metrics.accuracy_score(y_train,etc.predict(x_train))*100)\n",
        "print('Test set Accuracy :',metrics.accuracy_score(y_valid,yhat)*100)"
      ],
      "metadata": {
        "colab": {
          "base_uri": "https://localhost:8080/"
        },
        "id": "TD2FwvUf7Cqd",
        "outputId": "48be415a-90cc-474f-c71a-63d85fd64597"
      },
      "execution_count": 116,
      "outputs": [
        {
          "output_type": "stream",
          "name": "stdout",
          "text": [
            "Train set Accuracy : 99.79305380601043\n",
            "Test set Accuracy : 47.607052896725435\n"
          ]
        }
      ]
    },
    {
      "cell_type": "code",
      "source": [
        "from sklearn.metrics import confusion_matrix\n",
        "import seaborn as sns\n",
        "\n",
        "y_pred = etc.predict(x_valid)\n",
        "y_true = y_valid\n",
        "\n",
        "cf_matrix = confusion_matrix(y_true, y_pred)\n",
        "cf_matrix = cf_matrix/np.sum(cf_matrix) *10\n",
        "plt.figure(figsize = (12,7))\n",
        "sns.heatmap(cf_matrix, annot=True, cmap='Blues')\n",
        "plt.show"
      ],
      "metadata": {
        "colab": {
          "base_uri": "https://localhost:8080/",
          "height": 446
        },
        "id": "CgXpeksY7cTD",
        "outputId": "4f014736-b06b-4b4b-dbc2-a7e06c045dd7"
      },
      "execution_count": 118,
      "outputs": [
        {
          "output_type": "execute_result",
          "data": {
            "text/plain": [
              "<function matplotlib.pyplot.show(*args, **kw)>"
            ]
          },
          "metadata": {},
          "execution_count": 118
        },
        {
          "output_type": "display_data",
          "data": {
            "text/plain": [
              "<Figure size 864x504 with 2 Axes>"
            ],
            "image/png": "[encoded data removed]"
          },
          "metadata": {
            "needs_background": "light"
          }
        }
      ]
    },
    {
      "cell_type": "markdown",
      "source": [
        "## non drop"
      ],
      "metadata": {
        "id": "R3BPUGbb8lAG"
      }
    },
    {
      "cell_type": "code",
      "source": [
        "from sklearn.ensemble import ExtraTreesClassifier\n",
        "etc = ExtraTreesClassifier()\n",
        "\n",
        "etc.fit(x_train_n,y_train_n)\n",
        "\n",
        "yhat = etc.predict(x_valid_n)\n",
        "from sklearn import metrics\n",
        "print('Train set Accuracy :',metrics.accuracy_score(y_train_n,etc.predict(x_train_n))*100)\n",
        "print('Test set Accuracy :',metrics.accuracy_score(y_valid_n,yhat)*100)"
      ],
      "metadata": {
        "colab": {
          "base_uri": "https://localhost:8080/"
        },
        "id": "GgO4SyjD7ReL",
        "outputId": "5d51a8e4-3eb5-46a1-e2d7-d5d50763b2d0"
      },
      "execution_count": 119,
      "outputs": [
        {
          "output_type": "stream",
          "name": "stdout",
          "text": [
            "Train set Accuracy : 99.52312398776319\n",
            "Test set Accuracy : 46.59949622166247\n"
          ]
        }
      ]
    },
    {
      "cell_type": "code",
      "source": [
        "from sklearn.metrics import confusion_matrix\n",
        "import seaborn as sns\n",
        "\n",
        "y_pred = etc.predict(x_valid_n)\n",
        "y_true = y_valid_n\n",
        "\n",
        "cf_matrix = confusion_matrix(y_true, y_pred)\n",
        "cf_matrix = cf_matrix/np.sum(cf_matrix) *10\n",
        "plt.figure(figsize = (12,7))\n",
        "sns.heatmap(cf_matrix, annot=True, cmap='Blues')\n",
        "plt.show"
      ],
      "metadata": {
        "colab": {
          "base_uri": "https://localhost:8080/",
          "height": 446
        },
        "id": "kahK0lch8RZC",
        "outputId": "d0a99c81-fc2d-45ec-879d-42bf575d09ff"
      },
      "execution_count": 120,
      "outputs": [
        {
          "output_type": "execute_result",
          "data": {
            "text/plain": [
              "<function matplotlib.pyplot.show(*args, **kw)>"
            ]
          },
          "metadata": {},
          "execution_count": 120
        },
        {
          "output_type": "display_data",
          "data": {
            "text/plain": [
              "<Figure size 864x504 with 2 Axes>"
            ],
            "image/png": "[encoded data removed]"
          },
          "metadata": {
            "needs_background": "light"
          }
        }
      ]
    },
    {
      "cell_type": "code",
      "source": [
        "np.save('x_train', x_train)\n",
        "np.save('y_train', y_train)\n",
        "np.save('x_train_n', x_train_n)\n",
        "np.save('y_train_n', y_train_n)\n"
      ],
      "metadata": {
        "id": "Vn_cQNm7-rMi"
      },
      "execution_count": 121,
      "outputs": []
    }
  ]
}